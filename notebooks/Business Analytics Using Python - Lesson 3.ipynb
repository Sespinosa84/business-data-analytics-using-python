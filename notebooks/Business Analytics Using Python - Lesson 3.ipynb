{
 "cells": [
  {
   "cell_type": "markdown",
   "metadata": {},
   "source": [
    "<font color = red>Introduction to Business Analytics:<br>Using Python for Better Business Decisions</font>\n",
    "=======\n",
    "<br>\n",
    "    <center><img src=\"http://dataanalyticscorp.com/wp-content/uploads/2018/03/logo.png\"></center>\n",
    "<br>\n",
    "Taught by: \n",
    "\n",
    "* Walter R. Paczkowski, Ph.D. \n",
    "\n",
    "    * My Affliations: [Data Analytics Corp.](http://www.dataanalyticscorp.com/) and [Rutgers University](https://economics.rutgers.edu/people/teaching-personnel)\n",
    "    * [Email Me With Questions](mailto:walt@dataanalyticscorp.com)\n",
    "    * [Learn About Me](http://www.dataanalyticscorp.com/)\n",
    "    * [See My LinkedIn Profile](https://www.linkedin.com/in/walter-paczkowski-a17a1511/)\n",
    "    "
   ]
  },
  {
   "cell_type": "markdown",
   "metadata": {},
   "source": [
    "# <font color = blue> Lesson \\#3:<br>Predictive Modeling: Introduction to Machine Learning </font>\n",
    "\n",
    "In this lesson, you will learn:\n",
    "\n",
    "1. to divide your data set into training and testing sets;\n",
    "2. estimate *OLS* and Logistic models; and\n",
    "3. grow decision trees."
   ]
  },
  {
   "cell_type": "markdown",
   "metadata": {},
   "source": [
    "## <font color = black> Reset the Data from Lesson 1 </font>\n",
    "\n",
    "Resetting the data will ensure that the work you did in Lesson 1 is available in this lesson."
   ]
  },
  {
   "cell_type": "code",
   "execution_count": 2,
   "metadata": {},
   "outputs": [],
   "source": [
    "##\n",
    "## Load packages\n",
    "##\n",
    "import numpy as np\n",
    "import pandas as pd\n",
    "import seaborn as sns\n",
    "import matplotlib.pyplot as plt\n",
    "%matplotlib inline\n",
    "sns.set()\n",
    "##\n",
    "## Import the data.  The parse_dates argument says to \n",
    "## treat Tdate as a date object.\n",
    "##\n",
    "file = r'../data/orders.csv'\n",
    "df_orders = pd.read_csv( file, parse_dates = [ 'Tdate' ] )\n",
    "pd.set_option('display.max_columns', 8)\n",
    "##\n",
    "## Initial Calculations\n",
    "##\n",
    "x = [ 'Ddisc', 'Odisc', 'Cdisc', 'Pdisc' ]\n",
    "df_orders[ 'Tdisc' ] = df_orders[ x ].sum( axis = 1 )\n",
    "##\n",
    "df_orders[ 'Pprice' ] = df_orders.Lprice - df_orders.Tdisc\n",
    "##\n",
    "df_orders[ 'Rev' ] = df_orders.Usales * df_orders.Pprice\n",
    "##\n",
    "df_orders[ 'Con' ] = df_orders.Rev - df_orders.Mcost\n",
    "df_orders[ 'CM' ] = df_orders.Con/df_orders.Rev\n",
    "##\n",
    "df_orders[ 'netRev' ] = ( df_orders.Usales - df_orders.returnAmount )*df_orders.Pprice\n",
    "df_orders[ 'lostRev' ] = df_orders.Rev - df_orders.netRev\n",
    "##\n",
    "##\n",
    "## Import a second DataFrame on the customers\n",
    "##\n",
    "file = r'../data/customers.csv'\n",
    "df_cust = pd.read_csv( file )\n",
    "##\n",
    "## Do an inner join using CID as the link\n",
    "##\n",
    "df = pd.merge( df_orders, df_cust, on = 'CID' )"
   ]
  },
  {
   "cell_type": "markdown",
   "metadata": {},
   "source": [
    "## <font color = black> Steps for Predictive Modeling </font>\n",
    "\n",
    "There are three steps for predictive modeling:\n",
    "\n",
    "1. Split your data into two parts: Training and Testing;\n",
    "2. Train a model with the training data set; and\n",
    "3. Test the trained model with the testing data set.\n",
    "\n",
    "The following sections will illustrate these steps."
   ]
  },
  {
   "cell_type": "markdown",
   "metadata": {},
   "source": [
    "### <font color = black> Steps for Predictive Modeling: Train/Test Split Data </font>\n",
    "\n",
    "The data are split into two parts using *sklearn*.  Each part has a *X* variable array and a *y* vector (The upper and lower cases are conventional).  The *X* array is a Pandas DataFrame of the *X* variables.  The *y* vector is a Pandas Series."
   ]
  },
  {
   "cell_type": "code",
   "execution_count": 3,
   "metadata": {},
   "outputs": [],
   "source": [
    "##\n",
    "## Import train_test_split\n",
    "##\n",
    "from sklearn.model_selection import train_test_split"
   ]
  },
  {
   "cell_type": "code",
   "execution_count": 4,
   "metadata": {},
   "outputs": [],
   "source": [
    "##\n",
    "## Create the X and y data for splitting\n",
    "##\n",
    "y = df[ 'Usales' ]\n",
    "x = [ 'Pprice', 'Ddisc', 'Odisc', 'Cdisc', 'Pdisc', 'Region' ]\n",
    "X = df[ x ]\n",
    "##\n",
    "## Split the data.  The default is 3/4 train.\n",
    "##\n",
    "X_train, X_test, y_train, y_test = train_test_split( X, y, test_size=0.25,\n",
    "                                                    random_state = 42 ) "
   ]
  },
  {
   "cell_type": "code",
   "execution_count": 5,
   "metadata": {
    "scrolled": true
   },
   "outputs": [
    {
     "name": "stdout",
     "output_type": "stream",
     "text": [
      "Samples: %d %d\n",
      "X: 52702, y: 17568\n",
      "\n",
      "Training Data: \n",
      "       Pprice  Ddisc  Odisc  Cdisc  Pdisc   Region\n",
      "29834   6.504  0.114  0.035  0.044  0.053     West\n",
      "64348   8.327  0.180  0.033  0.067  0.053  Midwest\n",
      "63453   7.821  0.154  0.073  0.066  0.056  Midwest\n",
      "36311   7.248  0.176  0.074  0.043  0.059  Midwest\n",
      "17132   5.292  0.115  0.073  0.077  0.053     West\n",
      "\n",
      "\n",
      "Testing Data: \n",
      "47248    20\n",
      "26829    44\n",
      "32662    19\n",
      "40571    41\n",
      "57362    34\n",
      "Name: Usales, dtype: int64\n"
     ]
    }
   ],
   "source": [
    "##\n",
    "## Display some data\n",
    "##\n",
    "print(\"Samples: %d %d\\nX: {}, y: {}\\n\".format( X_train.shape[0], y_test.shape[0] ) )\n",
    "print( 'Training Data: \\n{}'.format( X_train.head() ) )\n",
    "print( \"\\n\" )\n",
    "print( 'Testing Data: \\n{}'.format( y_test.head() ))"
   ]
  },
  {
   "cell_type": "code",
   "execution_count": 6,
   "metadata": {},
   "outputs": [
    {
     "data": {
      "text/html": [
       "<div>\n",
       "<style scoped>\n",
       "    .dataframe tbody tr th:only-of-type {\n",
       "        vertical-align: middle;\n",
       "    }\n",
       "\n",
       "    .dataframe tbody tr th {\n",
       "        vertical-align: top;\n",
       "    }\n",
       "\n",
       "    .dataframe thead th {\n",
       "        text-align: right;\n",
       "    }\n",
       "</style>\n",
       "<table border=\"1\" class=\"dataframe\">\n",
       "  <thead>\n",
       "    <tr style=\"text-align: right;\">\n",
       "      <th></th>\n",
       "      <th>Usales</th>\n",
       "      <th>Pprice</th>\n",
       "      <th>Ddisc</th>\n",
       "      <th>Odisc</th>\n",
       "      <th>Cdisc</th>\n",
       "      <th>Pdisc</th>\n",
       "      <th>Region</th>\n",
       "    </tr>\n",
       "  </thead>\n",
       "  <tbody>\n",
       "    <tr>\n",
       "      <th>29834</th>\n",
       "      <td>37</td>\n",
       "      <td>6.504</td>\n",
       "      <td>0.114</td>\n",
       "      <td>0.035</td>\n",
       "      <td>0.044</td>\n",
       "      <td>0.053</td>\n",
       "      <td>West</td>\n",
       "    </tr>\n",
       "    <tr>\n",
       "      <th>64348</th>\n",
       "      <td>35</td>\n",
       "      <td>8.327</td>\n",
       "      <td>0.180</td>\n",
       "      <td>0.033</td>\n",
       "      <td>0.067</td>\n",
       "      <td>0.053</td>\n",
       "      <td>Midwest</td>\n",
       "    </tr>\n",
       "    <tr>\n",
       "      <th>63453</th>\n",
       "      <td>24</td>\n",
       "      <td>7.821</td>\n",
       "      <td>0.154</td>\n",
       "      <td>0.073</td>\n",
       "      <td>0.066</td>\n",
       "      <td>0.056</td>\n",
       "      <td>Midwest</td>\n",
       "    </tr>\n",
       "    <tr>\n",
       "      <th>36311</th>\n",
       "      <td>20</td>\n",
       "      <td>7.248</td>\n",
       "      <td>0.176</td>\n",
       "      <td>0.074</td>\n",
       "      <td>0.043</td>\n",
       "      <td>0.059</td>\n",
       "      <td>Midwest</td>\n",
       "    </tr>\n",
       "    <tr>\n",
       "      <th>17132</th>\n",
       "      <td>10</td>\n",
       "      <td>5.292</td>\n",
       "      <td>0.115</td>\n",
       "      <td>0.073</td>\n",
       "      <td>0.077</td>\n",
       "      <td>0.053</td>\n",
       "      <td>West</td>\n",
       "    </tr>\n",
       "  </tbody>\n",
       "</table>\n",
       "</div>"
      ],
      "text/plain": [
       "       Usales  Pprice  Ddisc  Odisc  Cdisc  Pdisc   Region\n",
       "29834      37   6.504  0.114  0.035  0.044  0.053     West\n",
       "64348      35   8.327  0.180  0.033  0.067  0.053  Midwest\n",
       "63453      24   7.821  0.154  0.073  0.066  0.056  Midwest\n",
       "36311      20   7.248  0.176  0.074  0.043  0.059  Midwest\n",
       "17132      10   5.292  0.115  0.073  0.077  0.053     West"
      ]
     },
     "execution_count": 6,
     "metadata": {},
     "output_type": "execute_result"
    }
   ],
   "source": [
    "## \n",
    "## Merge the X and y training data for \n",
    "## model training.\n",
    "##\n",
    "## Rename the y variable: Usales\n",
    "##\n",
    "yy = pd.DataFrame( { 'Usales':y_train } )\n",
    "train = yy.merge( X_train, left_index = True, right_index = True )\n",
    "train.head()"
   ]
  },
  {
   "cell_type": "code",
   "execution_count": 7,
   "metadata": {},
   "outputs": [
    {
     "data": {
      "text/html": [
       "<div>\n",
       "<style scoped>\n",
       "    .dataframe tbody tr th:only-of-type {\n",
       "        vertical-align: middle;\n",
       "    }\n",
       "\n",
       "    .dataframe tbody tr th {\n",
       "        vertical-align: top;\n",
       "    }\n",
       "\n",
       "    .dataframe thead th {\n",
       "        text-align: right;\n",
       "    }\n",
       "</style>\n",
       "<table border=\"1\" class=\"dataframe\">\n",
       "  <thead>\n",
       "    <tr style=\"text-align: right;\">\n",
       "      <th></th>\n",
       "      <th>Usales</th>\n",
       "      <th>Pprice</th>\n",
       "      <th>Ddisc</th>\n",
       "      <th>Odisc</th>\n",
       "      <th>Cdisc</th>\n",
       "      <th>Pdisc</th>\n",
       "      <th>Region</th>\n",
       "    </tr>\n",
       "  </thead>\n",
       "  <tbody>\n",
       "    <tr>\n",
       "      <th>47248</th>\n",
       "      <td>20</td>\n",
       "      <td>6.939</td>\n",
       "      <td>0.150</td>\n",
       "      <td>0.053</td>\n",
       "      <td>0.039</td>\n",
       "      <td>0.049</td>\n",
       "      <td>West</td>\n",
       "    </tr>\n",
       "    <tr>\n",
       "      <th>26829</th>\n",
       "      <td>44</td>\n",
       "      <td>5.925</td>\n",
       "      <td>0.084</td>\n",
       "      <td>0.048</td>\n",
       "      <td>0.064</td>\n",
       "      <td>0.059</td>\n",
       "      <td>South</td>\n",
       "    </tr>\n",
       "    <tr>\n",
       "      <th>32662</th>\n",
       "      <td>19</td>\n",
       "      <td>6.975</td>\n",
       "      <td>0.117</td>\n",
       "      <td>0.033</td>\n",
       "      <td>0.045</td>\n",
       "      <td>0.060</td>\n",
       "      <td>West</td>\n",
       "    </tr>\n",
       "    <tr>\n",
       "      <th>40571</th>\n",
       "      <td>41</td>\n",
       "      <td>7.279</td>\n",
       "      <td>0.166</td>\n",
       "      <td>0.063</td>\n",
       "      <td>0.040</td>\n",
       "      <td>0.052</td>\n",
       "      <td>Midwest</td>\n",
       "    </tr>\n",
       "    <tr>\n",
       "      <th>57362</th>\n",
       "      <td>34</td>\n",
       "      <td>7.978</td>\n",
       "      <td>0.071</td>\n",
       "      <td>0.028</td>\n",
       "      <td>0.047</td>\n",
       "      <td>0.046</td>\n",
       "      <td>West</td>\n",
       "    </tr>\n",
       "  </tbody>\n",
       "</table>\n",
       "</div>"
      ],
      "text/plain": [
       "       Usales  Pprice  Ddisc  Odisc  Cdisc  Pdisc   Region\n",
       "47248      20   6.939  0.150  0.053  0.039  0.049     West\n",
       "26829      44   5.925  0.084  0.048  0.064  0.059    South\n",
       "32662      19   6.975  0.117  0.033  0.045  0.060     West\n",
       "40571      41   7.279  0.166  0.063  0.040  0.052  Midwest\n",
       "57362      34   7.978  0.071  0.028  0.047  0.046     West"
      ]
     },
     "execution_count": 7,
     "metadata": {},
     "output_type": "execute_result"
    }
   ],
   "source": [
    "## \n",
    "## Merge the X and y testing data sets for predicting\n",
    "##\n",
    "## Rename the y variable Usales\n",
    "##\n",
    "yy = pd.DataFrame( { 'Usales':y_test } )\n",
    "test = yy.merge( X_test, left_index = True, right_index = True )\n",
    "test.head()"
   ]
  },
  {
   "cell_type": "code",
   "execution_count": 8,
   "metadata": {},
   "outputs": [
    {
     "name": "stdout",
     "output_type": "stream",
     "text": [
      "       Usales  Pprice  Ddisc  Odisc     ...      Pdisc   Region log_Usales  \\\n",
      "29834      37   6.504  0.114  0.035     ...      0.053     West   3.637586   \n",
      "64348      35   8.327  0.180  0.033     ...      0.053  Midwest   3.583519   \n",
      "63453      24   7.821  0.154  0.073     ...      0.056  Midwest   3.218876   \n",
      "36311      20   7.248  0.176  0.074     ...      0.059  Midwest   3.044522   \n",
      "17132      10   5.292  0.115  0.073     ...      0.053     West   2.397895   \n",
      "\n",
      "       log_Pprice  \n",
      "29834    2.015436  \n",
      "64348    2.232913  \n",
      "63453    2.177135  \n",
      "36311    2.109971  \n",
      "17132    1.839279  \n",
      "\n",
      "[5 rows x 9 columns]\n",
      "\n",
      "\n",
      "(52702, 9)\n"
     ]
    }
   ],
   "source": [
    "##\n",
    "## Add log Usales and log Pprice to the training data\n",
    "## The log is based on the Numpy function log1p\n",
    "## Note: log1p( x ) = log( 1 + x )\n",
    "##\n",
    "train[ 'log_Usales' ] = np.log1p( train.Usales )\n",
    "train[ 'log_Pprice' ] = np.log1p( train.Pprice )\n",
    "print( train.head() )\n",
    "print( \"\\n\" )\n",
    "print( train.shape )"
   ]
  },
  {
   "cell_type": "code",
   "execution_count": 9,
   "metadata": {},
   "outputs": [
    {
     "name": "stdout",
     "output_type": "stream",
     "text": [
      "       Usales  Pprice  Ddisc  Odisc     ...      Pdisc   Region log_Usales  \\\n",
      "47248      20   6.939  0.150  0.053     ...      0.049     West   3.044522   \n",
      "26829      44   5.925  0.084  0.048     ...      0.059    South   3.806662   \n",
      "32662      19   6.975  0.117  0.033     ...      0.060     West   2.995732   \n",
      "40571      41   7.279  0.166  0.063     ...      0.052  Midwest   3.737670   \n",
      "57362      34   7.978  0.071  0.028     ...      0.046     West   3.555348   \n",
      "\n",
      "       log_Pprice  \n",
      "47248    2.071787  \n",
      "26829    1.935138  \n",
      "32662    2.076312  \n",
      "40571    2.113722  \n",
      "57362    2.194777  \n",
      "\n",
      "[5 rows x 9 columns]\n",
      "\n",
      "\n",
      "(17568, 9)\n"
     ]
    }
   ],
   "source": [
    "##\n",
    "## Repeat for the testing data\n",
    "##\n",
    "test[ 'log_Usales' ] = np.log1p( test.Usales )\n",
    "test[ 'log_Pprice' ] = np.log1p( test.Pprice )\n",
    "print( test.head() )\n",
    "print( \"\\n\" )\n",
    "print( test.shape )"
   ]
  },
  {
   "cell_type": "markdown",
   "metadata": {},
   "source": [
    "### <font color = black> Steps for Predictive Modeling: Training a Model </font>\n",
    "\n",
    "I will cover two predictive models:\n",
    "\n",
    "1. *OLS*\n",
    "2. Logit\n",
    "\n",
    "Which one is used depends on the dependent variable which can be continuous or discrete.  There are two cases corresponding to the two predictive models:\n",
    "\n",
    "- Case I: Continuous Dependent Variable -- *OLS* Regression\n",
    "- Case II: Binary Dependent Variable -- Logistic Regression"
   ]
  },
  {
   "cell_type": "markdown",
   "metadata": {},
   "source": [
    "#### <font color = black> Case I: OLS Regression </font>\n",
    "\n",
    "Model unit sales as a function of the pocket price to get a price elasticity.  Recall that you are using log terms and that the estimated coefficient for log price is the elasticity.\n",
    "\n",
    "**Recommendation**:  Use formulas to specify the model.  You need the *statsmodels.formula* api for this."
   ]
  },
  {
   "cell_type": "code",
   "execution_count": 10,
   "metadata": {
    "scrolled": false
   },
   "outputs": [
    {
     "name": "stdout",
     "output_type": "stream",
     "text": [
      "                            OLS Regression Results                            \n",
      "==============================================================================\n",
      "Dep. Variable:             log_Usales   R-squared:                       0.199\n",
      "Model:                            OLS   Adj. R-squared:                  0.199\n",
      "Method:                 Least Squares   F-statistic:                     1639.\n",
      "Date:                Mon, 11 Feb 2019   Prob (F-statistic):               0.00\n",
      "Time:                        21:50:36   Log-Likelihood:                -36298.\n",
      "No. Observations:               52690   AIC:                         7.261e+04\n",
      "Df Residuals:                   52681   BIC:                         7.269e+04\n",
      "Df Model:                           8                                         \n",
      "Covariance Type:            nonrobust                                         \n",
      "==========================================================================================\n",
      "                             coef    std err          t      P>|t|      [0.025      0.975]\n",
      "------------------------------------------------------------------------------------------\n",
      "Intercept                  6.0898      0.036    169.251      0.000       6.019       6.160\n",
      "C(Region)[T.Northeast]     0.0080      0.007      1.114      0.265      -0.006       0.022\n",
      "C(Region)[T.South]        -0.0044      0.007     -0.642      0.521      -0.018       0.009\n",
      "C(Region)[T.West]         -0.0036      0.005     -0.679      0.497      -0.014       0.007\n",
      "log_Pprice                -1.5944      0.015   -103.263      0.000      -1.625      -1.564\n",
      "Ddisc                      1.8367      0.062     29.674      0.000       1.715       1.958\n",
      "Odisc                      1.9116      0.145     13.145      0.000       1.627       2.197\n",
      "Cdisc                      1.6285      0.104     15.637      0.000       1.424       1.833\n",
      "Pdisc                      1.6540      0.182      9.101      0.000       1.298       2.010\n",
      "==============================================================================\n",
      "Omnibus:                       33.230   Durbin-Watson:                   1.997\n",
      "Prob(Omnibus):                  0.000   Jarque-Bera (JB):               33.297\n",
      "Skew:                           0.061   Prob(JB):                     5.88e-08\n",
      "Kurtosis:                       2.985   Cond. No.                         202.\n",
      "==============================================================================\n",
      "\n",
      "Warnings:\n",
      "[1] Standard Errors assume that the covariance matrix of the errors is correctly specified.\n"
     ]
    }
   ],
   "source": [
    "## \n",
    "## OLS\n",
    "##\n",
    "## For modeling, notice the new import command for\n",
    "## the formula API and the summary option\n",
    "##\n",
    "import statsmodels.api as sm\n",
    "import statsmodels.formula.api as smf \n",
    "##\n",
    "## There are four steps for estimatng a model:\n",
    "##   1. define a formula (i.e., the specific model to estimate)\n",
    "##   2. instantiate the model (i.e., specify it)\n",
    "##   3. fit the model\n",
    "##   4. summarize the fitted model\n",
    "##\n",
    "## ===> Step 1: Define a formula\n",
    "##\n",
    "## The formula uses a “~” to separate the left-hand side from the right-hand side\n",
    "## of a model and a “+” to add columns to the right-hand side.  A “-” sign (not \n",
    "## used here) can be used to remove columns from the right-hand side (e.g.,\n",
    "## remove or omit the constant term which is always included by default). \n",
    "##\n",
    "formula = 'log_Usales ~ log_Pprice + Ddisc + Odisc + Cdisc + Pdisc + C( Region )'\n",
    "##\n",
    "## Since Region is categorical, you must create dummies for the regions.  You\n",
    "## do this using 'C( Region )' to indicate that Region is categorical.\n",
    "##\n",
    "## ===> Step 2: Instantiate the OLS model\n",
    "##\n",
    "mod = smf.ols( formula, data = train )\n",
    "##\n",
    "## ===> Step 3: Fit the instantiated model\n",
    "##      Recommendation: number your models\n",
    "##\n",
    "reg01 = mod.fit()\n",
    "##\n",
    "## ===> Step 4: Summarize the fitted model\n",
    "##\n",
    "print( reg01.summary() )"
   ]
  },
  {
   "cell_type": "markdown",
   "metadata": {},
   "source": [
    "The price elasticity is -1.6 so blinds are highly elastic.  This should be expected since furniture is a competitive business and blinds are very competitive."
   ]
  },
  {
   "cell_type": "markdown",
   "metadata": {},
   "source": [
    "#### <font color = black> Analyzing the Results </font>\n",
    "\n",
    "Quantities of interest can be extracted directly from the fitted model. Type dir(results) for a full list.  For example, here is the $R^2$- adjusted."
   ]
  },
  {
   "cell_type": "code",
   "execution_count": 11,
   "metadata": {},
   "outputs": [
    {
     "name": "stdout",
     "output_type": "stream",
     "text": [
      "R2: 0.199\n"
     ]
    }
   ],
   "source": [
    "##\n",
    "## You can retrieve results since they are attributes of the fit\n",
    "##\n",
    "print( 'R2: {}'.format( round( reg01.rsquared_adj , 3 ) ) )"
   ]
  },
  {
   "cell_type": "markdown",
   "metadata": {},
   "source": [
    "Since the product manager wanted to know about a region effect, you should do an F-test of all the coefficients for the regions to determine if they are all zero, meaning that the dummies as a group do nothing.  This is a <u>joint</u> test of significance.  The test statistic is:\n",
    "\n",
    "\n",
    "$F_C = \\dfrac{\\left(SSR_U - SSR_R\\right)/(df_U - df_R)}{SSE_U/(n - p - 1)} = \\dfrac{\\left(SSE_R - SSE_U\\right)/(df_U - df_R)}{SSE_U/(n - p - 1)}$\n",
    "\n",
    "\n",
    "where \"U\" indicates the *unrestricted* or *full* model with the Region dummies and \"R\" indicates the *restricted* model without the Region dummies."
   ]
  },
  {
   "cell_type": "code",
   "execution_count": 12,
   "metadata": {},
   "outputs": [
    {
     "data": {
      "text/plain": [
       "'<F test: F=array([[ 1.10149735]]), p=0.34702796708877287, df_denom=52681, df_num=3>'"
      ]
     },
     "execution_count": 12,
     "metadata": {},
     "output_type": "execute_result"
    }
   ],
   "source": [
    "##\n",
    "## Specify the joint (Null) hypothesis that the regions are the same;\n",
    "## i.e., there is no region effect.\n",
    "##\n",
    "hypothesis = ' ( C(Region)[T.Northeast] = 0, C(Region)[T.South] = 0, C(Region)[T.West] = 0 ) '\n",
    "##\n",
    "## Run and print an F-test \n",
    "##\n",
    "f_test = reg01.f_test( hypothesis )\n",
    "f_test.summary()"
   ]
  },
  {
   "cell_type": "markdown",
   "metadata": {},
   "source": [
    "The p-value is 0.35 so the Null Hypothesis is not rejected: there is no Region effect."
   ]
  },
  {
   "cell_type": "code",
   "execution_count": 13,
   "metadata": {},
   "outputs": [
    {
     "data": {
      "text/plain": [
       "'<F test: F=array([[ 346.62653588]]), p=4.447236150551179e-295, df_denom=52681, df_num=4>'"
      ]
     },
     "execution_count": 13,
     "metadata": {},
     "output_type": "execute_result"
    }
   ],
   "source": [
    "##\n",
    "## Repeat the F-test for the discounts\n",
    "##\n",
    "hypothesis = ' ( Ddisc = 0, Odisc = 0, Cdisc = 0, Pdisc = 0 ) '\n",
    "##\n",
    "## Run and print an F-test \n",
    "##\n",
    "f_test = reg01.f_test( hypothesis )\n",
    "f_test.summary()"
   ]
  },
  {
   "cell_type": "markdown",
   "metadata": {},
   "source": [
    "Notice that the p-value is 4.4e-295.  This means the decimal point is shifted to the LEFT 295 places.  The p-value is definitely 0.0.  So the Null Hypothesis that the discounts all have the same effect is rejected."
   ]
  },
  {
   "cell_type": "markdown",
   "metadata": {},
   "source": [
    "Check for multicollinearity -- a linear relationship among the variables.  Use the *variance inflation factor* (*VIF*).  A rule-of-thumb is that any $VIF > 10$ indicates a problem."
   ]
  },
  {
   "cell_type": "code",
   "execution_count": 14,
   "metadata": {},
   "outputs": [
    {
     "data": {
      "text/html": [
       "<div>\n",
       "<style scoped>\n",
       "    .dataframe tbody tr th:only-of-type {\n",
       "        vertical-align: middle;\n",
       "    }\n",
       "\n",
       "    .dataframe tbody tr th {\n",
       "        vertical-align: top;\n",
       "    }\n",
       "\n",
       "    .dataframe thead th {\n",
       "        text-align: right;\n",
       "    }\n",
       "</style>\n",
       "<table border=\"1\" class=\"dataframe\">\n",
       "  <thead>\n",
       "    <tr style=\"text-align: right;\">\n",
       "      <th></th>\n",
       "      <th>C(Region)[T.Northeast]</th>\n",
       "      <th>C(Region)[T.South]</th>\n",
       "      <th>C(Region)[T.West]</th>\n",
       "      <th>log_Pprice</th>\n",
       "      <th>Ddisc</th>\n",
       "      <th>Odisc</th>\n",
       "      <th>Cdisc</th>\n",
       "      <th>Pdisc</th>\n",
       "    </tr>\n",
       "  </thead>\n",
       "  <tbody>\n",
       "    <tr>\n",
       "      <th>C(Region)[T.Northeast]</th>\n",
       "      <td>1.000000</td>\n",
       "      <td>-0.203478</td>\n",
       "      <td>-0.289209</td>\n",
       "      <td>-0.061162</td>\n",
       "      <td>0.086516</td>\n",
       "      <td>-0.000433</td>\n",
       "      <td>0.000730</td>\n",
       "      <td>-0.002427</td>\n",
       "    </tr>\n",
       "    <tr>\n",
       "      <th>C(Region)[T.South]</th>\n",
       "      <td>-0.203478</td>\n",
       "      <td>1.000000</td>\n",
       "      <td>-0.414611</td>\n",
       "      <td>0.045284</td>\n",
       "      <td>-0.557095</td>\n",
       "      <td>0.004688</td>\n",
       "      <td>-0.001707</td>\n",
       "      <td>0.008857</td>\n",
       "    </tr>\n",
       "    <tr>\n",
       "      <th>C(Region)[T.West]</th>\n",
       "      <td>-0.289209</td>\n",
       "      <td>-0.414611</td>\n",
       "      <td>1.000000</td>\n",
       "      <td>-0.027880</td>\n",
       "      <td>0.233695</td>\n",
       "      <td>-0.001989</td>\n",
       "      <td>0.010484</td>\n",
       "      <td>-0.003635</td>\n",
       "    </tr>\n",
       "    <tr>\n",
       "      <th>log_Pprice</th>\n",
       "      <td>-0.061162</td>\n",
       "      <td>0.045284</td>\n",
       "      <td>-0.027880</td>\n",
       "      <td>1.000000</td>\n",
       "      <td>-0.051064</td>\n",
       "      <td>-0.020608</td>\n",
       "      <td>-0.022905</td>\n",
       "      <td>-0.009624</td>\n",
       "    </tr>\n",
       "    <tr>\n",
       "      <th>Ddisc</th>\n",
       "      <td>0.086516</td>\n",
       "      <td>-0.557095</td>\n",
       "      <td>0.233695</td>\n",
       "      <td>-0.051064</td>\n",
       "      <td>1.000000</td>\n",
       "      <td>0.004371</td>\n",
       "      <td>-0.000274</td>\n",
       "      <td>-0.005678</td>\n",
       "    </tr>\n",
       "    <tr>\n",
       "      <th>Odisc</th>\n",
       "      <td>-0.000433</td>\n",
       "      <td>0.004688</td>\n",
       "      <td>-0.001989</td>\n",
       "      <td>-0.020608</td>\n",
       "      <td>0.004371</td>\n",
       "      <td>1.000000</td>\n",
       "      <td>0.004143</td>\n",
       "      <td>0.004392</td>\n",
       "    </tr>\n",
       "    <tr>\n",
       "      <th>Cdisc</th>\n",
       "      <td>0.000730</td>\n",
       "      <td>-0.001707</td>\n",
       "      <td>0.010484</td>\n",
       "      <td>-0.022905</td>\n",
       "      <td>-0.000274</td>\n",
       "      <td>0.004143</td>\n",
       "      <td>1.000000</td>\n",
       "      <td>-0.000395</td>\n",
       "    </tr>\n",
       "    <tr>\n",
       "      <th>Pdisc</th>\n",
       "      <td>-0.002427</td>\n",
       "      <td>0.008857</td>\n",
       "      <td>-0.003635</td>\n",
       "      <td>-0.009624</td>\n",
       "      <td>-0.005678</td>\n",
       "      <td>0.004392</td>\n",
       "      <td>-0.000395</td>\n",
       "      <td>1.000000</td>\n",
       "    </tr>\n",
       "  </tbody>\n",
       "</table>\n",
       "</div>"
      ],
      "text/plain": [
       "                        C(Region)[T.Northeast]  C(Region)[T.South]  \\\n",
       "C(Region)[T.Northeast]                1.000000           -0.203478   \n",
       "C(Region)[T.South]                   -0.203478            1.000000   \n",
       "C(Region)[T.West]                    -0.289209           -0.414611   \n",
       "log_Pprice                           -0.061162            0.045284   \n",
       "Ddisc                                 0.086516           -0.557095   \n",
       "Odisc                                -0.000433            0.004688   \n",
       "Cdisc                                 0.000730           -0.001707   \n",
       "Pdisc                                -0.002427            0.008857   \n",
       "\n",
       "                        C(Region)[T.West]  log_Pprice     Ddisc     Odisc  \\\n",
       "C(Region)[T.Northeast]          -0.289209   -0.061162  0.086516 -0.000433   \n",
       "C(Region)[T.South]              -0.414611    0.045284 -0.557095  0.004688   \n",
       "C(Region)[T.West]                1.000000   -0.027880  0.233695 -0.001989   \n",
       "log_Pprice                      -0.027880    1.000000 -0.051064 -0.020608   \n",
       "Ddisc                            0.233695   -0.051064  1.000000  0.004371   \n",
       "Odisc                           -0.001989   -0.020608  0.004371  1.000000   \n",
       "Cdisc                            0.010484   -0.022905 -0.000274  0.004143   \n",
       "Pdisc                           -0.003635   -0.009624 -0.005678  0.004392   \n",
       "\n",
       "                           Cdisc     Pdisc  \n",
       "C(Region)[T.Northeast]  0.000730 -0.002427  \n",
       "C(Region)[T.South]     -0.001707  0.008857  \n",
       "C(Region)[T.West]       0.010484 -0.003635  \n",
       "log_Pprice             -0.022905 -0.009624  \n",
       "Ddisc                  -0.000274 -0.005678  \n",
       "Odisc                   0.004143  0.004392  \n",
       "Cdisc                   1.000000 -0.000395  \n",
       "Pdisc                  -0.000395  1.000000  "
      ]
     },
     "execution_count": 14,
     "metadata": {},
     "output_type": "execute_result"
    }
   ],
   "source": [
    "##\n",
    "## Subset the design matrix to eliminate the first column of 1s\n",
    "## the iloc method says to find the location of columns based on \n",
    "## their integer locations (i.e., 0, 1, 2, etc.)\n",
    "## the term in brackets says to find all rows (the : ) and all \n",
    "## columns from the first to the end (1: )\n",
    "##\n",
    "## Create the correlation matrix\n",
    "##\n",
    "x = reg01.model.data.orig_exog.iloc[ :, 1: ] \n",
    "corr_matrix = x.corr()\n",
    "corr_matrix"
   ]
  },
  {
   "cell_type": "code",
   "execution_count": 15,
   "metadata": {
    "scrolled": false
   },
   "outputs": [
    {
     "data": {
      "text/plain": [
       "Text(0.5,1,'Heatmap of the Correlation Matrix')"
      ]
     },
     "execution_count": 15,
     "metadata": {},
     "output_type": "execute_result"
    },
    {
     "data": {
      "image/png": "[encoded data removed]",
      "text/plain": [
       "<Figure size 432x288 with 2 Axes>"
      ]
     },
     "metadata": {},
     "output_type": "display_data"
    }
   ],
   "source": [
    "##\n",
    "## Graph the correlation matrix\n",
    "##\n",
    "sns.heatmap( corr_matrix ).set_title( 'Heatmap of the Correlation Matrix' )"
   ]
  },
  {
   "cell_type": "code",
   "execution_count": 16,
   "metadata": {},
   "outputs": [
    {
     "data": {
      "text/html": [
       "<style  type=\"text/css\" >\n",
       "    #T_15cbb978_2e47_11e9_b6b3_0242ac110002row0_col0 {\n",
       "            background-color:  #4479bb;\n",
       "        }    #T_15cbb978_2e47_11e9_b6b3_0242ac110002row0_col1 {\n",
       "            background-color:  #dc546f;\n",
       "        }    #T_15cbb978_2e47_11e9_b6b3_0242ac110002row0_col2 {\n",
       "            background-color:  #d73c5b;\n",
       "        }    #T_15cbb978_2e47_11e9_b6b3_0242ac110002row0_col3 {\n",
       "            background-color:  #e47c91;\n",
       "        }    #T_15cbb978_2e47_11e9_b6b3_0242ac110002row0_col4 {\n",
       "            background-color:  #eda6b4;\n",
       "        }    #T_15cbb978_2e47_11e9_b6b3_0242ac110002row0_col5 {\n",
       "            background-color:  #e88d9f;\n",
       "        }    #T_15cbb978_2e47_11e9_b6b3_0242ac110002row0_col6 {\n",
       "            background-color:  #e88d9f;\n",
       "        }    #T_15cbb978_2e47_11e9_b6b3_0242ac110002row0_col7 {\n",
       "            background-color:  #e78c9e;\n",
       "        }    #T_15cbb978_2e47_11e9_b6b3_0242ac110002row1_col0 {\n",
       "            background-color:  #e88ea0;\n",
       "        }    #T_15cbb978_2e47_11e9_b6b3_0242ac110002row1_col1 {\n",
       "            background-color:  #4479bb;\n",
       "        }    #T_15cbb978_2e47_11e9_b6b3_0242ac110002row1_col2 {\n",
       "            background-color:  #de5c76;\n",
       "        }    #T_15cbb978_2e47_11e9_b6b3_0242ac110002row1_col3 {\n",
       "            background-color:  #f4c9d2;\n",
       "        }    #T_15cbb978_2e47_11e9_b6b3_0242ac110002row1_col4 {\n",
       "            background-color:  #d73c5b;\n",
       "        }    #T_15cbb978_2e47_11e9_b6b3_0242ac110002row1_col5 {\n",
       "            background-color:  #f2bfca;\n",
       "        }    #T_15cbb978_2e47_11e9_b6b3_0242ac110002row1_col6 {\n",
       "            background-color:  #f2bdc8;\n",
       "        }    #T_15cbb978_2e47_11e9_b6b3_0242ac110002row1_col7 {\n",
       "            background-color:  #f2c1cb;\n",
       "        }    #T_15cbb978_2e47_11e9_b6b3_0242ac110002row2_col0 {\n",
       "            background-color:  #de5b75;\n",
       "        }    #T_15cbb978_2e47_11e9_b6b3_0242ac110002row2_col1 {\n",
       "            background-color:  #d73c5b;\n",
       "        }    #T_15cbb978_2e47_11e9_b6b3_0242ac110002row2_col2 {\n",
       "            background-color:  #4479bb;\n",
       "        }    #T_15cbb978_2e47_11e9_b6b3_0242ac110002row2_col3 {\n",
       "            background-color:  #eb9ead;\n",
       "        }    #T_15cbb978_2e47_11e9_b6b3_0242ac110002row2_col4 {\n",
       "            background-color:  #f9e3e7;\n",
       "        }    #T_15cbb978_2e47_11e9_b6b3_0242ac110002row2_col5 {\n",
       "            background-color:  #eda6b4;\n",
       "        }    #T_15cbb978_2e47_11e9_b6b3_0242ac110002row2_col6 {\n",
       "            background-color:  #eda8b6;\n",
       "        }    #T_15cbb978_2e47_11e9_b6b3_0242ac110002row2_col7 {\n",
       "            background-color:  #eda6b4;\n",
       "        }    #T_15cbb978_2e47_11e9_b6b3_0242ac110002row3_col0 {\n",
       "            background-color:  #d73c5b;\n",
       "        }    #T_15cbb978_2e47_11e9_b6b3_0242ac110002row3_col1 {\n",
       "            background-color:  #de5f79;\n",
       "        }    #T_15cbb978_2e47_11e9_b6b3_0242ac110002row3_col2 {\n",
       "            background-color:  #d94764;\n",
       "        }    #T_15cbb978_2e47_11e9_b6b3_0242ac110002row3_col3 {\n",
       "            background-color:  #4479bb;\n",
       "        }    #T_15cbb978_2e47_11e9_b6b3_0242ac110002row3_col4 {\n",
       "            background-color:  #d83e5d;\n",
       "        }    #T_15cbb978_2e47_11e9_b6b3_0242ac110002row3_col5 {\n",
       "            background-color:  #da4865;\n",
       "        }    #T_15cbb978_2e47_11e9_b6b3_0242ac110002row3_col6 {\n",
       "            background-color:  #da4865;\n",
       "        }    #T_15cbb978_2e47_11e9_b6b3_0242ac110002row3_col7 {\n",
       "            background-color:  #db4d69;\n",
       "        }    #T_15cbb978_2e47_11e9_b6b3_0242ac110002row4_col0 {\n",
       "            background-color:  #f6d2d9;\n",
       "        }    #T_15cbb978_2e47_11e9_b6b3_0242ac110002row4_col1 {\n",
       "            background-color:  #d73c5b;\n",
       "        }    #T_15cbb978_2e47_11e9_b6b3_0242ac110002row4_col2 {\n",
       "            background-color:  #f2f2f2;\n",
       "        }    #T_15cbb978_2e47_11e9_b6b3_0242ac110002row4_col3 {\n",
       "            background-color:  #efb2bf;\n",
       "        }    #T_15cbb978_2e47_11e9_b6b3_0242ac110002row4_col4 {\n",
       "            background-color:  #4479bb;\n",
       "        }    #T_15cbb978_2e47_11e9_b6b3_0242ac110002row4_col5 {\n",
       "            background-color:  #f2bfca;\n",
       "        }    #T_15cbb978_2e47_11e9_b6b3_0242ac110002row4_col6 {\n",
       "            background-color:  #f2bdc8;\n",
       "        }    #T_15cbb978_2e47_11e9_b6b3_0242ac110002row4_col7 {\n",
       "            background-color:  #f1bcc7;\n",
       "        }    #T_15cbb978_2e47_11e9_b6b3_0242ac110002row5_col0 {\n",
       "            background-color:  #d94261;\n",
       "        }    #T_15cbb978_2e47_11e9_b6b3_0242ac110002row5_col1 {\n",
       "            background-color:  #d94462;\n",
       "        }    #T_15cbb978_2e47_11e9_b6b3_0242ac110002row5_col2 {\n",
       "            background-color:  #d8415f;\n",
       "        }    #T_15cbb978_2e47_11e9_b6b3_0242ac110002row5_col3 {\n",
       "            background-color:  #d73c5b;\n",
       "        }    #T_15cbb978_2e47_11e9_b6b3_0242ac110002row5_col4 {\n",
       "            background-color:  #d94462;\n",
       "        }    #T_15cbb978_2e47_11e9_b6b3_0242ac110002row5_col5 {\n",
       "            background-color:  #4479bb;\n",
       "        }    #T_15cbb978_2e47_11e9_b6b3_0242ac110002row5_col6 {\n",
       "            background-color:  #d94462;\n",
       "        }    #T_15cbb978_2e47_11e9_b6b3_0242ac110002row5_col7 {\n",
       "            background-color:  #d94462;\n",
       "        }    #T_15cbb978_2e47_11e9_b6b3_0242ac110002row6_col0 {\n",
       "            background-color:  #d94261;\n",
       "        }    #T_15cbb978_2e47_11e9_b6b3_0242ac110002row6_col1 {\n",
       "            background-color:  #d94261;\n",
       "        }    #T_15cbb978_2e47_11e9_b6b3_0242ac110002row6_col2 {\n",
       "            background-color:  #d94764;\n",
       "        }    #T_15cbb978_2e47_11e9_b6b3_0242ac110002row6_col3 {\n",
       "            background-color:  #d73c5b;\n",
       "        }    #T_15cbb978_2e47_11e9_b6b3_0242ac110002row6_col4 {\n",
       "            background-color:  #d94261;\n",
       "        }    #T_15cbb978_2e47_11e9_b6b3_0242ac110002row6_col5 {\n",
       "            background-color:  #d94462;\n",
       "        }    #T_15cbb978_2e47_11e9_b6b3_0242ac110002row6_col6 {\n",
       "            background-color:  #4479bb;\n",
       "        }    #T_15cbb978_2e47_11e9_b6b3_0242ac110002row6_col7 {\n",
       "            background-color:  #d94261;\n",
       "        }    #T_15cbb978_2e47_11e9_b6b3_0242ac110002row7_col0 {\n",
       "            background-color:  #d73d5c;\n",
       "        }    #T_15cbb978_2e47_11e9_b6b3_0242ac110002row7_col1 {\n",
       "            background-color:  #d8415f;\n",
       "        }    #T_15cbb978_2e47_11e9_b6b3_0242ac110002row7_col2 {\n",
       "            background-color:  #d73d5c;\n",
       "        }    #T_15cbb978_2e47_11e9_b6b3_0242ac110002row7_col3 {\n",
       "            background-color:  #d73c5b;\n",
       "        }    #T_15cbb978_2e47_11e9_b6b3_0242ac110002row7_col4 {\n",
       "            background-color:  #d73d5c;\n",
       "        }    #T_15cbb978_2e47_11e9_b6b3_0242ac110002row7_col5 {\n",
       "            background-color:  #d8405e;\n",
       "        }    #T_15cbb978_2e47_11e9_b6b3_0242ac110002row7_col6 {\n",
       "            background-color:  #d83e5d;\n",
       "        }    #T_15cbb978_2e47_11e9_b6b3_0242ac110002row7_col7 {\n",
       "            background-color:  #4479bb;\n",
       "        }</style>  \n",
       "<table id=\"T_15cbb978_2e47_11e9_b6b3_0242ac110002\" > \n",
       "<thead>    <tr> \n",
       "        <th class=\"blank level0\" ></th> \n",
       "        <th class=\"col_heading level0 col0\" >C(Region)[T.Northeast]</th> \n",
       "        <th class=\"col_heading level0 col1\" >C(Region)[T.South]</th> \n",
       "        <th class=\"col_heading level0 col2\" >C(Region)[T.West]</th> \n",
       "        <th class=\"col_heading level0 col3\" >log_Pprice</th> \n",
       "        <th class=\"col_heading level0 col4\" >Ddisc</th> \n",
       "        <th class=\"col_heading level0 col5\" >Odisc</th> \n",
       "        <th class=\"col_heading level0 col6\" >Cdisc</th> \n",
       "        <th class=\"col_heading level0 col7\" >Pdisc</th> \n",
       "    </tr></thead> \n",
       "<tbody>    <tr> \n",
       "        <th id=\"T_15cbb978_2e47_11e9_b6b3_0242ac110002level0_row0\" class=\"row_heading level0 row0\" >C(Region)[T.Northeast]</th> \n",
       "        <td id=\"T_15cbb978_2e47_11e9_b6b3_0242ac110002row0_col0\" class=\"data row0 col0\" >1</td> \n",
       "        <td id=\"T_15cbb978_2e47_11e9_b6b3_0242ac110002row0_col1\" class=\"data row0 col1\" >-0.2</td> \n",
       "        <td id=\"T_15cbb978_2e47_11e9_b6b3_0242ac110002row0_col2\" class=\"data row0 col2\" >-0.3</td> \n",
       "        <td id=\"T_15cbb978_2e47_11e9_b6b3_0242ac110002row0_col3\" class=\"data row0 col3\" >-0.06</td> \n",
       "        <td id=\"T_15cbb978_2e47_11e9_b6b3_0242ac110002row0_col4\" class=\"data row0 col4\" >0.09</td> \n",
       "        <td id=\"T_15cbb978_2e47_11e9_b6b3_0242ac110002row0_col5\" class=\"data row0 col5\" >-0.0004</td> \n",
       "        <td id=\"T_15cbb978_2e47_11e9_b6b3_0242ac110002row0_col6\" class=\"data row0 col6\" >0.0007</td> \n",
       "        <td id=\"T_15cbb978_2e47_11e9_b6b3_0242ac110002row0_col7\" class=\"data row0 col7\" >-0.002</td> \n",
       "    </tr>    <tr> \n",
       "        <th id=\"T_15cbb978_2e47_11e9_b6b3_0242ac110002level0_row1\" class=\"row_heading level0 row1\" >C(Region)[T.South]</th> \n",
       "        <td id=\"T_15cbb978_2e47_11e9_b6b3_0242ac110002row1_col0\" class=\"data row1 col0\" >-0.2</td> \n",
       "        <td id=\"T_15cbb978_2e47_11e9_b6b3_0242ac110002row1_col1\" class=\"data row1 col1\" >1</td> \n",
       "        <td id=\"T_15cbb978_2e47_11e9_b6b3_0242ac110002row1_col2\" class=\"data row1 col2\" >-0.4</td> \n",
       "        <td id=\"T_15cbb978_2e47_11e9_b6b3_0242ac110002row1_col3\" class=\"data row1 col3\" >0.05</td> \n",
       "        <td id=\"T_15cbb978_2e47_11e9_b6b3_0242ac110002row1_col4\" class=\"data row1 col4\" >-0.6</td> \n",
       "        <td id=\"T_15cbb978_2e47_11e9_b6b3_0242ac110002row1_col5\" class=\"data row1 col5\" >0.005</td> \n",
       "        <td id=\"T_15cbb978_2e47_11e9_b6b3_0242ac110002row1_col6\" class=\"data row1 col6\" >-0.002</td> \n",
       "        <td id=\"T_15cbb978_2e47_11e9_b6b3_0242ac110002row1_col7\" class=\"data row1 col7\" >0.009</td> \n",
       "    </tr>    <tr> \n",
       "        <th id=\"T_15cbb978_2e47_11e9_b6b3_0242ac110002level0_row2\" class=\"row_heading level0 row2\" >C(Region)[T.West]</th> \n",
       "        <td id=\"T_15cbb978_2e47_11e9_b6b3_0242ac110002row2_col0\" class=\"data row2 col0\" >-0.3</td> \n",
       "        <td id=\"T_15cbb978_2e47_11e9_b6b3_0242ac110002row2_col1\" class=\"data row2 col1\" >-0.4</td> \n",
       "        <td id=\"T_15cbb978_2e47_11e9_b6b3_0242ac110002row2_col2\" class=\"data row2 col2\" >1</td> \n",
       "        <td id=\"T_15cbb978_2e47_11e9_b6b3_0242ac110002row2_col3\" class=\"data row2 col3\" >-0.03</td> \n",
       "        <td id=\"T_15cbb978_2e47_11e9_b6b3_0242ac110002row2_col4\" class=\"data row2 col4\" >0.2</td> \n",
       "        <td id=\"T_15cbb978_2e47_11e9_b6b3_0242ac110002row2_col5\" class=\"data row2 col5\" >-0.002</td> \n",
       "        <td id=\"T_15cbb978_2e47_11e9_b6b3_0242ac110002row2_col6\" class=\"data row2 col6\" >0.01</td> \n",
       "        <td id=\"T_15cbb978_2e47_11e9_b6b3_0242ac110002row2_col7\" class=\"data row2 col7\" >-0.004</td> \n",
       "    </tr>    <tr> \n",
       "        <th id=\"T_15cbb978_2e47_11e9_b6b3_0242ac110002level0_row3\" class=\"row_heading level0 row3\" >log_Pprice</th> \n",
       "        <td id=\"T_15cbb978_2e47_11e9_b6b3_0242ac110002row3_col0\" class=\"data row3 col0\" >-0.06</td> \n",
       "        <td id=\"T_15cbb978_2e47_11e9_b6b3_0242ac110002row3_col1\" class=\"data row3 col1\" >0.05</td> \n",
       "        <td id=\"T_15cbb978_2e47_11e9_b6b3_0242ac110002row3_col2\" class=\"data row3 col2\" >-0.03</td> \n",
       "        <td id=\"T_15cbb978_2e47_11e9_b6b3_0242ac110002row3_col3\" class=\"data row3 col3\" >1</td> \n",
       "        <td id=\"T_15cbb978_2e47_11e9_b6b3_0242ac110002row3_col4\" class=\"data row3 col4\" >-0.05</td> \n",
       "        <td id=\"T_15cbb978_2e47_11e9_b6b3_0242ac110002row3_col5\" class=\"data row3 col5\" >-0.02</td> \n",
       "        <td id=\"T_15cbb978_2e47_11e9_b6b3_0242ac110002row3_col6\" class=\"data row3 col6\" >-0.02</td> \n",
       "        <td id=\"T_15cbb978_2e47_11e9_b6b3_0242ac110002row3_col7\" class=\"data row3 col7\" >-0.01</td> \n",
       "    </tr>    <tr> \n",
       "        <th id=\"T_15cbb978_2e47_11e9_b6b3_0242ac110002level0_row4\" class=\"row_heading level0 row4\" >Ddisc</th> \n",
       "        <td id=\"T_15cbb978_2e47_11e9_b6b3_0242ac110002row4_col0\" class=\"data row4 col0\" >0.09</td> \n",
       "        <td id=\"T_15cbb978_2e47_11e9_b6b3_0242ac110002row4_col1\" class=\"data row4 col1\" >-0.6</td> \n",
       "        <td id=\"T_15cbb978_2e47_11e9_b6b3_0242ac110002row4_col2\" class=\"data row4 col2\" >0.2</td> \n",
       "        <td id=\"T_15cbb978_2e47_11e9_b6b3_0242ac110002row4_col3\" class=\"data row4 col3\" >-0.05</td> \n",
       "        <td id=\"T_15cbb978_2e47_11e9_b6b3_0242ac110002row4_col4\" class=\"data row4 col4\" >1</td> \n",
       "        <td id=\"T_15cbb978_2e47_11e9_b6b3_0242ac110002row4_col5\" class=\"data row4 col5\" >0.004</td> \n",
       "        <td id=\"T_15cbb978_2e47_11e9_b6b3_0242ac110002row4_col6\" class=\"data row4 col6\" >-0.0003</td> \n",
       "        <td id=\"T_15cbb978_2e47_11e9_b6b3_0242ac110002row4_col7\" class=\"data row4 col7\" >-0.006</td> \n",
       "    </tr>    <tr> \n",
       "        <th id=\"T_15cbb978_2e47_11e9_b6b3_0242ac110002level0_row5\" class=\"row_heading level0 row5\" >Odisc</th> \n",
       "        <td id=\"T_15cbb978_2e47_11e9_b6b3_0242ac110002row5_col0\" class=\"data row5 col0\" >-0.0004</td> \n",
       "        <td id=\"T_15cbb978_2e47_11e9_b6b3_0242ac110002row5_col1\" class=\"data row5 col1\" >0.005</td> \n",
       "        <td id=\"T_15cbb978_2e47_11e9_b6b3_0242ac110002row5_col2\" class=\"data row5 col2\" >-0.002</td> \n",
       "        <td id=\"T_15cbb978_2e47_11e9_b6b3_0242ac110002row5_col3\" class=\"data row5 col3\" >-0.02</td> \n",
       "        <td id=\"T_15cbb978_2e47_11e9_b6b3_0242ac110002row5_col4\" class=\"data row5 col4\" >0.004</td> \n",
       "        <td id=\"T_15cbb978_2e47_11e9_b6b3_0242ac110002row5_col5\" class=\"data row5 col5\" >1</td> \n",
       "        <td id=\"T_15cbb978_2e47_11e9_b6b3_0242ac110002row5_col6\" class=\"data row5 col6\" >0.004</td> \n",
       "        <td id=\"T_15cbb978_2e47_11e9_b6b3_0242ac110002row5_col7\" class=\"data row5 col7\" >0.004</td> \n",
       "    </tr>    <tr> \n",
       "        <th id=\"T_15cbb978_2e47_11e9_b6b3_0242ac110002level0_row6\" class=\"row_heading level0 row6\" >Cdisc</th> \n",
       "        <td id=\"T_15cbb978_2e47_11e9_b6b3_0242ac110002row6_col0\" class=\"data row6 col0\" >0.0007</td> \n",
       "        <td id=\"T_15cbb978_2e47_11e9_b6b3_0242ac110002row6_col1\" class=\"data row6 col1\" >-0.002</td> \n",
       "        <td id=\"T_15cbb978_2e47_11e9_b6b3_0242ac110002row6_col2\" class=\"data row6 col2\" >0.01</td> \n",
       "        <td id=\"T_15cbb978_2e47_11e9_b6b3_0242ac110002row6_col3\" class=\"data row6 col3\" >-0.02</td> \n",
       "        <td id=\"T_15cbb978_2e47_11e9_b6b3_0242ac110002row6_col4\" class=\"data row6 col4\" >-0.0003</td> \n",
       "        <td id=\"T_15cbb978_2e47_11e9_b6b3_0242ac110002row6_col5\" class=\"data row6 col5\" >0.004</td> \n",
       "        <td id=\"T_15cbb978_2e47_11e9_b6b3_0242ac110002row6_col6\" class=\"data row6 col6\" >1</td> \n",
       "        <td id=\"T_15cbb978_2e47_11e9_b6b3_0242ac110002row6_col7\" class=\"data row6 col7\" >-0.0004</td> \n",
       "    </tr>    <tr> \n",
       "        <th id=\"T_15cbb978_2e47_11e9_b6b3_0242ac110002level0_row7\" class=\"row_heading level0 row7\" >Pdisc</th> \n",
       "        <td id=\"T_15cbb978_2e47_11e9_b6b3_0242ac110002row7_col0\" class=\"data row7 col0\" >-0.002</td> \n",
       "        <td id=\"T_15cbb978_2e47_11e9_b6b3_0242ac110002row7_col1\" class=\"data row7 col1\" >0.009</td> \n",
       "        <td id=\"T_15cbb978_2e47_11e9_b6b3_0242ac110002row7_col2\" class=\"data row7 col2\" >-0.004</td> \n",
       "        <td id=\"T_15cbb978_2e47_11e9_b6b3_0242ac110002row7_col3\" class=\"data row7 col3\" >-0.01</td> \n",
       "        <td id=\"T_15cbb978_2e47_11e9_b6b3_0242ac110002row7_col4\" class=\"data row7 col4\" >-0.006</td> \n",
       "        <td id=\"T_15cbb978_2e47_11e9_b6b3_0242ac110002row7_col5\" class=\"data row7 col5\" >0.004</td> \n",
       "        <td id=\"T_15cbb978_2e47_11e9_b6b3_0242ac110002row7_col6\" class=\"data row7 col6\" >-0.0004</td> \n",
       "        <td id=\"T_15cbb978_2e47_11e9_b6b3_0242ac110002row7_col7\" class=\"data row7 col7\" >1</td> \n",
       "    </tr></tbody> \n",
       "</table> "
      ],
      "text/plain": [
       "<pandas.io.formats.style.Styler at 0x7f3fd2a40860>"
      ]
     },
     "execution_count": 16,
     "metadata": {},
     "output_type": "execute_result"
    }
   ],
   "source": [
    "## \n",
    "## A fancy version of the heatmap\n",
    "## Based on: https://stackoverflow.com/questions/39409866/correlation-heatmap\n",
    "##\n",
    "cmap = cmap = sns.diverging_palette( 5, 250, as_cmap = True )\n",
    "##\n",
    "corr_matrix.style.background_gradient( cmap, axis=1 ).set_precision( 1 )\n"
   ]
  },
  {
   "cell_type": "code",
   "execution_count": 17,
   "metadata": {},
   "outputs": [
    {
     "data": {
      "text/plain": [
       "[(('C(Region)[T.Northeast]', 1.2725165717323543),),\n",
       " (('C(Region)[T.South]', 1.8699335998845652),),\n",
       " (('C(Region)[T.West]', 1.4674458719738115),),\n",
       " (('log_Pprice', 1.0083242238835004),),\n",
       " (('Ddisc', 1.4535047202292768),),\n",
       " (('Odisc', 1.0005481238934784),),\n",
       " (('Cdisc', 1.0006701768550137),),\n",
       " (('Pdisc', 1.0002001449342768),)]"
      ]
     },
     "execution_count": 17,
     "metadata": {},
     "output_type": "execute_result"
    }
   ],
   "source": [
    "##\n",
    "## Calculate VIFs\n",
    "## The VIFs are the diagonal elements of the inverted correlation\n",
    "## matrix of the independent variables.\n",
    "##\n",
    "## Subset the design matrix to eliminate the first column of 1s\n",
    "## the iloc method says to find the location of columns based on their \n",
    "## integer locations (i.e., 0, 1, 2, etc.) the term in brackets says \n",
    "## to find all rows (the : ) and all columns from the first to the end (1: )\n",
    "##\n",
    "## create the correlation matrix\n",
    "##\n",
    "x = reg01.model.data.orig_exog.iloc[ :, 1: ]\n",
    "corr_matrix = x.corr()\n",
    "##corr_matrix\n",
    "##\n",
    "## invert the correlation matrix and extract the main diaginal\n",
    "##\n",
    "vif = np.diag( np.linalg.inv( corr_matrix ) ) \n",
    "##print( 'VIF: \\n{}'.format( vif ) )\n",
    "##\n",
    "## zip the variable names and the VIFs\n",
    "##\n",
    "indepvars = [ i for i in x.columns ]\n",
    "xzip = zip( indepvars, vif ) \n",
    "##\n",
    "## Display the zip matrix\n",
    "## First import a needed function:\n",
    "##\n",
    "from statsmodels.compat import lzip\n",
    "lzip( xzip )"
   ]
  },
  {
   "cell_type": "markdown",
   "metadata": {},
   "source": [
    "The *VIF*s are all below 10 so there is no problem."
   ]
  },
  {
   "cell_type": "markdown",
   "metadata": {},
   "source": [
    "#### Model Portfolio\n",
    "\n",
    "This is a nice way to summarize the models."
   ]
  },
  {
   "cell_type": "code",
   "execution_count": 18,
   "metadata": {},
   "outputs": [
    {
     "name": "stdout",
     "output_type": "stream",
     "text": [
      "Summary Table for Living Room Blinds Sales\n",
      "===============================\n",
      "                       Model 1 \n",
      "-------------------------------\n",
      "Intercept              6.09*** \n",
      "                       (0.04)  \n",
      "C(Region)[T.Northeast] 0.01    \n",
      "                       (0.01)  \n",
      "C(Region)[T.South]     -0.00   \n",
      "                       (0.01)  \n",
      "C(Region)[T.West]      -0.00   \n",
      "                       (0.01)  \n",
      "log_Pprice             -1.59***\n",
      "                       (0.02)  \n",
      "Ddisc                  1.84*** \n",
      "                       (0.06)  \n",
      "Odisc                  1.91*** \n",
      "                       (0.15)  \n",
      "Cdisc                  1.63*** \n",
      "                       (0.10)  \n",
      "Pdisc                  1.65*** \n",
      "                       (0.18)  \n",
      "\n",
      "n                     52690   \n",
      "R2 Adjusted            0.199   \n",
      "AIC                    72614.78\n",
      "F                      1639.26 \n",
      "===============================\n",
      "Standard errors in parentheses.\n",
      "* p<.1, ** p<.05, ***p<.01\n"
     ]
    }
   ],
   "source": [
    "##\n",
    "## Import some packags\n",
    "##\n",
    "from statsmodels.iolib.summary2 import summary_col\n",
    "from statsmodels.stats.api import anova_lm\n",
    "##\n",
    "## Create a variable to hold the model names; this is a list.\n",
    "## Note: the range() function specifies 1 - 2 but the \"2\" is\n",
    "## not included.\n",
    "##\n",
    "model_names = [ 'Model ' + str( i ) for i in range( 1, 2 ) ]\n",
    "##\n",
    "## Create a variable to hold the statistics to print; this is a dictionary.\n",
    "##\n",
    "info_dict = { '\\nn': lambda x: \"{0:d}\".format( int( x.nobs ) ),\n",
    "              'R2 Adjusted': lambda x: \"{:0.3f}\".format( x.rsquared_adj ),\n",
    "              'AIC': lambda x: \"{:0.2f}\".format( x.aic ),\n",
    "              'F': lambda x: \"{:0.2f}\".format( x.fvalue ),\n",
    "}\n",
    "##\n",
    "## Create the portfolio summary table.\n",
    "##\n",
    "summary_table = summary_col( [ reg01 ],\n",
    "            float_format = '%0.2f',\n",
    "            model_names = model_names,\n",
    "            stars = True, \n",
    "            info_dict = info_dict \n",
    ")\n",
    "summary_table.add_title( 'Summary Table for Living Room Blinds Sales' )\n",
    "print( summary_table )\n"
   ]
  },
  {
   "cell_type": "markdown",
   "metadata": {},
   "source": [
    "#### <font color = black> Predicting with the Model </font>\n",
    "\n",
    "Predict unit sales.  But recognize first that the sales for the model are in (natural) log terms.  You will convert back to unit sales in \"normal\" terms latter."
   ]
  },
  {
   "cell_type": "code",
   "execution_count": 19,
   "metadata": {
    "scrolled": false
   },
   "outputs": [
    {
     "name": "stdout",
     "output_type": "stream",
     "text": [
      "<class 'pandas.core.frame.DataFrame'>\n",
      "Int64Index: 17568 entries, 47248 to 49985\n",
      "Data columns (total 3 columns):\n",
      "y_test       17568 non-null int64\n",
      "y_logPred    17567 non-null float64\n",
      "y_pred       17567 non-null float64\n",
      "dtypes: float64(2), int64(1)\n",
      "memory usage: 1.2 MB\n"
     ]
    }
   ],
   "source": [
    "##\n",
    "## Calculate predicted log of unit sales, the dependent variable\n",
    "## Note: the inverse of the log is needed; use np.expm1( x )\n",
    "## since log1p was used: np.expm1 = exp(x) - 1.\n",
    "##\n",
    "log_pred = reg01.predict( test )\n",
    "y_pred = np.expm1( log_pred )\n",
    "##\n",
    "##\n",
    "## Combine into one temporary DataFrame for convenience\n",
    "##\n",
    "tmp = pd.DataFrame( { 'y_test':y_test, 'y_logPred':log_pred, 'y_pred':y_pred } )\n",
    "tmp.info()"
   ]
  },
  {
   "cell_type": "markdown",
   "metadata": {},
   "source": [
    "Use the sklearn metric function r2_score to check the fit of actual vs. predicted values.  From the sklearn User Guide:\n",
    "\n",
    "\"*The r2_score function computes R², the coefficient of determination. It provides a measure of how well future samples are likely to be predicted by the model. Best possible score is 1.0 and it can be negative (because the model can be arbitrarily worse). A constant model that always predicts the expected value of y, disregarding the input features, would get a R^2 score of 0.0.*\""
   ]
  },
  {
   "cell_type": "code",
   "execution_count": 20,
   "metadata": {
    "scrolled": true
   },
   "outputs": [
    {
     "name": "stdout",
     "output_type": "stream",
     "text": [
      "0.138\n"
     ]
    }
   ],
   "source": [
    "##\n",
    "## Import the r2_score function form the sklearn metric package\n",
    "##\n",
    "from sklearn.metrics import r2_score\n",
    "##\n",
    "## Display the r2 score.  But first drop any NaN data.\n",
    "##\n",
    "tmp.dropna( inplace = True )\n",
    "print( round( r2_score( tmp.y_test, tmp.y_pred), 3 ) )"
   ]
  },
  {
   "cell_type": "markdown",
   "metadata": {},
   "source": [
    "This is not very good."
   ]
  },
  {
   "cell_type": "markdown",
   "metadata": {},
   "source": [
    "You can also graph the actual vs predicted values.  Sometimes, however, the number of data points is too large to plot so a random sample may be needed.  This is our case."
   ]
  },
  {
   "cell_type": "code",
   "execution_count": 21,
   "metadata": {
    "scrolled": false
   },
   "outputs": [
    {
     "data": {
      "text/plain": [
       "[Text(0,0.5,'Predicted Sales'),\n",
       " Text(0.5,0,'Actual Sales'),\n",
       " Text(0.5,1,'Actual vs Predicted Units Sales\\nRandom Sample of 500')]"
      ]
     },
     "execution_count": 21,
     "metadata": {},
     "output_type": "execute_result"
    },
    {
     "data": {
      "image/png": "[encoded data removed]",
      "text/plain": [
       "<Figure size 432x288 with 1 Axes>"
      ]
     },
     "metadata": {},
     "output_type": "display_data"
    }
   ],
   "source": [
    "##\n",
    "## Draw a random sample of 500 observations without replacement\n",
    "## from the tmp DataFrame.\n",
    "##\n",
    "smpl = tmp.sample( n = 500, replace = False, random_state = 1 )\n",
    "##\n",
    "## Plot the data\n",
    "##\n",
    "ax = sns.regplot( x = 'y_test', y = 'y_pred', scatter = True, data = smpl )\n",
    "ax.set( title = 'Actual vs Predicted Units Sales\\nRandom Sample of 500', \n",
    "       ylabel = 'Predicted Sales', xlabel = 'Actual Sales' )"
   ]
  },
  {
   "cell_type": "code",
   "execution_count": 22,
   "metadata": {},
   "outputs": [
    {
     "data": {
      "image/png": "[encoded data removed]",
      "text/plain": [
       "<Figure size 432x432 with 3 Axes>"
      ]
     },
     "metadata": {},
     "output_type": "display_data"
    }
   ],
   "source": [
    "##\n",
    "## Use the hex plot from above\n",
    "##\n",
    "with sns.axes_style(\"white\"):\n",
    "    g = sns.jointplot( x = 'y_test', y = 'y_pred', data = tmp, kind = 'hex',\n",
    "                      color = 'k',\n",
    "                  joint_kws={'gridsize':40, 'bins':'log'} )\n",
    "    ax = sns.regplot( x = 'y_test', y = 'y_pred', data = tmp, ax = g.ax_joint,\n",
    "                     scatter = False )\n",
    "    ax.set( xlabel = 'Actual Sales', ylabel = 'Predicted Sales' )"
   ]
  },
  {
   "cell_type": "markdown",
   "metadata": {},
   "source": [
    "Predict unit sales for different settings of the variables.  This is *scenario* or *what-if* analysis."
   ]
  },
  {
   "cell_type": "code",
   "execution_count": 23,
   "metadata": {},
   "outputs": [
    {
     "name": "stdout",
     "output_type": "stream",
     "text": [
      "Scenario settings:\n",
      "   Pprice  log_Pprice  Ddisc  Odisc  Cdisc  Pdisc Region\n",
      "0     2.5    1.252763   0.03   0.05   0.03   0.03   West\n",
      "\n",
      "Predicted Unit Sales: \n",
      "0    76.0\n",
      "dtype: float64\n"
     ]
    }
   ],
   "source": [
    "##\n",
    "## Specify scenario values to use for prediction\n",
    "##\n",
    "## Create a dict\n",
    "##\n",
    "data = {\n",
    "         'Pprice': [ 2.50 ],\n",
    "         'Ddisc': [ 0.03 ],\n",
    "         'Odisc': [ 0.05 ],\n",
    "         'Cdisc': [ 0.03 ],\n",
    "         'Pdisc': [ 0.03 ],\n",
    "         'Region': [ 'West' ]\n",
    "        }\n",
    "##\n",
    "## Create a DataFrame using the dict\n",
    "##\n",
    "scenario = pd.DataFrame.from_dict( data )\n",
    "##\n",
    "## Insert a log price column after the Pprice variable\n",
    "##\n",
    "scenario.insert( loc = 1, column = 'log_Pprice',\n",
    "                value = np.log1p( scenario.Pprice ) )\n",
    "##\n",
    "## Display the settings and the predicted unit sales\n",
    "##\n",
    "print( 'Scenario settings:\\n{}'.format( scenario ) )\n",
    "##\n",
    "## Create a pediction\n",
    "##\n",
    "log_pred = reg01.predict( scenario )\n",
    "y_pred = np.expm1( log_pred )\n",
    "print( '\\nPredicted Unit Sales: \\n{}'.format( round( y_pred, 0 ) ) )"
   ]
  },
  {
   "cell_type": "markdown",
   "metadata": {},
   "source": [
    "### <font color = blue> Exercises </font>"
   ]
  },
  {
   "cell_type": "markdown",
   "metadata": {},
   "source": [
    "#### <font color = black> Exercise \\#3.1 </font>\n",
    "\n",
    "Test different scenarios for the above model and ask yourself: \"*Are the results sensible?*\""
   ]
  },
  {
   "cell_type": "markdown",
   "metadata": {},
   "source": [
    "#### <font color = black> Exercise \\#3.2 </font>\n",
    "\n",
    "Estimate a new *OLS* model by adding the buyer rating to the above model. Interpret your results. \n",
    "\n",
    "**Hint**: Buyer rating is categorical so you have to create dummies for the rating."
   ]
  },
  {
   "cell_type": "code",
   "execution_count": 24,
   "metadata": {},
   "outputs": [],
   "source": [
    "##\n",
    "## Enter code here.  Insert cells below this if needed.\n",
    "##\n"
   ]
  },
  {
   "cell_type": "markdown",
   "metadata": {},
   "source": [
    "#### <font color = black> Case II: Logistic Regression </font>"
   ]
  },
  {
   "cell_type": "markdown",
   "metadata": {},
   "source": [
    "#### <font color = black> Create your Data </font>"
   ]
  },
  {
   "cell_type": "markdown",
   "metadata": {},
   "source": [
    "Customer satisfaction is part of the DataFrame.  Satisfaction is measured on a five-point scale: *1 = Not at All Satisfied*, *5 = Very Satisfied*.  \n",
    "\n",
    "First, look at the frquency count of satisfaction.  But, there is a problem: you cannot use the same data as before since satisfaction is by customer and the data used so far is by transaction.  The satisfaction rating is in the customer DataFrame.  You need to first find the mean price and mean discounts by customer from the transactions DataFrame and then merge this new DataFrame with the customer DataFrame.  So, there are several steps:\n",
    "\n",
    "1. Extract the pocket price and discounts -- include the *CID*\n",
    "2. Group by the CID and calculate the means by *CID*\n",
    "3. Merge with the customer DataFrame\n",
    "4. Recode the scale values in the merged file so that 1 is the top-two values (called *top-two box* or *T2B*) and 0 is all other values.  The *T2B* is *Very Satisfied*.\n",
    "5. Train a model with *T2B* satisfaction as a function of the pocket price, discounts, and Region."
   ]
  },
  {
   "cell_type": "code",
   "execution_count": 25,
   "metadata": {},
   "outputs": [
    {
     "data": {
      "text/plain": [
       "(70270, 5)"
      ]
     },
     "execution_count": 25,
     "metadata": {},
     "output_type": "execute_result"
    }
   ],
   "source": [
    "## \n",
    "## ===> Step 1: Extract the pocket price and discounts -- include the CID\n",
    "##\n",
    "tmp = df[ [ 'CID', 'Pprice', 'Ddisc', 'Odisc', 'Cdisc', 'Pdisc' ] ]\n",
    "tmp.set_index( 'CID', inplace = True )\n",
    "tmp.shape"
   ]
  },
  {
   "cell_type": "code",
   "execution_count": 26,
   "metadata": {},
   "outputs": [
    {
     "data": {
      "text/plain": [
       "(779, 5)"
      ]
     },
     "execution_count": 26,
     "metadata": {},
     "output_type": "execute_result"
    }
   ],
   "source": [
    "##\n",
    "## ===> Step 2: Group by the CID and calculate the means by CID\n",
    "##\n",
    "x = tmp.groupby( 'CID' ).mean()\n",
    "x.shape"
   ]
  },
  {
   "cell_type": "code",
   "execution_count": 27,
   "metadata": {},
   "outputs": [
    {
     "data": {
      "text/plain": [
       "(306, 12)"
      ]
     },
     "execution_count": 27,
     "metadata": {},
     "output_type": "execute_result"
    }
   ],
   "source": [
    "##\n",
    "## ===> Step 3: Merge with the customer DataFrame\n",
    "##\n",
    "df_sat = x.merge( df_cust, left_index = True, right_index = True )\n",
    "df_sat.head()\n",
    "df_sat.shape"
   ]
  },
  {
   "cell_type": "code",
   "execution_count": 28,
   "metadata": {},
   "outputs": [
    {
     "data": {
      "text/plain": [
       "1     16\n",
       "2     30\n",
       "3     47\n",
       "4    179\n",
       "5     34\n",
       "Name: buyerSatisfaction, dtype: int64"
      ]
     },
     "execution_count": 28,
     "metadata": {},
     "output_type": "execute_result"
    }
   ],
   "source": [
    "##\n",
    "## Do a quick check of the value distribution.\n",
    "##\n",
    "## Use the DataFrame's value_counts() method. Sort by the\n",
    "## scale values 1 - 5.\n",
    "##\n",
    "df_sat.buyerSatisfaction.value_counts( sort = False )"
   ]
  },
  {
   "cell_type": "code",
   "execution_count": 29,
   "metadata": {},
   "outputs": [
    {
     "data": {
      "text/plain": [
       "1    0.696078\n",
       "0    0.303922\n",
       "Name: sat_t2b, dtype: float64"
      ]
     },
     "execution_count": 29,
     "metadata": {},
     "output_type": "execute_result"
    }
   ],
   "source": [
    "##\n",
    "## ===> Step 4: Recode the scale values so that 1 is the top-two values \n",
    "##(called *top-two box* or *T2B*) and 0 is all other values.  \n",
    "## The *T2B* is *Very Satisfied*.\n",
    "##\n",
    "## Recode using Numpy's select function\n",
    "##\n",
    "## ===> Step 4.A: Define labels for the recoded values\n",
    "##\n",
    "lbl = [ 1, 0 ]\n",
    "##\n",
    "## ===> Step 4.B: Specify the conditions for the recoding\n",
    "##\n",
    "conditions = [\n",
    "    ( df_sat.buyerSatisfaction >= 4 ),\n",
    "    ( df_sat.buyerSatisfaction < 4 )\n",
    "]\n",
    "##\n",
    "## ===> Step 4.C: Do the recoding \n",
    "##\n",
    "df_sat[ 'sat_t2b' ] = np.select( conditions, lbl )\n",
    "##\n",
    "df_sat[ 'sat_t2b' ].value_counts( normalize = True )"
   ]
  },
  {
   "cell_type": "markdown",
   "metadata": {},
   "source": [
    "Model *T2B* satisfaction as a function of the pocket price and discounts.  First, create training and testing DataFrames as before but with *sat_t2b* as the *y* variable."
   ]
  },
  {
   "cell_type": "code",
   "execution_count": 30,
   "metadata": {},
   "outputs": [],
   "source": [
    "##\n",
    "## ===> Step 5: Train a model.\n",
    "##\n",
    "## Create the X and y data for splitting\n",
    "##\n",
    "y = df_sat[ 'sat_t2b' ]\n",
    "x = [ 'Pprice', 'Ddisc', 'Odisc', 'Cdisc', 'Pdisc', 'Region' ]\n",
    "X = df_sat[ x ]\n",
    "##\n",
    "## Split the data.  The default is 3/4 train.\n",
    "##\n",
    "X_train, X_test, y_train, y_test = train_test_split( X, y, test_size=0.33, \n",
    "                                                    random_state = 42 )"
   ]
  },
  {
   "cell_type": "code",
   "execution_count": 31,
   "metadata": {},
   "outputs": [
    {
     "name": "stdout",
     "output_type": "stream",
     "text": [
      "Training Data: \n",
      "        Pprice     Ddisc     Odisc     Cdisc     Pdisc     Region\n",
      "166   5.883327  0.135245  0.048735  0.072857  0.039837      South\n",
      "609   6.446667  0.142317  0.049556  0.072905  0.038556       West\n",
      "663   7.289410  0.135538  0.052308  0.069333  0.043410    Midwest\n",
      "1061  6.935050  0.137450  0.049125  0.067400  0.040975      South\n",
      "372   7.294368  0.137748  0.048521  0.069607  0.039755  Northeast\n",
      "\n",
      "\n",
      "Testing Data: \n",
      "741    0\n",
      "667    0\n",
      "578    1\n",
      "815    0\n",
      "345    1\n",
      "Name: sat_t2b, dtype: int64\n"
     ]
    }
   ],
   "source": [
    "##\n",
    "## Display some data\n",
    "##\n",
    "print( 'Training Data: \\n{}'.format( X_train.head() ) ) \n",
    "print( \"\\n\" )\n",
    "print( 'Testing Data: \\n{}'.format( y_test.head() ) )"
   ]
  },
  {
   "cell_type": "code",
   "execution_count": 32,
   "metadata": {},
   "outputs": [
    {
     "data": {
      "text/html": [
       "<div>\n",
       "<style scoped>\n",
       "    .dataframe tbody tr th:only-of-type {\n",
       "        vertical-align: middle;\n",
       "    }\n",
       "\n",
       "    .dataframe tbody tr th {\n",
       "        vertical-align: top;\n",
       "    }\n",
       "\n",
       "    .dataframe thead th {\n",
       "        text-align: right;\n",
       "    }\n",
       "</style>\n",
       "<table border=\"1\" class=\"dataframe\">\n",
       "  <thead>\n",
       "    <tr style=\"text-align: right;\">\n",
       "      <th></th>\n",
       "      <th>sat_t2b</th>\n",
       "      <th>Pprice</th>\n",
       "      <th>Ddisc</th>\n",
       "      <th>Odisc</th>\n",
       "      <th>Cdisc</th>\n",
       "      <th>Pdisc</th>\n",
       "      <th>Region</th>\n",
       "    </tr>\n",
       "  </thead>\n",
       "  <tbody>\n",
       "    <tr>\n",
       "      <th>166</th>\n",
       "      <td>1</td>\n",
       "      <td>5.883327</td>\n",
       "      <td>0.135245</td>\n",
       "      <td>0.048735</td>\n",
       "      <td>0.072857</td>\n",
       "      <td>0.039837</td>\n",
       "      <td>South</td>\n",
       "    </tr>\n",
       "    <tr>\n",
       "      <th>609</th>\n",
       "      <td>1</td>\n",
       "      <td>6.446667</td>\n",
       "      <td>0.142317</td>\n",
       "      <td>0.049556</td>\n",
       "      <td>0.072905</td>\n",
       "      <td>0.038556</td>\n",
       "      <td>West</td>\n",
       "    </tr>\n",
       "    <tr>\n",
       "      <th>663</th>\n",
       "      <td>1</td>\n",
       "      <td>7.289410</td>\n",
       "      <td>0.135538</td>\n",
       "      <td>0.052308</td>\n",
       "      <td>0.069333</td>\n",
       "      <td>0.043410</td>\n",
       "      <td>Midwest</td>\n",
       "    </tr>\n",
       "    <tr>\n",
       "      <th>1061</th>\n",
       "      <td>1</td>\n",
       "      <td>6.935050</td>\n",
       "      <td>0.137450</td>\n",
       "      <td>0.049125</td>\n",
       "      <td>0.067400</td>\n",
       "      <td>0.040975</td>\n",
       "      <td>South</td>\n",
       "    </tr>\n",
       "    <tr>\n",
       "      <th>372</th>\n",
       "      <td>1</td>\n",
       "      <td>7.294368</td>\n",
       "      <td>0.137748</td>\n",
       "      <td>0.048521</td>\n",
       "      <td>0.069607</td>\n",
       "      <td>0.039755</td>\n",
       "      <td>Northeast</td>\n",
       "    </tr>\n",
       "  </tbody>\n",
       "</table>\n",
       "</div>"
      ],
      "text/plain": [
       "      sat_t2b    Pprice     Ddisc     Odisc     Cdisc     Pdisc     Region\n",
       "166         1  5.883327  0.135245  0.048735  0.072857  0.039837      South\n",
       "609         1  6.446667  0.142317  0.049556  0.072905  0.038556       West\n",
       "663         1  7.289410  0.135538  0.052308  0.069333  0.043410    Midwest\n",
       "1061        1  6.935050  0.137450  0.049125  0.067400  0.040975      South\n",
       "372         1  7.294368  0.137748  0.048521  0.069607  0.039755  Northeast"
      ]
     },
     "execution_count": 32,
     "metadata": {},
     "output_type": "execute_result"
    }
   ],
   "source": [
    "## \n",
    "## Merge the two training sets for convenience\n",
    "##\n",
    "yy = pd.DataFrame( { 'sat_t2b':y_train } )\n",
    "train = yy.merge( X_train, left_index = True, right_index = True )\n",
    "train.head()"
   ]
  },
  {
   "cell_type": "code",
   "execution_count": 33,
   "metadata": {},
   "outputs": [
    {
     "data": {
      "text/html": [
       "<div>\n",
       "<style scoped>\n",
       "    .dataframe tbody tr th:only-of-type {\n",
       "        vertical-align: middle;\n",
       "    }\n",
       "\n",
       "    .dataframe tbody tr th {\n",
       "        vertical-align: top;\n",
       "    }\n",
       "\n",
       "    .dataframe thead th {\n",
       "        text-align: right;\n",
       "    }\n",
       "</style>\n",
       "<table border=\"1\" class=\"dataframe\">\n",
       "  <thead>\n",
       "    <tr style=\"text-align: right;\">\n",
       "      <th></th>\n",
       "      <th>sat_t2b</th>\n",
       "      <th>Pprice</th>\n",
       "      <th>Ddisc</th>\n",
       "      <th>Odisc</th>\n",
       "      <th>Cdisc</th>\n",
       "      <th>Pdisc</th>\n",
       "      <th>Region</th>\n",
       "    </tr>\n",
       "  </thead>\n",
       "  <tbody>\n",
       "    <tr>\n",
       "      <th>741</th>\n",
       "      <td>0</td>\n",
       "      <td>7.893375</td>\n",
       "      <td>0.082292</td>\n",
       "      <td>0.050542</td>\n",
       "      <td>0.070208</td>\n",
       "      <td>0.043583</td>\n",
       "      <td>Midwest</td>\n",
       "    </tr>\n",
       "    <tr>\n",
       "      <th>667</th>\n",
       "      <td>0</td>\n",
       "      <td>7.303756</td>\n",
       "      <td>0.132511</td>\n",
       "      <td>0.053844</td>\n",
       "      <td>0.070067</td>\n",
       "      <td>0.039822</td>\n",
       "      <td>South</td>\n",
       "    </tr>\n",
       "    <tr>\n",
       "      <th>578</th>\n",
       "      <td>1</td>\n",
       "      <td>5.885723</td>\n",
       "      <td>0.133461</td>\n",
       "      <td>0.049092</td>\n",
       "      <td>0.069957</td>\n",
       "      <td>0.041766</td>\n",
       "      <td>South</td>\n",
       "    </tr>\n",
       "    <tr>\n",
       "      <th>815</th>\n",
       "      <td>0</td>\n",
       "      <td>8.368778</td>\n",
       "      <td>0.132511</td>\n",
       "      <td>0.052511</td>\n",
       "      <td>0.068000</td>\n",
       "      <td>0.038200</td>\n",
       "      <td>South</td>\n",
       "    </tr>\n",
       "    <tr>\n",
       "      <th>345</th>\n",
       "      <td>1</td>\n",
       "      <td>7.060585</td>\n",
       "      <td>0.128815</td>\n",
       "      <td>0.050748</td>\n",
       "      <td>0.069022</td>\n",
       "      <td>0.040830</td>\n",
       "      <td>Midwest</td>\n",
       "    </tr>\n",
       "  </tbody>\n",
       "</table>\n",
       "</div>"
      ],
      "text/plain": [
       "     sat_t2b    Pprice     Ddisc     Odisc     Cdisc     Pdisc   Region\n",
       "741        0  7.893375  0.082292  0.050542  0.070208  0.043583  Midwest\n",
       "667        0  7.303756  0.132511  0.053844  0.070067  0.039822    South\n",
       "578        1  5.885723  0.133461  0.049092  0.069957  0.041766    South\n",
       "815        0  8.368778  0.132511  0.052511  0.068000  0.038200    South\n",
       "345        1  7.060585  0.128815  0.050748  0.069022  0.040830  Midwest"
      ]
     },
     "execution_count": 33,
     "metadata": {},
     "output_type": "execute_result"
    }
   ],
   "source": [
    "## \n",
    "## Merge the two testing sets for convenience\n",
    "##\n",
    "yy = pd.DataFrame( { 'sat_t2b':y_test } )\n",
    "test = yy.merge( X_test, left_index = True, right_index = True )\n",
    "test.head()"
   ]
  },
  {
   "cell_type": "markdown",
   "metadata": {},
   "source": [
    "####  <font color = black> Train a Model </font>"
   ]
  },
  {
   "cell_type": "code",
   "execution_count": 34,
   "metadata": {},
   "outputs": [
    {
     "name": "stdout",
     "output_type": "stream",
     "text": [
      "Optimization terminated successfully.\n",
      "         Current function value: 0.599486\n",
      "         Iterations 6\n",
      "                           Logit Regression Results                           \n",
      "==============================================================================\n",
      "Dep. Variable:                sat_t2b   No. Observations:                  205\n",
      "Model:                          Logit   Df Residuals:                      196\n",
      "Method:                           MLE   Df Model:                            8\n",
      "Date:                Mon, 11 Feb 2019   Pseudo R-squ.:                 0.04591\n",
      "Time:                        21:51:30   Log-Likelihood:                -122.89\n",
      "converged:                       True   LL-Null:                       -128.81\n",
      "                                        LLR p-value:                    0.1591\n",
      "==========================================================================================\n",
      "                             coef    std err          z      P>|z|      [0.025      0.975]\n",
      "------------------------------------------------------------------------------------------\n",
      "Intercept                 -2.0429      8.029     -0.254      0.799     -17.780      13.694\n",
      "C(Region)[T.Northeast]     1.3508      0.704      1.917      0.055      -0.030       2.732\n",
      "C(Region)[T.South]         0.6196      0.395      1.570      0.116      -0.154       1.393\n",
      "C(Region)[T.West]          0.4262      0.379      1.125      0.261      -0.317       1.169\n",
      "Pprice                    -0.3093      0.167     -1.857      0.063      -0.636       0.017\n",
      "Ddisc                      6.6518      7.234      0.919      0.358      -7.527      20.831\n",
      "Odisc                     48.0538     78.591      0.611      0.541    -105.982     202.089\n",
      "Cdisc                     68.8329     63.929      1.077      0.282     -56.466     194.131\n",
      "Pdisc                    -87.7359     97.240     -0.902      0.367    -278.323     102.851\n",
      "==========================================================================================\n"
     ]
    }
   ],
   "source": [
    "##\n",
    "## Train a logit model\n",
    "##\n",
    "## ===> Step 1: Define a formula\n",
    "##\n",
    "formula = 'sat_t2b ~ Pprice + Ddisc + Odisc + Cdisc + Pdisc + C( Region )'\n",
    "##\n",
    "## ===> Step 2: Instantiate the logit model\n",
    "##\n",
    "mod = smf.logit( formula, data = train )\n",
    "##\n",
    "## ===> Step 3: Fit the instantiated model\n",
    "##\n",
    "logit01 = mod.fit()\n",
    "##\n",
    "## ===> Step 4: Summarize the fitted model\n",
    "##\n",
    "print( logit01.summary() )"
   ]
  },
  {
   "cell_type": "markdown",
   "metadata": {},
   "source": [
    "#### <font color = black> Analyze the Results </font>"
   ]
  },
  {
   "cell_type": "code",
   "execution_count": 35,
   "metadata": {},
   "outputs": [
    {
     "name": "stdout",
     "output_type": "stream",
     "text": [
      "              precision    recall  f1-score   support\n",
      "\n",
      "           0      0.667     0.148     0.242        27\n",
      "           1      0.758     0.973     0.852        74\n",
      "\n",
      "   micro avg      0.752     0.752     0.752       101\n",
      "   macro avg      0.712     0.561     0.547       101\n",
      "weighted avg      0.734     0.752     0.689       101\n",
      "\n"
     ]
    }
   ],
   "source": [
    "##\n",
    "## Import needed functions\n",
    "##\n",
    "from sklearn.metrics import confusion_matrix, classification_report\n",
    "##\n",
    "## Make predictions\n",
    "##\n",
    "predictions = logit01.predict( test )\n",
    "predictions_nominal = [ 0 if x < 0.5 else 1 for x in predictions]\n",
    "print( classification_report( y_test, predictions_nominal, digits = 3 ) )"
   ]
  },
  {
   "cell_type": "markdown",
   "metadata": {},
   "source": [
    "For binary classification, the count of **true negatives** ($tn$), **false negatives** ($fn$), **true positives** ($tp$), and **false positives** ($fp$) can be found from a *confusion matrix*."
   ]
  },
  {
   "cell_type": "code",
   "execution_count": 36,
   "metadata": {},
   "outputs": [
    {
     "data": {
      "text/plain": [
       "[(('tn', 4),), (('fp', 23),), (('fn', 2),), (('tp', 72),)]"
      ]
     },
     "execution_count": 36,
     "metadata": {},
     "output_type": "execute_result"
    }
   ],
   "source": [
    "##\n",
    "## Create a confusion matrix\n",
    "##\n",
    "x = confusion_matrix(y_test, predictions_nominal).ravel()\n",
    "##\n",
    "## zip the variable names and the confusion\n",
    "##\n",
    "lbl = [ 'tn', 'fp', 'fn', 'tp' ]\n",
    "##\n",
    "## display the zip matrix\n",
    "##\n",
    "from statsmodels.compat import lzip\n",
    "lzip( zip( lbl, x ) )\n"
   ]
  },
  {
   "cell_type": "markdown",
   "metadata": {},
   "source": [
    "Plot the confusion matrix"
   ]
  },
  {
   "cell_type": "code",
   "execution_count": 37,
   "metadata": {
    "scrolled": false
   },
   "outputs": [
    {
     "name": "stdout",
     "output_type": "stream",
     "text": [
      "Confusion Matrix: \n",
      "               Not Satisfied  Satisfied\n",
      "Not Satisfied              4         23\n",
      "Satisfied                  2         72\n"
     ]
    },
    {
     "data": {
      "text/plain": [
       "[Text(0,0.5,''), Text(0,1.5,'Not Satisfied')]"
      ]
     },
     "execution_count": 37,
     "metadata": {},
     "output_type": "execute_result"
    },
    {
     "data": {
      "image/png": "[encoded data removed]",
      "text/plain": [
       "<Figure size 432x288 with 2 Axes>"
      ]
     },
     "metadata": {},
     "output_type": "display_data"
    }
   ],
   "source": [
    "##\n",
    "## Create labels\n",
    "##\n",
    "lbl = ['Not Satisfied', 'Satisfied']\n",
    "##\n",
    "## Create the confusion matrix\n",
    "##\n",
    "cm = confusion_matrix( y_test, predictions_nominal )\n",
    "tmp = pd.DataFrame(data=cm, index = lbl, columns = lbl )\n",
    "print( 'Confusion Matrix: \\n{}'.format( tmp ) )\n",
    "##\n",
    "## Plot the confusion matrix\n",
    "##\n",
    "##ax = sns.heatmap( cm )\n",
    "sns.set( font_scale = 1.4 )   #for label size\n",
    "ax = sns.heatmap( cm/cm.sum(), annot = True, annot_kws = { \"size\": 16 } )  # font size\n",
    "ax.set( title = 'Confusion Matrix of the Classifier', xlabel = 'Predicted',\n",
    "       ylabel = 'True' )\n",
    "ax.set_xticklabels([''] + lbl)\n",
    "ax.set_yticklabels([''] + lbl)"
   ]
  },
  {
   "cell_type": "markdown",
   "metadata": {},
   "source": [
    "#### Model Portfolio"
   ]
  },
  {
   "cell_type": "code",
   "execution_count": 38,
   "metadata": {},
   "outputs": [
    {
     "name": "stdout",
     "output_type": "stream",
     "text": [
      "Summary Table for Living Room Blinds Sales\n",
      "==============================\n",
      "                       Model 1\n",
      "------------------------------\n",
      "Intercept              -2.04  \n",
      "                       (8.03) \n",
      "C(Region)[T.Northeast] 1.35*  \n",
      "                       (0.70) \n",
      "C(Region)[T.South]     0.62   \n",
      "                       (0.39) \n",
      "C(Region)[T.West]      0.43   \n",
      "                       (0.38) \n",
      "Pprice                 -0.31* \n",
      "                       (0.17) \n",
      "Ddisc                  6.65   \n",
      "                       (7.23) \n",
      "Odisc                  48.05  \n",
      "                       (78.59)\n",
      "Cdisc                  68.83  \n",
      "                       (63.93)\n",
      "Pdisc                  -87.74 \n",
      "                       (97.24)\n",
      "\n",
      "n                     205    \n",
      "==============================\n",
      "Standard errors in\n",
      "parentheses.\n",
      "* p<.1, ** p<.05, ***p<.01\n"
     ]
    }
   ],
   "source": [
    "model_names = [ 'Model ' + str( i ) for i in range( 1, 2 ) ]\n",
    "##\n",
    "## Create a variable to hold the statistics to print; this is a dictionary.\n",
    "##\n",
    "info_dict = { '\\nn': lambda x: \"{0:d}\".format( int( x.nobs ) ),\n",
    "}\n",
    "##\n",
    "## Create the portfolio summary table.\n",
    "##\n",
    "summary_table = summary_col( [ logit01 ],\n",
    "            float_format = '%0.2f',\n",
    "            model_names = model_names,\n",
    "            stars = True, \n",
    "            info_dict = info_dict \n",
    ")\n",
    "summary_table.add_title( 'Summary Table for Living Room Blinds Sales' )\n",
    "print( summary_table )"
   ]
  },
  {
   "cell_type": "markdown",
   "metadata": {},
   "source": [
    "#### <font color = black> Predicting with the Model </font>\n",
    "\n",
    "The prediction process is the same as discussed for Case I above."
   ]
  },
  {
   "cell_type": "markdown",
   "metadata": {},
   "source": [
    "### <font color = blue> Exercises </font>"
   ]
  },
  {
   "cell_type": "markdown",
   "metadata": {},
   "source": [
    "#### <font color = black> Exercise \\#3.3 </font>\n",
    "\n",
    "Use the testing data to test the model fit."
   ]
  },
  {
   "cell_type": "code",
   "execution_count": 39,
   "metadata": {},
   "outputs": [],
   "source": [
    "##\n",
    "## Enter code here.  Insert cells below this if needed.\n",
    "##"
   ]
  },
  {
   "cell_type": "markdown",
   "metadata": {},
   "source": [
    "## <font color = black> Growing Decision Trees </font>\n",
    "\n",
    "Decision Trees can handle continuous or discrete dependent variables.  They are an alternative to *OLS* and logistic regression: you don't have to specify a \"model\" *per se*.  They also have the advantage that a visual display, a *tree*, is produced which is easier for managment and clients to understand than complex regression output and statistics.  You will only look at a discrete case; a continuous case is the same."
   ]
  },
  {
   "cell_type": "code",
   "execution_count": 40,
   "metadata": {},
   "outputs": [
    {
     "name": "stdout",
     "output_type": "stream",
     "text": [
      "Training Data: \n",
      "      Pprice  Ddisc  Odisc  Cdisc  Pdisc  Region\n",
      "166       28    127     50    181     92       2\n",
      "609       55    195     75    183     33       3\n",
      "663      118    137    184     69    199       0\n",
      "1061      85    161     67     25    158       2\n",
      "372      124    165     46     82     85       1\n",
      "\n",
      "Testing Data: \n",
      "     Pprice  Ddisc  Odisc  Cdisc  Pdisc  Region\n",
      "741      81     15     53     59     98       0\n",
      "667      64     38     99     57     42       2\n",
      "578      18     47     17     54     90       2\n",
      "815      93     38     92     18      5       2\n",
      "345      56     21     59     34     74       0\n"
     ]
    },
    {
     "data": {
      "text/plain": [
       "DecisionTreeClassifier(class_weight=None, criterion='gini', max_depth=3,\n",
       "            max_features=None, max_leaf_nodes=None,\n",
       "            min_impurity_decrease=0.0, min_impurity_split=None,\n",
       "            min_samples_leaf=5, min_samples_split=2,\n",
       "            min_weight_fraction_leaf=0.0, presort=False, random_state=0,\n",
       "            splitter='best')"
      ]
     },
     "execution_count": 40,
     "metadata": {},
     "output_type": "execute_result"
    }
   ],
   "source": [
    "##\n",
    "## Import decision tree classifier\n",
    "##\n",
    "from sklearn.tree import DecisionTreeClassifier\n",
    "from sklearn.metrics import accuracy_score\n",
    "from sklearn import tree\n",
    "from sklearn import preprocessing\n",
    "from sklearn.tree import export_graphviz\n",
    "##\n",
    "## Convert \"Region\" to integers: the decision tree must have all numerics\n",
    "## Note: use the LabelEncoder function for this\n",
    "##\n",
    "le = preprocessing.LabelEncoder()\n",
    "X_train = X_train.apply( le.fit_transform )\n",
    "print( 'Training Data: \\n{}\\n'.format( X_train.head() ) )\n",
    "##\n",
    "X_test = X_test.apply( le.fit_transform )\n",
    "print( 'Testing Data: \\n{}'.format( X_test.head() ) )\n",
    "##\n",
    "## Instantiate the tree\n",
    "##\n",
    "dtree = tree.DecisionTreeClassifier( random_state = 0, max_depth = 3, \n",
    "                                    min_samples_leaf = 5 )\n",
    "##\n",
    "## Fit the tree\n",
    "##\n",
    "dtree.fit( X_train, y_train )"
   ]
  },
  {
   "cell_type": "markdown",
   "metadata": {},
   "source": [
    "Some additional packages are needed to plot a decision tree:\n",
    "\n",
    "- graphviz\n",
    "- pydotplus\n"
   ]
  },
  {
   "cell_type": "code",
   "execution_count": 41,
   "metadata": {},
   "outputs": [
    {
     "name": "stdout",
     "output_type": "stream",
     "text": [
      "/bin/sh: 1: {sys.executable}: not found\n",
      "/bin/sh: 1: {sys.executable}: not found\n"
     ]
    }
   ],
   "source": [
    "##\n",
    "## Both packages may have to be installed before they can be used.  \n",
    "## Use the operating system to do this.\n",
    "##\n",
    "import os\n",
    "!{sys.executable} -m pip install graphviz\n",
    "!{sys.executable} -m pip install pydotplus\n",
    "##\n",
    "## Tell Python where the graphviz package is load; then load it.\n",
    "##\n",
    "os.environ[\"PATH\"] += os.pathsep + 'C:/Program Files (x86)/Graphviz2.38/bin/'\n",
    "##\n",
    "## Load the following packages\n",
    "##\n",
    "from sklearn.externals.six import StringIO  \n",
    "from IPython.display import Image  \n",
    "import graphviz\n",
    "import pydotplus"
   ]
  },
  {
   "cell_type": "markdown",
   "metadata": {},
   "source": [
    "#### <font color = black> Check model accuracy </font>"
   ]
  },
  {
   "cell_type": "code",
   "execution_count": 41,
   "metadata": {
    "scrolled": true
   },
   "outputs": [
    {
     "name": "stdout",
     "output_type": "stream",
     "text": [
      "Accuracy on training data: 0.766\n",
      "Accuracy on testing data: 0.604\n"
     ]
    }
   ],
   "source": [
    "##\n",
    "## The score attribute\n",
    "##\n",
    "print( \"Accuracy on training data: {:.3f}\".format( dtree.score( X_train, y_train )))\n",
    "print( \"Accuracy on testing data: {:.3f}\".format( dtree.score( X_test, y_test )))"
   ]
  },
  {
   "cell_type": "markdown",
   "metadata": {},
   "source": [
    "These are good scores."
   ]
  },
  {
   "cell_type": "markdown",
   "metadata": {},
   "source": [
    "#### <font color = black> Display the decision tree </font>"
   ]
  },
  {
   "cell_type": "code",
   "execution_count": 42,
   "metadata": {},
   "outputs": [
    {
     "data": {
      "image/png": "[encoded data removed]",
      "text/plain": [
       "<IPython.core.display.Image object>"
      ]
     },
     "execution_count": 42,
     "metadata": {},
     "output_type": "execute_result"
    }
   ],
   "source": [
    "##\n",
    "## Displaying a tree is a slight challenge!\n",
    "## There are four steps:\n",
    "##\n",
    "## ===> Step 1: Create a placeholder for all the plotting points.\n",
    "##\n",
    "dot_data = StringIO()\n",
    "##\n",
    "## ===> Step 2: Extract the feature names for labels models\n",
    "##\n",
    "feature_names = [ i for i in X_train.columns ]\n",
    "##\n",
    "## ===> Step 3: Export the plotting data to the placeholder\n",
    "##\n",
    "export_graphviz(dtree, out_file=dot_data,  \n",
    "                filled=True, rounded=True,\n",
    "                special_characters=True,\n",
    "                class_names = [ 'Not Satisfied', 'Satisfied' ],\n",
    "                feature_names = feature_names ,\n",
    "                proportion  = True\n",
    "               )\n",
    "##\n",
    "## ===> Step 4: Create the display\n",
    "##\n",
    "graph = pydotplus.graph_from_dot_data(dot_data.getvalue())  \n",
    "Image(graph.create_png())"
   ]
  },
  {
   "cell_type": "markdown",
   "metadata": {},
   "source": [
    "### <font color = blue> Exercises </font>"
   ]
  },
  {
   "cell_type": "markdown",
   "metadata": {},
   "source": [
    "#### <font color = black> Exercise \\#3.4 </font>\n",
    "\n",
    "Interpret the decision tree."
   ]
  },
  {
   "cell_type": "markdown",
   "metadata": {},
   "source": [
    "## <font color = black> What's Next? </font>\n",
    "\n",
    "In Lesson 4, I will briefly discuss how to share your notebooks.  Recall that there are three reasons for using Jupyter notebooks in your analysis work:\n",
    "\n",
    "1. managing workflows;\n",
    "2. documenting analyses for reproducibility; and\n",
    "3. sharing results with colleagues.\n",
    "\n",
    "I'll discuss these in the next lesson.\n",
    "<br><br><br>\n",
    "<font color = red, size = \"+3\"><b> Five Minute Break </font>"
   ]
  },
  {
   "cell_type": "code",
   "execution_count": null,
   "metadata": {},
   "outputs": [],
   "source": []
  }
 ],
 "metadata": {
  "kernelspec": {
   "display_name": "Python 3",
   "language": "python",
   "name": "python3"
  },
  "language_info": {
   "codemirror_mode": {
    "name": "ipython",
    "version": 3
   },
   "file_extension": ".py",
   "mimetype": "text/x-python",
   "name": "python",
   "nbconvert_exporter": "python",
   "pygments_lexer": "ipython3",
   "version": "3.6.7"
  }
 },
 "nbformat": 4,
 "nbformat_minor": 2
}
