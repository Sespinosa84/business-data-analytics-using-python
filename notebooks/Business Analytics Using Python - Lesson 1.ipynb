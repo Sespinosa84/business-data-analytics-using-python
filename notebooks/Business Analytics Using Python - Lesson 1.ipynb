{
 "cells": [
  {
   "cell_type": "markdown",
   "metadata": {},
   "source": [
    "<font color = red>Introduction to Business Analytics:<br>Using Python for Better Business Decisions</font>\n",
    "=======\n",
    "<br>\n",
    "    <center><img src=\"http://dataanalyticscorp.com/wp-content/uploads/2018/03/logo.png\"></center>\n",
    "<br>\n",
    "Taught by: \n",
    "\n",
    "* Walter R. Paczkowski, Ph.D. \n",
    "\n",
    "    * My Affliations: [Data Analytics Corp.](http://www.dataanalyticscorp.com/) and [Rutgers University](https://economics.rutgers.edu/people/teaching-personnel)\n",
    "    * [Email Me With Questions](mailto:walt@dataanalyticscorp.com)\n",
    "    * [Learn About Me](http://www.dataanalyticscorp.com/)\n",
    "    * [See My LinkedIn Profile](https://www.linkedin.com/in/walter-paczkowski-a17a1511/)\n",
    "    "
   ]
  },
  {
   "cell_type": "markdown",
   "metadata": {},
   "source": [
    "About this Notebook\n",
    "-----------------------------\n",
    "\n",
    "This notebook accompanies the PDF presentation ***Business Analytics: Using Python for Better Business Decisions*** by Walter R. Paczkowski, Ph.D. (2019).  There is more content and commentary in this notebook than in the presentation deck.  Nonetheless, the two complement each other and so should be studied together.  Every effort has been made to use the same key slide titles in the presentation deck and this notebook which will help your studying."
   ]
  },
  {
   "cell_type": "markdown",
   "metadata": {},
   "source": [
    "Helpful Online Tutorials\n",
    "---------------------------------\n",
    "\n",
    "* <a href=\"http://docs.python.org/2/tutorial/\" target=\"_parent\">Python Tutorial</a>\n",
    "\n",
    "* <a href=\"https://pandas.pydata.org/pandas-docs/stable/getting_started/tutorials.html\" target=\"_parent\">Pandas Tutorial</a>\n",
    "\n",
    "* <a href=\"https://www.statsmodels.org/stable/index.html\" target=\"_parent\">Statsmodels Tutorial</a>\n",
    "\n",
    "Helpful/Must-Read Book\n",
    "-----------------------------------\n",
    "* <a href=\"https://www.amazon.com/gp/product/1491957662/ref=as_li_tl?ie=UTF8&tag=quantpytho-20&camp=1789&creative=9325&linkCode=as2&creativeASIN=1491957662&linkId=8c3bf87b221dbcd8f541f0db20d4da83\" target=\"_parent\">Main Pandas go-to book: </a> *Python for Data Analysis: Data Wrangling with Pandas, NumPy, and IPython* (2nd Edition) by Wes McKinney.\n"
   ]
  },
  {
   "cell_type": "markdown",
   "metadata": {},
   "source": [
    "# <font color = blue> Lesson \\#1:<br>Simple Analytics: Understanding and Preparing Your Data </font>\n",
    "\n",
    "In this lesson, you will learn:\n",
    "\n",
    "1. how to document your data;\n",
    "2. some fundamentals of Jupyter notebooks for documenting analysis workflow;\n",
    "3. how to import Python packages;\n",
    "4. how to import data into a Pandas DataFrame; and\n",
    "5. how to manipulate data."
   ]
  },
  {
   "cell_type": "markdown",
   "metadata": {},
   "source": [
    "## <font color = black> Documenting Your Data and Workflow: Best Practices </font>\n",
    "\n",
    "There are two things to do to document your work.  \n",
    "\n",
    "1. Document your data.\n",
    "2. Document your workflow.\n",
    "\n",
    "A _Data Dictionary_ is used for the first and a _Jupyter notebook_ is used for the second."
   ]
  },
  {
   "cell_type": "markdown",
   "metadata": {},
   "source": [
    "### <font color = black> Documenting Your Data </font>\n",
    "\n",
    "The first task in any data analysis is data documentation, perferably in the form of a *Data Dictionary*."
   ]
  },
  {
   "cell_type": "markdown",
   "metadata": {},
   "source": [
    "#### <font color = black> Data Dictionary </font>\n",
    "\n",
    "  The data dictionary contains *metadata* which are data about the data.  Metadata can be anything that helps you understand the data you're using.  Based on [Wikipedia](http://en.wikipedia.org/wiki/Metadata), metadata are information about the distinct data items, such as:\n",
    "\n",
    "     1. means of creation;\n",
    "     2. purpose of the data;\n",
    "     3. time and date of creation;\n",
    "     4. creator/author/keeper of the data;\n",
    "     5. placement on a network (electronic form);\n",
    "     6. where the data were created;\n",
    "     7. what standards were used to create the data; and \n",
    "     8. etc.\n",
    "\n",
    "I'll restrict the metadata to:\n",
    "\n",
    "    1. Variable name;\n",
    "    2. Possible values or value ranges;\n",
    "    3. Source; \n",
    "    3. Date received; and \n",
    "    4. Mnemonic.\n",
    "\n",
    "The mnemonic is the label used in data files and statistical and modeling output.  \n",
    "\n",
    "| Variable                  | Values                                 | Source       | Date Received | Mnemonic     |\n",
    "|---------------------------|----------------------------------------|--------------|---------------|--------------|\n",
    "| Order Number              | Nominal Integer                        | Order Sys    | 02/01/2019    | Onum         |\n",
    "| Customer ID               | Nominal                                | Customer Sys | 02/01/2019    | CID          | \n",
    "| Transaction Date          | MM/DD/YYY                              | Order Sys    | 02/01/2019    | Tdate        | \n",
    "| Product Line ID           | Five rooms of house                    | Product Sys  | 02/01/2019    | Pline        |\n",
    "| Product Class ID          | Item in line                           | Product Sys  | 02/02/2019    | Pclass       |\n",
    "| Units Sold                | Number of units per order              | Order Sys    | 02/01/2019    | Usales       |\n",
    "| Product Returned?         | Yes/No                                 | Order Sys    | 02/01/2019    | Return       |\n",
    "| Amount Returned           | Number of units                        | Order Sys    | 02/01/2019    | returnAmount |\n",
    "| Material Cost/Unit        | \\$US cost of material                  | Product Sys  | 02/01/2019    | Mcost        |\n",
    "| List Price                | \\$US list                              | Price Sys    | 02/01/2019    | Lprice       |\n",
    "| Dealer Discount           | \\% discount to dealer (decimal)        | Sales Sys    | 02/01/2019    | Ddisc        |\n",
    "| Competitive Discount      | \\% discount for competition (decimal)  | Sales Sys    | 02/01/2019    | Cdisc        |\n",
    "| Order Size Discount       | \\% discount for size (decimal)         | Sales Sys    | 02/01/2019    | Odisc        |\n",
    "| Customer Pickup Allowance | \\% discount for pickup (decimal)       | Sales Sys    | 02/01/2019    | Pdisc        |"
   ]
  },
  {
   "cell_type": "markdown",
   "metadata": {},
   "source": [
    "### <font color = black> Documenting Your Work Flow </font>\n",
    "\n",
    "Documenting your workflow is as important as documenting your data.  This documentation will enable you to reproduce your work and make it easier for a colleague to follow what you did.  The *Jupyter notebook* paradigm is the best platform for this documentation."
   ]
  },
  {
   "cell_type": "markdown",
   "metadata": {},
   "source": [
    "#### <font color = black> Jupyter Notebooks: Overview </font>\n",
    "\n",
    "Jupyter is a sophisticated programming tool sometimes called an *ecosystem*.  It is an ecosystem because it will handle a number of programming languages, Python being one of them.  The langauges are called _kernels_.  Other kernels are R, Julia, Fortran to mention a few.  There are over 40 kernels supported by Jupyter.  Jupyter was originally created to handle Julia, Python, and R.  In fact, the name \"Jupyter\" is a contraction for **JU**lia, **PYT**hon, and **R**.\n",
    "\n",
    "The paradigm for Jupyter is a lab notebook used in the physical sciences for laboratory experiment documentation.  The Jupyter notebook consists of cells where text and programming code are entered and executed or *run*.  There are two basic cells:\n",
    "\n",
    "1. Code cell; and \n",
    "2. Markdown cell.\n",
    "\n",
    "A code cell is where programming code is entered and executed.  The results are displayed in another cell that appears immediately below a code cell.  To organize the code and result, the pair of cells are labeled with a marker for the code and the result.  The code marker is In[] and the result marker is Out[].  Inside the square brackets are numbers representing the sequence in which code is executed.  The numbers will vary, and even be out of order, if a code cell is executed several times but a following code cell is not reexecuted.  The sequencing numbers can be reset by rerunning the kernel.  This is done by clicking on Kernel on the main toolbar and selecting *Restart & Run All*.  \n",
    "\n",
    "The markdown cell is where documentation is entered.  This cell, in fact, is a markdown cell.  It is best to use as many markdown cells as possible to document your work.  You will see many examples of this below.<br>\n",
    "\n",
    "A code cell is the default.  You make a code cell a markdown cell by using the drop-down menu list on the main toolbar.  Of course, you can change a markdown cell to a code cell using the same drop-down list.  You could also use keyboard short-cuts.  See *Help/Keyboard Shortcuts* on the main menu bar. \n",
    "\n",
    "You can easily insert/delete cells and move them from one location in your notebook to another.  To insert a cell above the current cell, select the cell as the base for the insert and click on the colored bar on the left until it turns blue.  Then type *A* to insert a cell above the current cell.  Type *B* to insert one below it.  Type *DD* (two D's) to delete the current cell.  To move a cell, select the cell you want to move, click the colored bar on the left, and use the up-arrow and down-arrow icons on the main menu toolbar.  "
   ]
  },
  {
   "cell_type": "markdown",
   "metadata": {},
   "source": [
    "## <font color = black> Importing Python Packages </font>\n",
    "\n",
    "Python is a powerful programming language that allows you to perform all standard programming operations in a clear and consistent manner.  Its strength, adhered to by Python programers, is a coding format that emphasizes readable code.  Indentation is the primary way to accomplish this.  Also, its strength is based on a very wide array of *packages* or *modules*.  Packages perform analysis or data manipulation operations.  There are many packages, each one providing a special set of analysis tools so a package can be viewed as a container of functions.  Sometimes a package contains smaller, more specialized packages so a grand package could be a container for smaller ones.  You will see how to access and use packages and subset packages in this and other lessons.\n",
    "\n",
    "Pandas is a data manipulation graphing package with a lot of capabilities.  It will be used extensively in these lessons.  Seaborn is a scientific graphing package that is intuitive to use.  Although Pandas has visualization methods, Seaborn is preferred because of its quality, extent, and easier syntax.  Both packages use Matplotlib for base graphing functions.  Statsmodels has an array of statistical modeling functions, only a few of which will be used in these lessons.  Numpy and Matplotlib are base packages for Pandas, Seaborn, and Statsmodels.  Except for a few functions, Numpy and Matplotlib will not be used directly."
   ]
  },
  {
   "cell_type": "markdown",
   "metadata": {},
   "source": [
    "### <font color = black> Introduction to Python Packages </font>\n",
    "\n",
    "Analysis functions you will use, such as a function to create a graph or estimate a regression model, require that you specify the package they come from.  Otherwise, Python will not know where to look for the package.  You can either specify the whole package name or an alias to the package -- the alias is easier: there are fewer characters to type!\n",
    "\n",
    "I will use only a few packages in these lessons.  The packages and their typical, almost standard, aliases are:\n",
    "\n",
    "| Package      | Use                           | Typical Alias |\n",
    "|--------------|-------------------------------|---------------|\n",
    "| Pandas       | Basic data manipulation       | pd            |\n",
    "| Seaborn      | Scientific data visualization | sns           |\n",
    "| Statsmodels  | Regression analysis           | sm            |\n",
    "| Scikit-Learn | Machine Learning              | sci           |\n",
    "| Numpy        | Basic data manipulation       | np            |\n",
    "| Matplotlib   | Basic graphing library        | plt           |"
   ]
  },
  {
   "cell_type": "markdown",
   "metadata": {},
   "source": [
    "#### <font color = black> Loading Packages </font>\n",
    "\n",
    "You have to load a package before you can use it.  Loading is done using an *import* command.  The alias is assigned when you import the package.  I recommend loading all the basic packages at once at the beginning of your notebook."
   ]
  },
  {
   "cell_type": "code",
   "execution_count": 2,
   "metadata": {},
   "outputs": [],
   "source": [
    "##\n",
    "## Load packages\n",
    "##\n",
    "import numpy as np\n",
    "import pandas as pd\n",
    "##\n",
    "import seaborn as sns\n",
    "import matplotlib.pyplot as plt\n",
    "##\n",
    "## Matplotlib graphs can be drawn in the Jupyter notebook; the next \n",
    "## command says to do just that.\n",
    "##\n",
    "%matplotlib inline\n",
    "##\n",
    "## Set the seaborn grid style\n",
    "## The dot between the seaborn alias, \"sns\", and the set() function\n",
    "## connects or \"chains\" the alias and the function.\n",
    "##\n",
    "sns.set()\n",
    "##\n",
    "## Statsmodels and Scikit_learn will be imported later\n",
    "##"
   ]
  },
  {
   "cell_type": "markdown",
   "metadata": {},
   "source": [
    "#### <font color = black> Accessing a Function in a Package </font>\n",
    "\n",
    "A function in a package can be accessed by telling Python the package where the function is located and, of course, the name of the function.  These two operations are done with one statement by *chaining* the package name and the function name.  The chain is formed by connecting the package name and the function name by inserting a dot between the two.  Usually, the package alias is used for improved readability.  An example of a chained command is:\n",
    "<br><br>\n",
    "***pd.read_csv( 'lesson1.csv' )***\n",
    "<br><br>\n",
    "where \"pd\" is the alias for Pandas and \"read_csv\" is a Pandas function that reads a *CSV* file (\"lesson1.csv\" in this example). Notice the dot(\".\") between the alias and the function name.  The dot is the chaining operator."
   ]
  },
  {
   "cell_type": "markdown",
   "metadata": {},
   "source": [
    "## <font color = black> Importing Your Data Into Pandas </font>\n",
    "\n",
    "Before you can begin any work, you must first import and examine the structure of your data.  This structure is a rectangular array or matrix or, in Pandas terminology, a *DataFrame*.  When you import your data using Pandas, the imported data immediately goes into a DataFrame.  This is very convenient because Seaborn and StatsModels functions recognize these DataFrames.\n",
    "\n",
    "Pandas provides a set of very flexible import functions.  Which one you should use depends on your data format.  Some typical formats and relevant functions are:\n",
    "\n",
    "| Data Format | Pandas Import Function |\n",
    "|----------|---------------|\n",
    "| CSV       | read_csv       |\n",
    "| Excel     | read_excel     |\n",
    "| Clipboard | read_clipboard |\n",
    "| SQL       | read_sql       |\n",
    "| JSON      | read_json      |\n",
    "| SAS       | read_sas       |\n",
    "\n",
    "Some of these will demonstrated below.\n",
    "\n",
    "I will first import a *CSV* formatted file.  The package alias must be \"chained\" with the *read_csv* import function, otherwise Python will not know where to find the read function. \n",
    "\n",
    "When you import data, you must always specify the file path so Pandas can find the file.  If the data file is in the same directory as the notebook, then a path is unnecessary since Pandas always begins a search in the same directory as the notebook.  Otherwise, you have to specify the path.\n",
    "\n",
    "Several examples of data import are shown below."
   ]
  },
  {
   "cell_type": "markdown",
   "metadata": {},
   "source": [
    "1. Define the data path as shown here; keep the format *r'path'* if necessary.\n",
    "   - If the data are in the same directory as your notebook, then a path is not necessary."
   ]
  },
  {
   "cell_type": "code",
   "execution_count": 3,
   "metadata": {
    "scrolled": false
   },
   "outputs": [
    {
     "data": {
      "text/html": [
       "<div>\n",
       "<style scoped>\n",
       "    .dataframe tbody tr th:only-of-type {\n",
       "        vertical-align: middle;\n",
       "    }\n",
       "\n",
       "    .dataframe tbody tr th {\n",
       "        vertical-align: top;\n",
       "    }\n",
       "\n",
       "    .dataframe thead th {\n",
       "        text-align: right;\n",
       "    }\n",
       "</style>\n",
       "<table border=\"1\" class=\"dataframe\">\n",
       "  <thead>\n",
       "    <tr style=\"text-align: right;\">\n",
       "      <th></th>\n",
       "      <th>Onum</th>\n",
       "      <th>CID</th>\n",
       "      <th>Tdate</th>\n",
       "      <th>Pline</th>\n",
       "      <th>...</th>\n",
       "      <th>Cdisc</th>\n",
       "      <th>Odisc</th>\n",
       "      <th>Pdisc</th>\n",
       "      <th>Tdisc</th>\n",
       "    </tr>\n",
       "  </thead>\n",
       "  <tbody>\n",
       "    <tr>\n",
       "      <th>0</th>\n",
       "      <td>585</td>\n",
       "      <td>1015</td>\n",
       "      <td>2004-01-25</td>\n",
       "      <td>Living Room</td>\n",
       "      <td>...</td>\n",
       "      <td>NaN</td>\n",
       "      <td>0.043</td>\n",
       "      <td>0.042</td>\n",
       "      <td>NaN</td>\n",
       "    </tr>\n",
       "    <tr>\n",
       "      <th>1</th>\n",
       "      <td>586</td>\n",
       "      <td>1015</td>\n",
       "      <td>2004-01-25</td>\n",
       "      <td>Living Room</td>\n",
       "      <td>...</td>\n",
       "      <td>0.075</td>\n",
       "      <td>0.041</td>\n",
       "      <td>0.031</td>\n",
       "      <td>0.304346</td>\n",
       "    </tr>\n",
       "    <tr>\n",
       "      <th>2</th>\n",
       "      <td>587</td>\n",
       "      <td>1015</td>\n",
       "      <td>2004-01-25</td>\n",
       "      <td>Living Room</td>\n",
       "      <td>...</td>\n",
       "      <td>0.048</td>\n",
       "      <td>0.053</td>\n",
       "      <td>0.021</td>\n",
       "      <td>NaN</td>\n",
       "    </tr>\n",
       "    <tr>\n",
       "      <th>3</th>\n",
       "      <td>588</td>\n",
       "      <td>1015</td>\n",
       "      <td>2004-01-25</td>\n",
       "      <td>Living Room</td>\n",
       "      <td>...</td>\n",
       "      <td>0.072</td>\n",
       "      <td>NaN</td>\n",
       "      <td>0.033</td>\n",
       "      <td>NaN</td>\n",
       "    </tr>\n",
       "    <tr>\n",
       "      <th>4</th>\n",
       "      <td>589</td>\n",
       "      <td>1015</td>\n",
       "      <td>2004-01-25</td>\n",
       "      <td>Living Room</td>\n",
       "      <td>...</td>\n",
       "      <td>0.056</td>\n",
       "      <td>0.041</td>\n",
       "      <td>0.055</td>\n",
       "      <td>0.291694</td>\n",
       "    </tr>\n",
       "  </tbody>\n",
       "</table>\n",
       "<p>5 rows × 15 columns</p>\n",
       "</div>"
      ],
      "text/plain": [
       "   Onum   CID      Tdate        Pline    ...     Cdisc  Odisc  Pdisc     Tdisc\n",
       "0   585  1015 2004-01-25  Living Room    ...       NaN  0.043  0.042       NaN\n",
       "1   586  1015 2004-01-25  Living Room    ...     0.075  0.041  0.031  0.304346\n",
       "2   587  1015 2004-01-25  Living Room    ...     0.048  0.053  0.021       NaN\n",
       "3   588  1015 2004-01-25  Living Room    ...     0.072    NaN  0.033       NaN\n",
       "4   589  1015 2004-01-25  Living Room    ...     0.056  0.041  0.055  0.291694\n",
       "\n",
       "[5 rows x 15 columns]"
      ]
     },
     "execution_count": 3,
     "metadata": {},
     "output_type": "execute_result"
    }
   ],
   "source": [
    "##\n",
    "## Specify a path to the CSV data and import or read the data.\n",
    "##\n",
    "file = r'../data/orders.csv'\n",
    "##\n",
    "## Import the data.  The parse_dates argument says to \n",
    "## treat Tdate as a date object.\n",
    "##\n",
    "df_orders = pd.read_csv( file, parse_dates = [ 'Tdate' ] )\n",
    "##\n",
    "## Set an option for the number of columns to display.  Eight in this case.\n",
    "## \n",
    "pd.set_option('display.max_columns', 8)\n",
    "##\n",
    "## Display the head of the DataFrame\n",
    "## Note: This will take a few seconds\n",
    "##\n",
    "df_orders.head()"
   ]
  },
  {
   "cell_type": "markdown",
   "metadata": {},
   "source": [
    "You could also define the path without the file name if you plan to use multiple files from the same directory.  You just have to define the general path and then concatenate the file name.  Here is an example.  Note:\n",
    "\n",
    "1. the \"+\" which instructs Pandas to add or concatenate the two strings;\n",
    "2. the quotes around the file name; and\n",
    "3. the forward slash as the last symbol in the path definition."
   ]
  },
  {
   "cell_type": "code",
   "execution_count": 4,
   "metadata": {},
   "outputs": [],
   "source": [
    "##\n",
    "## Specify a path to the CSV data and concatenate the file name.\n",
    "##\n",
    "## Not run\n",
    "##\n",
    "## path = r'../Data/furniture/final data files/'\n",
    "## df_orders = pd.read_csv( path + 'orders.csv' )\n",
    "## df_orders.head()"
   ]
  },
  {
   "cell_type": "markdown",
   "metadata": {},
   "source": [
    "2. Use the following form if your data are in the same directory as your notebook."
   ]
  },
  {
   "cell_type": "code",
   "execution_count": 5,
   "metadata": {},
   "outputs": [],
   "source": [
    "##\n",
    "## Do not specify a path if the CSV file is in the same directory\n",
    "## as your notebook.\n",
    "##\n",
    "## Not run\n",
    "##\n",
    "## df_orders = pd.read_csv( 'orders.csv' )"
   ]
  },
  {
   "cell_type": "markdown",
   "metadata": {},
   "source": [
    "3. If your data are in an Excel file, use *pd.read_excel( filename, 'sheetname' )*.  The sheet name could be a character string or a sheet number as an integer."
   ]
  },
  {
   "cell_type": "code",
   "execution_count": 6,
   "metadata": {
    "scrolled": false
   },
   "outputs": [],
   "source": [
    "##\n",
    "## Example: Import an Excel file\n",
    "##\n",
    "## Not run\n",
    "##\n",
    "## path = r'../Data/furniture/final data files/'\n",
    "## df_orders = pd.read_excel( path + 'orders.xlsx', 'furniture' )\n",
    "## df_orders.head()"
   ]
  },
  {
   "cell_type": "markdown",
   "metadata": {},
   "source": [
    "## <font color = black> Check your Data </font>\n",
    "\n",
    "Look at:\n",
    "\n",
    "1. the head of your data;\n",
    "2. the shape of your DataFrame; \n",
    "3. a list of column names; and\n",
    "4. the missingness of your data."
   ]
  },
  {
   "cell_type": "markdown",
   "metadata": {},
   "source": [
    "### Task \\#1: Display the first few records of your DataFrame"
   ]
  },
  {
   "cell_type": "code",
   "execution_count": 7,
   "metadata": {},
   "outputs": [
    {
     "data": {
      "text/html": [
       "<div>\n",
       "<style scoped>\n",
       "    .dataframe tbody tr th:only-of-type {\n",
       "        vertical-align: middle;\n",
       "    }\n",
       "\n",
       "    .dataframe tbody tr th {\n",
       "        vertical-align: top;\n",
       "    }\n",
       "\n",
       "    .dataframe thead th {\n",
       "        text-align: right;\n",
       "    }\n",
       "</style>\n",
       "<table border=\"1\" class=\"dataframe\">\n",
       "  <thead>\n",
       "    <tr style=\"text-align: right;\">\n",
       "      <th></th>\n",
       "      <th>Onum</th>\n",
       "      <th>CID</th>\n",
       "      <th>Tdate</th>\n",
       "      <th>Pline</th>\n",
       "      <th>...</th>\n",
       "      <th>Cdisc</th>\n",
       "      <th>Odisc</th>\n",
       "      <th>Pdisc</th>\n",
       "      <th>Tdisc</th>\n",
       "    </tr>\n",
       "  </thead>\n",
       "  <tbody>\n",
       "    <tr>\n",
       "      <th>0</th>\n",
       "      <td>585</td>\n",
       "      <td>1015</td>\n",
       "      <td>2004-01-25</td>\n",
       "      <td>Living Room</td>\n",
       "      <td>...</td>\n",
       "      <td>NaN</td>\n",
       "      <td>0.043</td>\n",
       "      <td>0.042</td>\n",
       "      <td>NaN</td>\n",
       "    </tr>\n",
       "    <tr>\n",
       "      <th>1</th>\n",
       "      <td>586</td>\n",
       "      <td>1015</td>\n",
       "      <td>2004-01-25</td>\n",
       "      <td>Living Room</td>\n",
       "      <td>...</td>\n",
       "      <td>0.075</td>\n",
       "      <td>0.041</td>\n",
       "      <td>0.031</td>\n",
       "      <td>0.304346</td>\n",
       "    </tr>\n",
       "    <tr>\n",
       "      <th>2</th>\n",
       "      <td>587</td>\n",
       "      <td>1015</td>\n",
       "      <td>2004-01-25</td>\n",
       "      <td>Living Room</td>\n",
       "      <td>...</td>\n",
       "      <td>0.048</td>\n",
       "      <td>0.053</td>\n",
       "      <td>0.021</td>\n",
       "      <td>NaN</td>\n",
       "    </tr>\n",
       "    <tr>\n",
       "      <th>3</th>\n",
       "      <td>588</td>\n",
       "      <td>1015</td>\n",
       "      <td>2004-01-25</td>\n",
       "      <td>Living Room</td>\n",
       "      <td>...</td>\n",
       "      <td>0.072</td>\n",
       "      <td>NaN</td>\n",
       "      <td>0.033</td>\n",
       "      <td>NaN</td>\n",
       "    </tr>\n",
       "    <tr>\n",
       "      <th>4</th>\n",
       "      <td>589</td>\n",
       "      <td>1015</td>\n",
       "      <td>2004-01-25</td>\n",
       "      <td>Living Room</td>\n",
       "      <td>...</td>\n",
       "      <td>0.056</td>\n",
       "      <td>0.041</td>\n",
       "      <td>0.055</td>\n",
       "      <td>0.291694</td>\n",
       "    </tr>\n",
       "  </tbody>\n",
       "</table>\n",
       "<p>5 rows × 15 columns</p>\n",
       "</div>"
      ],
      "text/plain": [
       "   Onum   CID      Tdate        Pline    ...     Cdisc  Odisc  Pdisc     Tdisc\n",
       "0   585  1015 2004-01-25  Living Room    ...       NaN  0.043  0.042       NaN\n",
       "1   586  1015 2004-01-25  Living Room    ...     0.075  0.041  0.031  0.304346\n",
       "2   587  1015 2004-01-25  Living Room    ...     0.048  0.053  0.021       NaN\n",
       "3   588  1015 2004-01-25  Living Room    ...     0.072    NaN  0.033       NaN\n",
       "4   589  1015 2004-01-25  Living Room    ...     0.056  0.041  0.055  0.291694\n",
       "\n",
       "[5 rows x 15 columns]"
      ]
     },
     "execution_count": 7,
     "metadata": {},
     "output_type": "execute_result"
    }
   ],
   "source": [
    "##\n",
    "## Example: list the head of the imported data\n",
    "## n = 5 is the default\n",
    "##\n",
    "df_orders.head( )"
   ]
  },
  {
   "cell_type": "markdown",
   "metadata": {},
   "source": [
    "You should immediately notice that several discounts have missing values indicated by *NaN* (*Not a Number*)."
   ]
  },
  {
   "cell_type": "markdown",
   "metadata": {},
   "source": [
    "### Task \\#2: Check the shape of your DataFrame"
   ]
  },
  {
   "cell_type": "code",
   "execution_count": 8,
   "metadata": {},
   "outputs": [
    {
     "name": "stdout",
     "output_type": "stream",
     "text": [
      "Shape of the DataFrame: (70270, 15)\n"
     ]
    }
   ],
   "source": [
    "##\n",
    "## Example: check the shape of the imported data\n",
    "## Note 1: the order of the returned shape is always #rows, #columns\n",
    "## Note 2: there is no () for this command because the shape\n",
    "## is a DataFrame attribute\n",
    "##\n",
    "print( \"Shape of the DataFrame: {}\".format( df_orders.shape ) )"
   ]
  },
  {
   "cell_type": "markdown",
   "metadata": {},
   "source": [
    "There are 70,270 rows or observations and 15 columns or variables."
   ]
  },
  {
   "cell_type": "markdown",
   "metadata": {},
   "source": [
    "### Task \\#3: Check the column names in your DataFrame"
   ]
  },
  {
   "cell_type": "code",
   "execution_count": 9,
   "metadata": {},
   "outputs": [
    {
     "data": {
      "text/plain": [
       "Index(['Onum', 'CID', 'Tdate', 'Pline', 'Pclass', 'Usales', 'Return',\n",
       "       'returnAmount', 'Mcost', 'Lprice', 'Ddisc', 'Cdisc', 'Odisc', 'Pdisc',\n",
       "       'Tdisc'],\n",
       "      dtype='object')"
      ]
     },
     "execution_count": 9,
     "metadata": {},
     "output_type": "execute_result"
    }
   ],
   "source": [
    "##\n",
    "## Example: list the column names\n",
    "##\n",
    "df_orders.columns"
   ]
  },
  {
   "cell_type": "markdown",
   "metadata": {},
   "source": [
    "### Task \\#4: Check for missing data in your DataFrame"
   ]
  },
  {
   "cell_type": "code",
   "execution_count": 10,
   "metadata": {
    "scrolled": false
   },
   "outputs": [
    {
     "name": "stdout",
     "output_type": "stream",
     "text": [
      "<class 'pandas.core.frame.DataFrame'>\n",
      "RangeIndex: 70270 entries, 0 to 70269\n",
      "Data columns (total 15 columns):\n",
      "Onum            70270 non-null int64\n",
      "CID             70270 non-null int64\n",
      "Tdate           70270 non-null datetime64[ns]\n",
      "Pline           70270 non-null object\n",
      "Pclass          70270 non-null object\n",
      "Usales          70270 non-null int64\n",
      "Return          70270 non-null object\n",
      "returnAmount    70270 non-null int64\n",
      "Mcost           70270 non-null float64\n",
      "Lprice          70270 non-null float64\n",
      "Ddisc           70262 non-null float64\n",
      "Cdisc           70261 non-null float64\n",
      "Odisc           70266 non-null float64\n",
      "Pdisc           70268 non-null float64\n",
      "Tdisc           70257 non-null float64\n",
      "dtypes: datetime64[ns](1), float64(7), int64(4), object(3)\n",
      "memory usage: 8.0+ MB\n"
     ]
    }
   ],
   "source": [
    "##\n",
    "## Use the DataFrame's information content.  The info()\n",
    "## method returns the number of non-missing rows for\n",
    "## each variable.  The number should be the same.\n",
    "##\n",
    "df_orders.info()"
   ]
  },
  {
   "cell_type": "markdown",
   "metadata": {},
   "source": [
    "The above listing indicates that the four discounts each have missing values. \n",
    "\n",
    "You can count the number of missing values using the *isnull()* method and chaining the *sum()* function.  The *isnull()* method returns a Boolean variable so the *sum()* function just adds 0 and 1 values.  Use a nice print statement for clarity."
   ]
  },
  {
   "cell_type": "code",
   "execution_count": 11,
   "metadata": {},
   "outputs": [
    {
     "name": "stdout",
     "output_type": "stream",
     "text": [
      "Missing count for Odisc: 4\n"
     ]
    }
   ],
   "source": [
    "##\n",
    "## Sum the Boolean variable returned by isull()\n",
    "## Let us check the Order Discount (Odisc).\n",
    "##\n",
    "x = df_orders.Odisc.isnull().sum()\n",
    "print( 'Missing count for Odisc: {}'.format( x ) )"
   ]
  },
  {
   "cell_type": "markdown",
   "metadata": {},
   "source": [
    "You can check the proportion of each variable that is missing rather than the sum. Proportions are more meaningful. Use the *mean()* function for this.  Since *isnull()* returns a Boolean, the mean is just the proportion."
   ]
  },
  {
   "cell_type": "code",
   "execution_count": 12,
   "metadata": {},
   "outputs": [
    {
     "data": {
      "text/plain": [
       "Ddisc    0.40\n",
       "Odisc    0.20\n",
       "Cdisc    0.45\n",
       "Pdisc    0.10\n",
       "dtype: float64"
      ]
     },
     "execution_count": 12,
     "metadata": {},
     "output_type": "execute_result"
    }
   ],
   "source": [
    "##\n",
    "## Check for missing values only for the discounts.\n",
    "## Chain the mean() function to the isnull() method.\n",
    "## Note: Do this for first 20 records for illustration only.\n",
    "##\n",
    "x = [ 'Ddisc', 'Odisc', 'Cdisc', 'Pdisc' ]\n",
    "df_orders[ x ].iloc[ :20 ].isnull().mean()"
   ]
  },
  {
   "cell_type": "markdown",
   "metadata": {},
   "source": [
    "Create a heatmap of missing data using the *isnull()* method on the entire DataFrame.  Use the transpose attribute, *T*, for a more readable chart."
   ]
  },
  {
   "cell_type": "code",
   "execution_count": 13,
   "metadata": {},
   "outputs": [
    {
     "data": {
      "text/plain": [
       "Text(0.5,1,'Heatmap of Missing Data')"
      ]
     },
     "execution_count": 13,
     "metadata": {},
     "output_type": "execute_result"
    },
    {
     "data": {
      "image/png": "[encoded data removed]",
      "text/plain": [
       "<Figure size 432x288 with 1 Axes>"
      ]
     },
     "metadata": {
      "needs_background": "light"
     },
     "output_type": "display_data"
    }
   ],
   "source": [
    "##\n",
    "## Note: the \"cbar = False\" argument turns off the color bar\n",
    "## Note: Do this for first 20 records for illustration only\n",
    "##\n",
    "x = [ 'Ddisc', 'Odisc', 'Cdisc', 'Pdisc' ]\n",
    "sns.heatmap( df_orders[ x ].iloc[ :20, : ].isnull().T, cbar = False ).set_title( 'Heatmap of Missing Data' )"
   ]
  },
  {
   "cell_type": "markdown",
   "metadata": {},
   "source": [
    "## <font color = black> Cleaning and Wrangling Your Data </font>\n",
    "\n",
    "Sometimes you need to clean the columns in your DataFrame.  The columns are *variables* or *features*.  This could be deleting, printing/displaying, and creating new variables.  Other times you have to *merge* or *join* your DataFrame with another DataFrame to have a more complete data set for your analysis."
   ]
  },
  {
   "cell_type": "markdown",
   "metadata": {},
   "source": [
    "### <font color = black> Creating Variables </font>\n",
    "\n",
    "You can create new variables using standard arithmetic notation.  Here is an example of adding the four discounts to get the total discount.  Each discount variable is an *attribute* of the DataFrame and so they can be accessed using dot notation."
   ]
  },
  {
   "cell_type": "code",
   "execution_count": 14,
   "metadata": {
    "scrolled": true
   },
   "outputs": [
    {
     "data": {
      "text/html": [
       "<div>\n",
       "<style scoped>\n",
       "    .dataframe tbody tr th:only-of-type {\n",
       "        vertical-align: middle;\n",
       "    }\n",
       "\n",
       "    .dataframe tbody tr th {\n",
       "        vertical-align: top;\n",
       "    }\n",
       "\n",
       "    .dataframe thead th {\n",
       "        text-align: right;\n",
       "    }\n",
       "</style>\n",
       "<table border=\"1\" class=\"dataframe\">\n",
       "  <thead>\n",
       "    <tr style=\"text-align: right;\">\n",
       "      <th></th>\n",
       "      <th>Ddisc</th>\n",
       "      <th>Odisc</th>\n",
       "      <th>Cdisc</th>\n",
       "      <th>Pdisc</th>\n",
       "      <th>Tdisc</th>\n",
       "    </tr>\n",
       "  </thead>\n",
       "  <tbody>\n",
       "    <tr>\n",
       "      <th>0</th>\n",
       "      <td>NaN</td>\n",
       "      <td>0.043</td>\n",
       "      <td>NaN</td>\n",
       "      <td>0.042</td>\n",
       "      <td>0.085</td>\n",
       "    </tr>\n",
       "    <tr>\n",
       "      <th>1</th>\n",
       "      <td>0.157</td>\n",
       "      <td>0.041</td>\n",
       "      <td>0.075</td>\n",
       "      <td>0.031</td>\n",
       "      <td>0.304</td>\n",
       "    </tr>\n",
       "    <tr>\n",
       "      <th>2</th>\n",
       "      <td>NaN</td>\n",
       "      <td>0.053</td>\n",
       "      <td>0.048</td>\n",
       "      <td>0.021</td>\n",
       "      <td>0.122</td>\n",
       "    </tr>\n",
       "    <tr>\n",
       "      <th>3</th>\n",
       "      <td>NaN</td>\n",
       "      <td>NaN</td>\n",
       "      <td>0.072</td>\n",
       "      <td>0.033</td>\n",
       "      <td>0.105</td>\n",
       "    </tr>\n",
       "    <tr>\n",
       "      <th>4</th>\n",
       "      <td>0.140</td>\n",
       "      <td>0.041</td>\n",
       "      <td>0.056</td>\n",
       "      <td>0.055</td>\n",
       "      <td>0.292</td>\n",
       "    </tr>\n",
       "  </tbody>\n",
       "</table>\n",
       "</div>"
      ],
      "text/plain": [
       "   Ddisc  Odisc  Cdisc  Pdisc  Tdisc\n",
       "0    NaN  0.043    NaN  0.042  0.085\n",
       "1  0.157  0.041  0.075  0.031  0.304\n",
       "2    NaN  0.053  0.048  0.021  0.122\n",
       "3    NaN    NaN  0.072  0.033  0.105\n",
       "4  0.140  0.041  0.056  0.055  0.292"
      ]
     },
     "execution_count": 14,
     "metadata": {},
     "output_type": "execute_result"
    }
   ],
   "source": [
    "##\n",
    "## Calculate total discount.\n",
    "##\n",
    "## Discounts are sometimes called \"leakages\" so the total is \n",
    "## the total leakage.\n",
    "##\n",
    "## Note: use \"axis = 1\" in the sum() function to sum across columns.\n",
    "## This allows you to do the summation even with missing values.\n",
    "##\n",
    "x = [ 'Ddisc', 'Odisc', 'Cdisc', 'Pdisc' ]\n",
    "df_orders[ 'Tdisc' ] = df_orders[ x ].sum( axis = 1 )\n",
    "##\n",
    "## Display only the discounts\n",
    "##\n",
    "x = [ 'Ddisc', 'Odisc', 'Cdisc', 'Pdisc', 'Tdisc' ]\n",
    "df_orders[ x ].head()"
   ]
  },
  {
   "cell_type": "markdown",
   "metadata": {},
   "source": [
    "### <font color = black> Deleting Columns </font>\n",
    "\n",
    "You can easily delete unwanted columns with the *drop* method.  You must specify if you want the DataFrame replaced or not; the default is to not replace in which case you must assign a new name to the modified DataFrame.  If you drop a column, it is good practice to not replace your DataFrame so that you preserve your original data.\n",
    "\n",
    "The *drop* method can be used to drop rows or columns, so you have to tell it which one.  This is done with the *axis* arugment.  The DataFrame, as a simple rectangular array, is said to have two *axes*: the row axis and the column axis.  Since in mathematics the size of matrix is conventionally specified as #row x #columns (rows always come before columns), the DataFrame axes are designated as 0 and 1 for rows and columns, respectively, since 0 comes before 1.  Specifying *axis = 0* in the *drop* method says to drop a row while specifying *axis = 1* says to drop a column. The default is *axis=0*. "
   ]
  },
  {
   "cell_type": "code",
   "execution_count": 15,
   "metadata": {},
   "outputs": [],
   "source": [
    "##\n",
    "## Drop a column and replace the DataFrame.  Notice that axis = 1 is used\n",
    "## to drop a column.\n",
    "## \n",
    "## Not Run\n",
    "##\n",
    "## df_orders.drop( 'obs', axis = 1, inplace = True )\n",
    "## df_orders.head()"
   ]
  },
  {
   "cell_type": "markdown",
   "metadata": {},
   "source": [
    "### <font color = black> Printing or Displaying Specific Columns </font>"
   ]
  },
  {
   "cell_type": "markdown",
   "metadata": {},
   "source": [
    "You can print specific columns by referring to their column indexes.  You can also print rows by chaining the *head()* function to the DataFrame name.  The default is the first five rows of your selection.\n",
    "\n",
    "In this example, I will print the specific columns 2, 3, and 4.  What you would count as columns 2 - 4, Python counts as 1 - 4 because of the offset from the beginning.  Note that the column listing is left inclusive but right exclusive; in math notation, it is ( x ] which says to include column 1 and exclude 4.  Remember that column 1 is the first offset from the beginning so you see it as the second column."
   ]
  },
  {
   "cell_type": "code",
   "execution_count": 16,
   "metadata": {
    "scrolled": true
   },
   "outputs": [
    {
     "data": {
      "text/html": [
       "<div>\n",
       "<style scoped>\n",
       "    .dataframe tbody tr th:only-of-type {\n",
       "        vertical-align: middle;\n",
       "    }\n",
       "\n",
       "    .dataframe tbody tr th {\n",
       "        vertical-align: top;\n",
       "    }\n",
       "\n",
       "    .dataframe thead th {\n",
       "        text-align: right;\n",
       "    }\n",
       "</style>\n",
       "<table border=\"1\" class=\"dataframe\">\n",
       "  <thead>\n",
       "    <tr style=\"text-align: right;\">\n",
       "      <th></th>\n",
       "      <th>Onum</th>\n",
       "      <th>CID</th>\n",
       "      <th>Tdate</th>\n",
       "      <th>Pline</th>\n",
       "    </tr>\n",
       "  </thead>\n",
       "  <tbody>\n",
       "    <tr>\n",
       "      <th>0</th>\n",
       "      <td>585</td>\n",
       "      <td>1015</td>\n",
       "      <td>2004-01-25</td>\n",
       "      <td>Living Room</td>\n",
       "    </tr>\n",
       "    <tr>\n",
       "      <th>1</th>\n",
       "      <td>586</td>\n",
       "      <td>1015</td>\n",
       "      <td>2004-01-25</td>\n",
       "      <td>Living Room</td>\n",
       "    </tr>\n",
       "    <tr>\n",
       "      <th>2</th>\n",
       "      <td>587</td>\n",
       "      <td>1015</td>\n",
       "      <td>2004-01-25</td>\n",
       "      <td>Living Room</td>\n",
       "    </tr>\n",
       "    <tr>\n",
       "      <th>3</th>\n",
       "      <td>588</td>\n",
       "      <td>1015</td>\n",
       "      <td>2004-01-25</td>\n",
       "      <td>Living Room</td>\n",
       "    </tr>\n",
       "    <tr>\n",
       "      <th>4</th>\n",
       "      <td>589</td>\n",
       "      <td>1015</td>\n",
       "      <td>2004-01-25</td>\n",
       "      <td>Living Room</td>\n",
       "    </tr>\n",
       "  </tbody>\n",
       "</table>\n",
       "</div>"
      ],
      "text/plain": [
       "   Onum   CID      Tdate        Pline\n",
       "0   585  1015 2004-01-25  Living Room\n",
       "1   586  1015 2004-01-25  Living Room\n",
       "2   587  1015 2004-01-25  Living Room\n",
       "3   588  1015 2004-01-25  Living Room\n",
       "4   589  1015 2004-01-25  Living Room"
      ]
     },
     "execution_count": 16,
     "metadata": {},
     "output_type": "execute_result"
    }
   ],
   "source": [
    "##\n",
    "## Example: \n",
    "##\n",
    "## Notice that columns 0, 1, 2, and 3 BUT NOT 4\n",
    "## are displayed\n",
    "##\n",
    "df_orders[ df_orders.columns[ 0:4 ] ].head()"
   ]
  },
  {
   "cell_type": "markdown",
   "metadata": {},
   "source": [
    "You can also create a list, which is in square brackets, to select the columns and then use that list."
   ]
  },
  {
   "cell_type": "code",
   "execution_count": 17,
   "metadata": {},
   "outputs": [],
   "source": [
    "##\n",
    "## Create a list of columns\n",
    "##\n",
    "## Not Run\n",
    "##\n",
    "##x = [ 'Tdate', 'State', 'Region' ]\n",
    "##df_orders[ x ].head()"
   ]
  },
  {
   "cell_type": "markdown",
   "metadata": {},
   "source": [
    "### <font color = blue> Exercises </font>"
   ]
  },
  {
   "cell_type": "markdown",
   "metadata": {},
   "source": [
    "#### <font color = black> Exercise \\#1.1 </font>\n",
    "\n",
    "The *Pocket Price* is the list price less total discounts or total leakages.  It is the amount the business \"pockets\" and is the amount the customer actually pays.  The pocket price formula is $Pprice = Lprice - Tdisc$.  Calculate the pocket price and display the first five records for the list price and pocket price."
   ]
  },
  {
   "cell_type": "code",
   "execution_count": 18,
   "metadata": {},
   "outputs": [],
   "source": [
    "##\n",
    "## Enter code here\n",
    "##\n"
   ]
  },
  {
   "cell_type": "markdown",
   "metadata": {},
   "source": [
    "**Solution**:"
   ]
  },
  {
   "cell_type": "code",
   "execution_count": 19,
   "metadata": {},
   "outputs": [
    {
     "data": {
      "text/html": [
       "<div>\n",
       "<style scoped>\n",
       "    .dataframe tbody tr th:only-of-type {\n",
       "        vertical-align: middle;\n",
       "    }\n",
       "\n",
       "    .dataframe tbody tr th {\n",
       "        vertical-align: top;\n",
       "    }\n",
       "\n",
       "    .dataframe thead th {\n",
       "        text-align: right;\n",
       "    }\n",
       "</style>\n",
       "<table border=\"1\" class=\"dataframe\">\n",
       "  <thead>\n",
       "    <tr style=\"text-align: right;\">\n",
       "      <th></th>\n",
       "      <th>Lprice</th>\n",
       "      <th>Tdisc</th>\n",
       "      <th>Pprice</th>\n",
       "    </tr>\n",
       "  </thead>\n",
       "  <tbody>\n",
       "    <tr>\n",
       "      <th>0</th>\n",
       "      <td>5.4</td>\n",
       "      <td>0.085</td>\n",
       "      <td>4.9410</td>\n",
       "    </tr>\n",
       "    <tr>\n",
       "      <th>1</th>\n",
       "      <td>5.4</td>\n",
       "      <td>0.304</td>\n",
       "      <td>3.7584</td>\n",
       "    </tr>\n",
       "    <tr>\n",
       "      <th>2</th>\n",
       "      <td>5.4</td>\n",
       "      <td>0.122</td>\n",
       "      <td>4.7412</td>\n",
       "    </tr>\n",
       "    <tr>\n",
       "      <th>3</th>\n",
       "      <td>5.4</td>\n",
       "      <td>0.105</td>\n",
       "      <td>4.8330</td>\n",
       "    </tr>\n",
       "    <tr>\n",
       "      <th>4</th>\n",
       "      <td>5.4</td>\n",
       "      <td>0.292</td>\n",
       "      <td>3.8232</td>\n",
       "    </tr>\n",
       "  </tbody>\n",
       "</table>\n",
       "</div>"
      ],
      "text/plain": [
       "   Lprice  Tdisc  Pprice\n",
       "0     5.4  0.085  4.9410\n",
       "1     5.4  0.304  3.7584\n",
       "2     5.4  0.122  4.7412\n",
       "3     5.4  0.105  4.8330\n",
       "4     5.4  0.292  3.8232"
      ]
     },
     "execution_count": 19,
     "metadata": {},
     "output_type": "execute_result"
    }
   ],
   "source": [
    "df_orders[ 'Pprice' ] = df_orders.Lprice * (1 - df_orders.Tdisc)\n",
    "x = [ 'Lprice', 'Tdisc', 'Pprice' ]\n",
    "df_orders[ x ].head()"
   ]
  },
  {
   "cell_type": "markdown",
   "metadata": {},
   "source": [
    "#### <font color = black> Exercise \\#1.2 </font>\n",
    "\n",
    "Calculate total revenue as $Rev = Usales \\times Pprice$."
   ]
  },
  {
   "cell_type": "code",
   "execution_count": 19,
   "metadata": {},
   "outputs": [],
   "source": [
    "##\n",
    "## Enter code here\n",
    "##\n"
   ]
  },
  {
   "cell_type": "markdown",
   "metadata": {},
   "source": [
    "**Solution**:"
   ]
  },
  {
   "cell_type": "code",
   "execution_count": 20,
   "metadata": {},
   "outputs": [
    {
     "data": {
      "text/html": [
       "<div>\n",
       "<style scoped>\n",
       "    .dataframe tbody tr th:only-of-type {\n",
       "        vertical-align: middle;\n",
       "    }\n",
       "\n",
       "    .dataframe tbody tr th {\n",
       "        vertical-align: top;\n",
       "    }\n",
       "\n",
       "    .dataframe thead th {\n",
       "        text-align: right;\n",
       "    }\n",
       "</style>\n",
       "<table border=\"1\" class=\"dataframe\">\n",
       "  <thead>\n",
       "    <tr style=\"text-align: right;\">\n",
       "      <th></th>\n",
       "      <th>Usales</th>\n",
       "      <th>Pprice</th>\n",
       "      <th>Rev</th>\n",
       "    </tr>\n",
       "  </thead>\n",
       "  <tbody>\n",
       "    <tr>\n",
       "      <th>0</th>\n",
       "      <td>36</td>\n",
       "      <td>5.315</td>\n",
       "      <td>191.340</td>\n",
       "    </tr>\n",
       "    <tr>\n",
       "      <th>1</th>\n",
       "      <td>57</td>\n",
       "      <td>5.096</td>\n",
       "      <td>290.472</td>\n",
       "    </tr>\n",
       "    <tr>\n",
       "      <th>2</th>\n",
       "      <td>27</td>\n",
       "      <td>5.278</td>\n",
       "      <td>142.506</td>\n",
       "    </tr>\n",
       "    <tr>\n",
       "      <th>3</th>\n",
       "      <td>21</td>\n",
       "      <td>5.295</td>\n",
       "      <td>111.195</td>\n",
       "    </tr>\n",
       "    <tr>\n",
       "      <th>4</th>\n",
       "      <td>56</td>\n",
       "      <td>5.108</td>\n",
       "      <td>286.048</td>\n",
       "    </tr>\n",
       "  </tbody>\n",
       "</table>\n",
       "</div>"
      ],
      "text/plain": [
       "   Usales  Pprice      Rev\n",
       "0      36   5.315  191.340\n",
       "1      57   5.096  290.472\n",
       "2      27   5.278  142.506\n",
       "3      21   5.295  111.195\n",
       "4      56   5.108  286.048"
      ]
     },
     "execution_count": 20,
     "metadata": {},
     "output_type": "execute_result"
    }
   ],
   "source": [
    "df_orders[ 'Rev' ] = df_orders.Usales * df_orders.Pprice\n",
    "x = [ 'Usales', 'Pprice', 'Rev' ]\n",
    "df_orders[ x ].head()"
   ]
  },
  {
   "cell_type": "markdown",
   "metadata": {},
   "source": [
    "##### <font color = black> Exercise \\#1.3 </font>\n",
    "\n",
    "*Contribution* and *contribution margin* are two values financial analysts often examine.  Contribution is comparable to what economists call *profit* but is more restricted in that it just refers to a product without considering any fixed or overhead costs.  Contribution is $Con = Revenue - Material~Cost$ and contribution margin is $CM = \\dfrac{Con}{Revenue}$.  Calculate both quantities and display the first 5 records of unit sales, pocket price, material cost, revenue, contribution, and contribution margin."
   ]
  },
  {
   "cell_type": "code",
   "execution_count": 21,
   "metadata": {},
   "outputs": [],
   "source": [
    "##\n",
    "## Enter code here\n",
    "##\n"
   ]
  },
  {
   "cell_type": "markdown",
   "metadata": {},
   "source": [
    "**Solution**:"
   ]
  },
  {
   "cell_type": "code",
   "execution_count": 22,
   "metadata": {},
   "outputs": [
    {
     "data": {
      "text/html": [
       "<div>\n",
       "<style scoped>\n",
       "    .dataframe tbody tr th:only-of-type {\n",
       "        vertical-align: middle;\n",
       "    }\n",
       "\n",
       "    .dataframe tbody tr th {\n",
       "        vertical-align: top;\n",
       "    }\n",
       "\n",
       "    .dataframe thead th {\n",
       "        text-align: right;\n",
       "    }\n",
       "</style>\n",
       "<table border=\"1\" class=\"dataframe\">\n",
       "  <thead>\n",
       "    <tr style=\"text-align: right;\">\n",
       "      <th></th>\n",
       "      <th>Usales</th>\n",
       "      <th>Pprice</th>\n",
       "      <th>Mcost</th>\n",
       "      <th>Rev</th>\n",
       "      <th>Con</th>\n",
       "      <th>CM</th>\n",
       "    </tr>\n",
       "  </thead>\n",
       "  <tbody>\n",
       "    <tr>\n",
       "      <th>0</th>\n",
       "      <td>36</td>\n",
       "      <td>5.315</td>\n",
       "      <td>0.95</td>\n",
       "      <td>191.340</td>\n",
       "      <td>190.390</td>\n",
       "      <td>0.995035</td>\n",
       "    </tr>\n",
       "    <tr>\n",
       "      <th>1</th>\n",
       "      <td>57</td>\n",
       "      <td>5.096</td>\n",
       "      <td>0.95</td>\n",
       "      <td>290.472</td>\n",
       "      <td>289.522</td>\n",
       "      <td>0.996729</td>\n",
       "    </tr>\n",
       "    <tr>\n",
       "      <th>2</th>\n",
       "      <td>27</td>\n",
       "      <td>5.278</td>\n",
       "      <td>0.95</td>\n",
       "      <td>142.506</td>\n",
       "      <td>141.556</td>\n",
       "      <td>0.993334</td>\n",
       "    </tr>\n",
       "    <tr>\n",
       "      <th>3</th>\n",
       "      <td>21</td>\n",
       "      <td>5.295</td>\n",
       "      <td>0.95</td>\n",
       "      <td>111.195</td>\n",
       "      <td>110.245</td>\n",
       "      <td>0.991456</td>\n",
       "    </tr>\n",
       "    <tr>\n",
       "      <th>4</th>\n",
       "      <td>56</td>\n",
       "      <td>5.108</td>\n",
       "      <td>0.95</td>\n",
       "      <td>286.048</td>\n",
       "      <td>285.098</td>\n",
       "      <td>0.996679</td>\n",
       "    </tr>\n",
       "  </tbody>\n",
       "</table>\n",
       "</div>"
      ],
      "text/plain": [
       "   Usales  Pprice  Mcost      Rev      Con        CM\n",
       "0      36   5.315   0.95  191.340  190.390  0.995035\n",
       "1      57   5.096   0.95  290.472  289.522  0.996729\n",
       "2      27   5.278   0.95  142.506  141.556  0.993334\n",
       "3      21   5.295   0.95  111.195  110.245  0.991456\n",
       "4      56   5.108   0.95  286.048  285.098  0.996679"
      ]
     },
     "execution_count": 22,
     "metadata": {},
     "output_type": "execute_result"
    }
   ],
   "source": [
    "df_orders[ 'Con' ] = df_orders.Rev - df_orders.Mcost\n",
    "df_orders[ 'CM' ] = df_orders.Con/df_orders.Rev\n",
    "x = [ 'Usales', 'Pprice', 'Mcost', 'Rev', 'Con', 'CM' ]\n",
    "df_orders[ x ].head( )"
   ]
  },
  {
   "cell_type": "markdown",
   "metadata": {},
   "source": [
    "#### <font color = black> Exercise \\#1.4 </font>\n",
    "\n",
    "Some products are returned so another revenue number, *revenue net of returns*, is more meaningful and revealing for business decisions.  Net revenue is\n",
    "<br><br>\n",
    "*Net Revenue = (Unit Sales - Returns) * Pocket Price*.\n",
    "<br><br>\n",
    "Calculate net revenue and call it 'netRev'.  Also calculate the loss in revenue due to the returns and call it 'lostRev'.  Display the first five records of the DataFrame using just gross revenue, net revenue, and the loss due to returns.  "
   ]
  },
  {
   "cell_type": "code",
   "execution_count": 23,
   "metadata": {
    "scrolled": true
   },
   "outputs": [],
   "source": [
    "##\n",
    "## Enter code here\n",
    "##\n"
   ]
  },
  {
   "cell_type": "markdown",
   "metadata": {},
   "source": [
    "**Solution**:"
   ]
  },
  {
   "cell_type": "code",
   "execution_count": 24,
   "metadata": {},
   "outputs": [
    {
     "data": {
      "text/html": [
       "<div>\n",
       "<style scoped>\n",
       "    .dataframe tbody tr th:only-of-type {\n",
       "        vertical-align: middle;\n",
       "    }\n",
       "\n",
       "    .dataframe tbody tr th {\n",
       "        vertical-align: top;\n",
       "    }\n",
       "\n",
       "    .dataframe thead th {\n",
       "        text-align: right;\n",
       "    }\n",
       "</style>\n",
       "<table border=\"1\" class=\"dataframe\">\n",
       "  <thead>\n",
       "    <tr style=\"text-align: right;\">\n",
       "      <th></th>\n",
       "      <th>Onum</th>\n",
       "      <th>CID</th>\n",
       "      <th>Tdate</th>\n",
       "      <th>Pline</th>\n",
       "      <th>...</th>\n",
       "      <th>Con</th>\n",
       "      <th>CM</th>\n",
       "      <th>netRev</th>\n",
       "      <th>lostRev</th>\n",
       "    </tr>\n",
       "  </thead>\n",
       "  <tbody>\n",
       "    <tr>\n",
       "      <th>0</th>\n",
       "      <td>585</td>\n",
       "      <td>1015</td>\n",
       "      <td>2004-01-25</td>\n",
       "      <td>Living Room</td>\n",
       "      <td>...</td>\n",
       "      <td>190.390</td>\n",
       "      <td>0.995035</td>\n",
       "      <td>191.340</td>\n",
       "      <td>0.0</td>\n",
       "    </tr>\n",
       "    <tr>\n",
       "      <th>1</th>\n",
       "      <td>586</td>\n",
       "      <td>1015</td>\n",
       "      <td>2004-01-25</td>\n",
       "      <td>Living Room</td>\n",
       "      <td>...</td>\n",
       "      <td>289.522</td>\n",
       "      <td>0.996729</td>\n",
       "      <td>290.472</td>\n",
       "      <td>0.0</td>\n",
       "    </tr>\n",
       "    <tr>\n",
       "      <th>2</th>\n",
       "      <td>587</td>\n",
       "      <td>1015</td>\n",
       "      <td>2004-01-25</td>\n",
       "      <td>Living Room</td>\n",
       "      <td>...</td>\n",
       "      <td>141.556</td>\n",
       "      <td>0.993334</td>\n",
       "      <td>142.506</td>\n",
       "      <td>0.0</td>\n",
       "    </tr>\n",
       "    <tr>\n",
       "      <th>3</th>\n",
       "      <td>588</td>\n",
       "      <td>1015</td>\n",
       "      <td>2004-01-25</td>\n",
       "      <td>Living Room</td>\n",
       "      <td>...</td>\n",
       "      <td>110.245</td>\n",
       "      <td>0.991456</td>\n",
       "      <td>111.195</td>\n",
       "      <td>0.0</td>\n",
       "    </tr>\n",
       "    <tr>\n",
       "      <th>4</th>\n",
       "      <td>589</td>\n",
       "      <td>1015</td>\n",
       "      <td>2004-01-25</td>\n",
       "      <td>Living Room</td>\n",
       "      <td>...</td>\n",
       "      <td>285.098</td>\n",
       "      <td>0.996679</td>\n",
       "      <td>286.048</td>\n",
       "      <td>0.0</td>\n",
       "    </tr>\n",
       "  </tbody>\n",
       "</table>\n",
       "<p>5 rows × 21 columns</p>\n",
       "</div>"
      ],
      "text/plain": [
       "   Onum   CID      Tdate        Pline   ...         Con        CM   netRev  \\\n",
       "0   585  1015 2004-01-25  Living Room   ...     190.390  0.995035  191.340   \n",
       "1   586  1015 2004-01-25  Living Room   ...     289.522  0.996729  290.472   \n",
       "2   587  1015 2004-01-25  Living Room   ...     141.556  0.993334  142.506   \n",
       "3   588  1015 2004-01-25  Living Room   ...     110.245  0.991456  111.195   \n",
       "4   589  1015 2004-01-25  Living Room   ...     285.098  0.996679  286.048   \n",
       "\n",
       "   lostRev  \n",
       "0      0.0  \n",
       "1      0.0  \n",
       "2      0.0  \n",
       "3      0.0  \n",
       "4      0.0  \n",
       "\n",
       "[5 rows x 21 columns]"
      ]
     },
     "execution_count": 24,
     "metadata": {},
     "output_type": "execute_result"
    }
   ],
   "source": [
    "df_orders[ 'netRev' ] = ( df_orders.Usales - df_orders.returnAmount )*df_orders.Pprice\n",
    "df_orders[ 'lostRev' ] = df_orders.Rev - df_orders.netRev\n",
    "##\n",
    "df_orders.head()"
   ]
  },
  {
   "cell_type": "markdown",
   "metadata": {},
   "source": [
    "### <font color = black> Merge or Join DataFrames </font>\n",
    "\n",
    "It is not unusual to have data in two (or more) tables so you will need to merge or joint them to get all the data you need for an analysis.  In this case, a second data table has information on each customer and this second table must be merged with the orders table.  The merge is done on the customer *ID* (*CID*).  There are many types of joins but we will only use an inner join in the examples."
   ]
  },
  {
   "cell_type": "code",
   "execution_count": 26,
   "metadata": {
    "scrolled": true
   },
   "outputs": [
    {
     "data": {
      "text/html": [
       "<div>\n",
       "<style scoped>\n",
       "    .dataframe tbody tr th:only-of-type {\n",
       "        vertical-align: middle;\n",
       "    }\n",
       "\n",
       "    .dataframe tbody tr th {\n",
       "        vertical-align: top;\n",
       "    }\n",
       "\n",
       "    .dataframe thead th {\n",
       "        text-align: right;\n",
       "    }\n",
       "</style>\n",
       "<table border=\"1\" class=\"dataframe\">\n",
       "  <thead>\n",
       "    <tr style=\"text-align: right;\">\n",
       "      <th></th>\n",
       "      <th>CID</th>\n",
       "      <th>State</th>\n",
       "      <th>ZIP</th>\n",
       "      <th>Region</th>\n",
       "      <th>loyaltyProgram</th>\n",
       "      <th>buyerRating</th>\n",
       "      <th>buyerSatisfaction</th>\n",
       "    </tr>\n",
       "  </thead>\n",
       "  <tbody>\n",
       "    <tr>\n",
       "      <th>0</th>\n",
       "      <td>1700</td>\n",
       "      <td>MT</td>\n",
       "      <td>59821</td>\n",
       "      <td>West</td>\n",
       "      <td>Yes</td>\n",
       "      <td>Excellent</td>\n",
       "      <td>4</td>\n",
       "    </tr>\n",
       "    <tr>\n",
       "      <th>1</th>\n",
       "      <td>850</td>\n",
       "      <td>ND</td>\n",
       "      <td>58068</td>\n",
       "      <td>Midwest</td>\n",
       "      <td>Yes</td>\n",
       "      <td>Excellent</td>\n",
       "      <td>4</td>\n",
       "    </tr>\n",
       "    <tr>\n",
       "      <th>2</th>\n",
       "      <td>280</td>\n",
       "      <td>NY</td>\n",
       "      <td>10007</td>\n",
       "      <td>Northeast</td>\n",
       "      <td>Yes</td>\n",
       "      <td>Excellent</td>\n",
       "      <td>3</td>\n",
       "    </tr>\n",
       "    <tr>\n",
       "      <th>3</th>\n",
       "      <td>1574</td>\n",
       "      <td>WY</td>\n",
       "      <td>83120</td>\n",
       "      <td>West</td>\n",
       "      <td>No</td>\n",
       "      <td>Good</td>\n",
       "      <td>4</td>\n",
       "    </tr>\n",
       "    <tr>\n",
       "      <th>4</th>\n",
       "      <td>110</td>\n",
       "      <td>CO</td>\n",
       "      <td>80403</td>\n",
       "      <td>West</td>\n",
       "      <td>Yes</td>\n",
       "      <td>Excellent</td>\n",
       "      <td>4</td>\n",
       "    </tr>\n",
       "  </tbody>\n",
       "</table>\n",
       "</div>"
      ],
      "text/plain": [
       "    CID State    ZIP     Region loyaltyProgram buyerRating  buyerSatisfaction\n",
       "0  1700    MT  59821       West            Yes   Excellent                  4\n",
       "1   850    ND  58068    Midwest            Yes   Excellent                  4\n",
       "2   280    NY  10007  Northeast            Yes   Excellent                  3\n",
       "3  1574    WY  83120       West             No        Good                  4\n",
       "4   110    CO  80403       West            Yes   Excellent                  4"
      ]
     },
     "execution_count": 26,
     "metadata": {},
     "output_type": "execute_result"
    }
   ],
   "source": [
    "##\n",
    "## Import a second DataFrame on the customers\n",
    "##\n",
    "file = r'../data/customers.csv'\n",
    "df_cust = pd.read_csv( file )\n",
    "df_cust.head()"
   ]
  },
  {
   "cell_type": "code",
   "execution_count": 27,
   "metadata": {
    "scrolled": true
   },
   "outputs": [
    {
     "data": {
      "text/html": [
       "<div>\n",
       "<style scoped>\n",
       "    .dataframe tbody tr th:only-of-type {\n",
       "        vertical-align: middle;\n",
       "    }\n",
       "\n",
       "    .dataframe tbody tr th {\n",
       "        vertical-align: top;\n",
       "    }\n",
       "\n",
       "    .dataframe thead th {\n",
       "        text-align: right;\n",
       "    }\n",
       "</style>\n",
       "<table border=\"1\" class=\"dataframe\">\n",
       "  <thead>\n",
       "    <tr style=\"text-align: right;\">\n",
       "      <th></th>\n",
       "      <th>Onum</th>\n",
       "      <th>CID</th>\n",
       "      <th>Tdate</th>\n",
       "      <th>Pline</th>\n",
       "      <th>...</th>\n",
       "      <th>Region</th>\n",
       "      <th>loyaltyProgram</th>\n",
       "      <th>buyerRating</th>\n",
       "      <th>buyerSatisfaction</th>\n",
       "    </tr>\n",
       "  </thead>\n",
       "  <tbody>\n",
       "    <tr>\n",
       "      <th>0</th>\n",
       "      <td>585</td>\n",
       "      <td>1015</td>\n",
       "      <td>2004-01-25</td>\n",
       "      <td>Living Room</td>\n",
       "      <td>...</td>\n",
       "      <td>Midwest</td>\n",
       "      <td>Yes</td>\n",
       "      <td>Good</td>\n",
       "      <td>2</td>\n",
       "    </tr>\n",
       "    <tr>\n",
       "      <th>1</th>\n",
       "      <td>586</td>\n",
       "      <td>1015</td>\n",
       "      <td>2004-01-25</td>\n",
       "      <td>Living Room</td>\n",
       "      <td>...</td>\n",
       "      <td>Midwest</td>\n",
       "      <td>Yes</td>\n",
       "      <td>Good</td>\n",
       "      <td>2</td>\n",
       "    </tr>\n",
       "    <tr>\n",
       "      <th>2</th>\n",
       "      <td>587</td>\n",
       "      <td>1015</td>\n",
       "      <td>2004-01-25</td>\n",
       "      <td>Living Room</td>\n",
       "      <td>...</td>\n",
       "      <td>Midwest</td>\n",
       "      <td>Yes</td>\n",
       "      <td>Good</td>\n",
       "      <td>2</td>\n",
       "    </tr>\n",
       "    <tr>\n",
       "      <th>3</th>\n",
       "      <td>588</td>\n",
       "      <td>1015</td>\n",
       "      <td>2004-01-25</td>\n",
       "      <td>Living Room</td>\n",
       "      <td>...</td>\n",
       "      <td>Midwest</td>\n",
       "      <td>Yes</td>\n",
       "      <td>Good</td>\n",
       "      <td>2</td>\n",
       "    </tr>\n",
       "    <tr>\n",
       "      <th>4</th>\n",
       "      <td>589</td>\n",
       "      <td>1015</td>\n",
       "      <td>2004-01-25</td>\n",
       "      <td>Living Room</td>\n",
       "      <td>...</td>\n",
       "      <td>Midwest</td>\n",
       "      <td>Yes</td>\n",
       "      <td>Good</td>\n",
       "      <td>2</td>\n",
       "    </tr>\n",
       "  </tbody>\n",
       "</table>\n",
       "<p>5 rows × 27 columns</p>\n",
       "</div>"
      ],
      "text/plain": [
       "   Onum   CID      Tdate        Pline        ...           Region  \\\n",
       "0   585  1015 2004-01-25  Living Room        ...          Midwest   \n",
       "1   586  1015 2004-01-25  Living Room        ...          Midwest   \n",
       "2   587  1015 2004-01-25  Living Room        ...          Midwest   \n",
       "3   588  1015 2004-01-25  Living Room        ...          Midwest   \n",
       "4   589  1015 2004-01-25  Living Room        ...          Midwest   \n",
       "\n",
       "   loyaltyProgram buyerRating  buyerSatisfaction  \n",
       "0             Yes        Good                  2  \n",
       "1             Yes        Good                  2  \n",
       "2             Yes        Good                  2  \n",
       "3             Yes        Good                  2  \n",
       "4             Yes        Good                  2  \n",
       "\n",
       "[5 rows x 27 columns]"
      ]
     },
     "execution_count": 27,
     "metadata": {},
     "output_type": "execute_result"
    }
   ],
   "source": [
    "##\n",
    "## Do an inner join using CID as the link\n",
    "##\n",
    "df = pd.merge( df_orders, df_cust, on = 'CID' )\n",
    "df.head()"
   ]
  },
  {
   "cell_type": "code",
   "execution_count": 28,
   "metadata": {},
   "outputs": [
    {
     "name": "stdout",
     "output_type": "stream",
     "text": [
      "Shape of the orders DataFrame: (70270, 21)\n",
      "\n",
      "Shape of the new DataFrame: (70270, 27)\n"
     ]
    }
   ],
   "source": [
    "## \n",
    "## Check the shape of the new DataFrame against \n",
    "## that of the orders DataFrame\n",
    "##\n",
    "print( \"Shape of the orders DataFrame: {}\\n\".format( df_orders.shape ) )\n",
    "print( \"Shape of the new DataFrame: {}\".format( df.shape ) )"
   ]
  },
  {
   "cell_type": "markdown",
   "metadata": {},
   "source": [
    "### <font color = blue> Exercises </font>"
   ]
  },
  {
   "cell_type": "markdown",
   "metadata": {},
   "source": [
    "#### <font color = black> Exercise \\#1.5 </font>\n",
    "\n",
    "Merge your order DataFrame and the customer DataFrame.  "
   ]
  },
  {
   "cell_type": "code",
   "execution_count": 29,
   "metadata": {},
   "outputs": [],
   "source": [
    "##\n",
    "## Enter code here\n",
    "##\n"
   ]
  },
  {
   "cell_type": "markdown",
   "metadata": {},
   "source": [
    "**Solution**:"
   ]
  },
  {
   "cell_type": "code",
   "execution_count": 30,
   "metadata": {},
   "outputs": [
    {
     "data": {
      "text/html": [
       "<div>\n",
       "<style scoped>\n",
       "    .dataframe tbody tr th:only-of-type {\n",
       "        vertical-align: middle;\n",
       "    }\n",
       "\n",
       "    .dataframe tbody tr th {\n",
       "        vertical-align: top;\n",
       "    }\n",
       "\n",
       "    .dataframe thead th {\n",
       "        text-align: right;\n",
       "    }\n",
       "</style>\n",
       "<table border=\"1\" class=\"dataframe\">\n",
       "  <thead>\n",
       "    <tr style=\"text-align: right;\">\n",
       "      <th></th>\n",
       "      <th>Onum</th>\n",
       "      <th>CID</th>\n",
       "      <th>Tdate</th>\n",
       "      <th>Pline</th>\n",
       "      <th>...</th>\n",
       "      <th>Region</th>\n",
       "      <th>loyaltyProgram</th>\n",
       "      <th>buyerRating</th>\n",
       "      <th>buyerSatisfaction</th>\n",
       "    </tr>\n",
       "  </thead>\n",
       "  <tbody>\n",
       "    <tr>\n",
       "      <th>0</th>\n",
       "      <td>585</td>\n",
       "      <td>1015</td>\n",
       "      <td>2004-01-25</td>\n",
       "      <td>Living Room</td>\n",
       "      <td>...</td>\n",
       "      <td>Midwest</td>\n",
       "      <td>Yes</td>\n",
       "      <td>Good</td>\n",
       "      <td>2</td>\n",
       "    </tr>\n",
       "    <tr>\n",
       "      <th>1</th>\n",
       "      <td>586</td>\n",
       "      <td>1015</td>\n",
       "      <td>2004-01-25</td>\n",
       "      <td>Living Room</td>\n",
       "      <td>...</td>\n",
       "      <td>Midwest</td>\n",
       "      <td>Yes</td>\n",
       "      <td>Good</td>\n",
       "      <td>2</td>\n",
       "    </tr>\n",
       "    <tr>\n",
       "      <th>2</th>\n",
       "      <td>587</td>\n",
       "      <td>1015</td>\n",
       "      <td>2004-01-25</td>\n",
       "      <td>Living Room</td>\n",
       "      <td>...</td>\n",
       "      <td>Midwest</td>\n",
       "      <td>Yes</td>\n",
       "      <td>Good</td>\n",
       "      <td>2</td>\n",
       "    </tr>\n",
       "    <tr>\n",
       "      <th>3</th>\n",
       "      <td>588</td>\n",
       "      <td>1015</td>\n",
       "      <td>2004-01-25</td>\n",
       "      <td>Living Room</td>\n",
       "      <td>...</td>\n",
       "      <td>Midwest</td>\n",
       "      <td>Yes</td>\n",
       "      <td>Good</td>\n",
       "      <td>2</td>\n",
       "    </tr>\n",
       "    <tr>\n",
       "      <th>4</th>\n",
       "      <td>589</td>\n",
       "      <td>1015</td>\n",
       "      <td>2004-01-25</td>\n",
       "      <td>Living Room</td>\n",
       "      <td>...</td>\n",
       "      <td>Midwest</td>\n",
       "      <td>Yes</td>\n",
       "      <td>Good</td>\n",
       "      <td>2</td>\n",
       "    </tr>\n",
       "  </tbody>\n",
       "</table>\n",
       "<p>5 rows × 27 columns</p>\n",
       "</div>"
      ],
      "text/plain": [
       "   Onum   CID      Tdate        Pline        ...           Region  \\\n",
       "0   585  1015 2004-01-25  Living Room        ...          Midwest   \n",
       "1   586  1015 2004-01-25  Living Room        ...          Midwest   \n",
       "2   587  1015 2004-01-25  Living Room        ...          Midwest   \n",
       "3   588  1015 2004-01-25  Living Room        ...          Midwest   \n",
       "4   589  1015 2004-01-25  Living Room        ...          Midwest   \n",
       "\n",
       "   loyaltyProgram buyerRating  buyerSatisfaction  \n",
       "0             Yes        Good                  2  \n",
       "1             Yes        Good                  2  \n",
       "2             Yes        Good                  2  \n",
       "3             Yes        Good                  2  \n",
       "4             Yes        Good                  2  \n",
       "\n",
       "[5 rows x 27 columns]"
      ]
     },
     "execution_count": 30,
     "metadata": {},
     "output_type": "execute_result"
    }
   ],
   "source": [
    "##\n",
    "## Do an inner join using CID as the link\n",
    "##\n",
    "df = pd.merge( df_orders, df_cust, on = 'CID' )\n",
    "df.head()"
   ]
  },
  {
   "cell_type": "markdown",
   "metadata": {},
   "source": [
    "## <font color = black> Summary Statistics for Your Data </font>\n",
    "\n",
    "Summary statistics are a mainstay for starting any analysis.  Pandas has all the usual descriptve statistics.  One function, *describe()* will display the essential ones."
   ]
  },
  {
   "cell_type": "code",
   "execution_count": 31,
   "metadata": {
    "scrolled": false
   },
   "outputs": [
    {
     "data": {
      "text/html": [
       "<div>\n",
       "<style scoped>\n",
       "    .dataframe tbody tr th:only-of-type {\n",
       "        vertical-align: middle;\n",
       "    }\n",
       "\n",
       "    .dataframe tbody tr th {\n",
       "        vertical-align: top;\n",
       "    }\n",
       "\n",
       "    .dataframe thead th {\n",
       "        text-align: right;\n",
       "    }\n",
       "</style>\n",
       "<table border=\"1\" class=\"dataframe\">\n",
       "  <thead>\n",
       "    <tr style=\"text-align: right;\">\n",
       "      <th></th>\n",
       "      <th>Ddisc</th>\n",
       "      <th>Cdisc</th>\n",
       "      <th>Odisc</th>\n",
       "      <th>Pdisc</th>\n",
       "      <th>Tdisc</th>\n",
       "    </tr>\n",
       "  </thead>\n",
       "  <tbody>\n",
       "    <tr>\n",
       "      <th>count</th>\n",
       "      <td>70262.0</td>\n",
       "      <td>70261.0</td>\n",
       "      <td>70266.0</td>\n",
       "      <td>70268.0</td>\n",
       "      <td>70270.0</td>\n",
       "    </tr>\n",
       "    <tr>\n",
       "      <th>mean</th>\n",
       "      <td>0.1</td>\n",
       "      <td>0.1</td>\n",
       "      <td>0.1</td>\n",
       "      <td>0.0</td>\n",
       "      <td>0.3</td>\n",
       "    </tr>\n",
       "    <tr>\n",
       "      <th>std</th>\n",
       "      <td>0.0</td>\n",
       "      <td>0.0</td>\n",
       "      <td>0.0</td>\n",
       "      <td>0.0</td>\n",
       "      <td>0.0</td>\n",
       "    </tr>\n",
       "    <tr>\n",
       "      <th>min</th>\n",
       "      <td>0.0</td>\n",
       "      <td>0.0</td>\n",
       "      <td>0.0</td>\n",
       "      <td>0.0</td>\n",
       "      <td>0.0</td>\n",
       "    </tr>\n",
       "    <tr>\n",
       "      <th>25%</th>\n",
       "      <td>0.1</td>\n",
       "      <td>0.1</td>\n",
       "      <td>0.0</td>\n",
       "      <td>0.0</td>\n",
       "      <td>0.2</td>\n",
       "    </tr>\n",
       "    <tr>\n",
       "      <th>50%</th>\n",
       "      <td>0.1</td>\n",
       "      <td>0.1</td>\n",
       "      <td>0.0</td>\n",
       "      <td>0.0</td>\n",
       "      <td>0.3</td>\n",
       "    </tr>\n",
       "    <tr>\n",
       "      <th>75%</th>\n",
       "      <td>0.2</td>\n",
       "      <td>0.1</td>\n",
       "      <td>0.1</td>\n",
       "      <td>0.0</td>\n",
       "      <td>0.3</td>\n",
       "    </tr>\n",
       "    <tr>\n",
       "      <th>max</th>\n",
       "      <td>0.2</td>\n",
       "      <td>0.1</td>\n",
       "      <td>0.1</td>\n",
       "      <td>0.1</td>\n",
       "      <td>0.4</td>\n",
       "    </tr>\n",
       "  </tbody>\n",
       "</table>\n",
       "</div>"
      ],
      "text/plain": [
       "         Ddisc    Cdisc    Odisc    Pdisc    Tdisc\n",
       "count  70262.0  70261.0  70266.0  70268.0  70270.0\n",
       "mean       0.1      0.1      0.1      0.0      0.3\n",
       "std        0.0      0.0      0.0      0.0      0.0\n",
       "min        0.0      0.0      0.0      0.0      0.0\n",
       "25%        0.1      0.1      0.0      0.0      0.2\n",
       "50%        0.1      0.1      0.0      0.0      0.3\n",
       "75%        0.2      0.1      0.1      0.0      0.3\n",
       "max        0.2      0.1      0.1      0.1      0.4"
      ]
     },
     "execution_count": 31,
     "metadata": {},
     "output_type": "execute_result"
    }
   ],
   "source": [
    "##\n",
    "## Example: \"describe\" is a method attached to the DataFrame so it requires ().\n",
    "## Round to 1 decimal place for readability (more decimal places are\n",
    "## unnecessay, anyway).\n",
    "##\n",
    "## Display the descriptive statistics for the discounts\n",
    "##\n",
    "x = [ 'Ddisc', 'Cdisc', 'Odisc', 'Pdisc', 'Tdisc' ]\n",
    "df[ x ].describe().round( 1 )"
   ]
  },
  {
   "cell_type": "markdown",
   "metadata": {},
   "source": [
    "The above report for the descriptive statistics is a challenge to read.  I prefer to have the statistics as the columns.  This can easily be done once you recognize that the report is just a matrix.  Matrices can be transposed which could help you read the report more easily.  Use the \"*T*\" attribute to transpose a matrix."
   ]
  },
  {
   "cell_type": "code",
   "execution_count": 32,
   "metadata": {},
   "outputs": [
    {
     "data": {
      "text/html": [
       "<div>\n",
       "<style scoped>\n",
       "    .dataframe tbody tr th:only-of-type {\n",
       "        vertical-align: middle;\n",
       "    }\n",
       "\n",
       "    .dataframe tbody tr th {\n",
       "        vertical-align: top;\n",
       "    }\n",
       "\n",
       "    .dataframe thead th {\n",
       "        text-align: right;\n",
       "    }\n",
       "</style>\n",
       "<table border=\"1\" class=\"dataframe\">\n",
       "  <thead>\n",
       "    <tr style=\"text-align: right;\">\n",
       "      <th></th>\n",
       "      <th>count</th>\n",
       "      <th>mean</th>\n",
       "      <th>std</th>\n",
       "      <th>min</th>\n",
       "      <th>25%</th>\n",
       "      <th>50%</th>\n",
       "      <th>75%</th>\n",
       "      <th>max</th>\n",
       "    </tr>\n",
       "  </thead>\n",
       "  <tbody>\n",
       "    <tr>\n",
       "      <th>Ddisc</th>\n",
       "      <td>70262.0</td>\n",
       "      <td>0.1</td>\n",
       "      <td>0.0</td>\n",
       "      <td>0.0</td>\n",
       "      <td>0.1</td>\n",
       "      <td>0.1</td>\n",
       "      <td>0.2</td>\n",
       "      <td>0.2</td>\n",
       "    </tr>\n",
       "    <tr>\n",
       "      <th>Cdisc</th>\n",
       "      <td>70261.0</td>\n",
       "      <td>0.1</td>\n",
       "      <td>0.0</td>\n",
       "      <td>0.0</td>\n",
       "      <td>0.1</td>\n",
       "      <td>0.1</td>\n",
       "      <td>0.1</td>\n",
       "      <td>0.1</td>\n",
       "    </tr>\n",
       "    <tr>\n",
       "      <th>Odisc</th>\n",
       "      <td>70266.0</td>\n",
       "      <td>0.1</td>\n",
       "      <td>0.0</td>\n",
       "      <td>0.0</td>\n",
       "      <td>0.0</td>\n",
       "      <td>0.0</td>\n",
       "      <td>0.1</td>\n",
       "      <td>0.1</td>\n",
       "    </tr>\n",
       "    <tr>\n",
       "      <th>Pdisc</th>\n",
       "      <td>70268.0</td>\n",
       "      <td>0.0</td>\n",
       "      <td>0.0</td>\n",
       "      <td>0.0</td>\n",
       "      <td>0.0</td>\n",
       "      <td>0.0</td>\n",
       "      <td>0.0</td>\n",
       "      <td>0.1</td>\n",
       "    </tr>\n",
       "    <tr>\n",
       "      <th>Tdisc</th>\n",
       "      <td>70270.0</td>\n",
       "      <td>0.3</td>\n",
       "      <td>0.0</td>\n",
       "      <td>0.0</td>\n",
       "      <td>0.2</td>\n",
       "      <td>0.3</td>\n",
       "      <td>0.3</td>\n",
       "      <td>0.4</td>\n",
       "    </tr>\n",
       "  </tbody>\n",
       "</table>\n",
       "</div>"
      ],
      "text/plain": [
       "         count  mean  std  min  25%  50%  75%  max\n",
       "Ddisc  70262.0   0.1  0.0  0.0  0.1  0.1  0.2  0.2\n",
       "Cdisc  70261.0   0.1  0.0  0.0  0.1  0.1  0.1  0.1\n",
       "Odisc  70266.0   0.1  0.0  0.0  0.0  0.0  0.1  0.1\n",
       "Pdisc  70268.0   0.0  0.0  0.0  0.0  0.0  0.0  0.1\n",
       "Tdisc  70270.0   0.3  0.0  0.0  0.2  0.3  0.3  0.4"
      ]
     },
     "execution_count": 32,
     "metadata": {},
     "output_type": "execute_result"
    }
   ],
   "source": [
    "##\n",
    "## Example of transposed matrix\n",
    "##\n",
    "x = [ 'Ddisc', 'Cdisc', 'Odisc', 'Pdisc', 'Tdisc' ]\n",
    "round( df[ x ].describe().round( 1 ).T, 2) "
   ]
  },
  {
   "cell_type": "markdown",
   "metadata": {},
   "source": [
    "From the five number summary (min/25%/50%/75%/max), you can determine the skewness of your data.\n",
    "\n",
    "1. Symmetric: $(75\\% - 50\\%) = (50\\% - 25\\%)$\n",
    "2. Right Skewed: $(75\\% - 50\\%) > (50\\% - 25\\%)$\n",
    "3. Left Skewed: $(75\\% - 50\\%) < (50\\% - 25\\%)$"
   ]
  },
  {
   "cell_type": "markdown",
   "metadata": {},
   "source": [
    "What is the skewness for the Dealer Discount (Ddisc)?\n",
    "\n",
    "**ANSWER**: right skewed"
   ]
  },
  {
   "cell_type": "markdown",
   "metadata": {},
   "source": [
    "There is also a *correlation* method attached to a DataFrame."
   ]
  },
  {
   "cell_type": "code",
   "execution_count": 33,
   "metadata": {},
   "outputs": [
    {
     "data": {
      "text/html": [
       "<div>\n",
       "<style scoped>\n",
       "    .dataframe tbody tr th:only-of-type {\n",
       "        vertical-align: middle;\n",
       "    }\n",
       "\n",
       "    .dataframe tbody tr th {\n",
       "        vertical-align: top;\n",
       "    }\n",
       "\n",
       "    .dataframe thead th {\n",
       "        text-align: right;\n",
       "    }\n",
       "</style>\n",
       "<table border=\"1\" class=\"dataframe\">\n",
       "  <thead>\n",
       "    <tr style=\"text-align: right;\">\n",
       "      <th></th>\n",
       "      <th>Ddisc</th>\n",
       "      <th>Cdisc</th>\n",
       "      <th>Odisc</th>\n",
       "      <th>Pdisc</th>\n",
       "    </tr>\n",
       "  </thead>\n",
       "  <tbody>\n",
       "    <tr>\n",
       "      <th>Ddisc</th>\n",
       "      <td>1.000000</td>\n",
       "      <td>-0.000919</td>\n",
       "      <td>0.001962</td>\n",
       "      <td>-0.003748</td>\n",
       "    </tr>\n",
       "    <tr>\n",
       "      <th>Cdisc</th>\n",
       "      <td>-0.000919</td>\n",
       "      <td>1.000000</td>\n",
       "      <td>0.002217</td>\n",
       "      <td>0.000396</td>\n",
       "    </tr>\n",
       "    <tr>\n",
       "      <th>Odisc</th>\n",
       "      <td>0.001962</td>\n",
       "      <td>0.002217</td>\n",
       "      <td>1.000000</td>\n",
       "      <td>0.002888</td>\n",
       "    </tr>\n",
       "    <tr>\n",
       "      <th>Pdisc</th>\n",
       "      <td>-0.003748</td>\n",
       "      <td>0.000396</td>\n",
       "      <td>0.002888</td>\n",
       "      <td>1.000000</td>\n",
       "    </tr>\n",
       "  </tbody>\n",
       "</table>\n",
       "</div>"
      ],
      "text/plain": [
       "          Ddisc     Cdisc     Odisc     Pdisc\n",
       "Ddisc  1.000000 -0.000919  0.001962 -0.003748\n",
       "Cdisc -0.000919  1.000000  0.002217  0.000396\n",
       "Odisc  0.001962  0.002217  1.000000  0.002888\n",
       "Pdisc -0.003748  0.000396  0.002888  1.000000"
      ]
     },
     "execution_count": 33,
     "metadata": {},
     "output_type": "execute_result"
    }
   ],
   "source": [
    "##\n",
    "## Example: display a correlation matrix of the discounts\n",
    "##\n",
    "x = [ 'Ddisc', 'Cdisc', 'Odisc', 'Pdisc' ]\n",
    "df[ x ].corr()"
   ]
  },
  {
   "cell_type": "markdown",
   "metadata": {},
   "source": [
    "A *heatmap* is sometimes more effective for displaying a correlation matrix. "
   ]
  },
  {
   "cell_type": "code",
   "execution_count": 34,
   "metadata": {},
   "outputs": [
    {
     "data": {
      "text/plain": [
       "Text(0.5,1,'Heatmap of the Correlation Matrix')"
      ]
     },
     "execution_count": 34,
     "metadata": {},
     "output_type": "execute_result"
    },
    {
     "data": {
      "image/png": "[encoded data removed]",
      "text/plain": [
       "<Figure size 432x288 with 2 Axes>"
      ]
     },
     "metadata": {
      "needs_background": "light"
     },
     "output_type": "display_data"
    }
   ],
   "source": [
    "##\n",
    "## Example: plot the correlation matrix as a heatmap\n",
    "##\n",
    "x = [ 'Ddisc', 'Cdisc', 'Odisc', 'Pdisc' ]\n",
    "cor = df[ x ].corr()\n",
    "sns.heatmap( cor ).set_title( 'Heatmap of the Correlation Matrix' )"
   ]
  },
  {
   "cell_type": "markdown",
   "metadata": {},
   "source": [
    "### <font color = blue> Exercises </font>"
   ]
  },
  {
   "cell_type": "markdown",
   "metadata": {},
   "source": [
    "####  <font color = black> Exercise \\#1.6 </font>\n",
    "\n",
    "Display the descriptive statistics for gross revenue, net revenue, contribution, and contribution margin.  Round the answers to two decimal places. "
   ]
  },
  {
   "cell_type": "code",
   "execution_count": 35,
   "metadata": {},
   "outputs": [],
   "source": [
    "##\n",
    "## Enter code here\n",
    "##\n"
   ]
  },
  {
   "cell_type": "markdown",
   "metadata": {},
   "source": [
    "**Solution**:"
   ]
  },
  {
   "cell_type": "code",
   "execution_count": 36,
   "metadata": {},
   "outputs": [
    {
     "data": {
      "text/html": [
       "<div>\n",
       "<style scoped>\n",
       "    .dataframe tbody tr th:only-of-type {\n",
       "        vertical-align: middle;\n",
       "    }\n",
       "\n",
       "    .dataframe tbody tr th {\n",
       "        vertical-align: top;\n",
       "    }\n",
       "\n",
       "    .dataframe thead th {\n",
       "        text-align: right;\n",
       "    }\n",
       "</style>\n",
       "<table border=\"1\" class=\"dataframe\">\n",
       "  <thead>\n",
       "    <tr style=\"text-align: right;\">\n",
       "      <th></th>\n",
       "      <th>count</th>\n",
       "      <th>mean</th>\n",
       "      <th>std</th>\n",
       "      <th>min</th>\n",
       "      <th>25%</th>\n",
       "      <th>50%</th>\n",
       "      <th>75%</th>\n",
       "      <th>max</th>\n",
       "    </tr>\n",
       "  </thead>\n",
       "  <tbody>\n",
       "    <tr>\n",
       "      <th>Rev</th>\n",
       "      <td>70270.0</td>\n",
       "      <td>204.44</td>\n",
       "      <td>112.81</td>\n",
       "      <td>16.95</td>\n",
       "      <td>126.04</td>\n",
       "      <td>178.74</td>\n",
       "      <td>253.69</td>\n",
       "      <td>1795.46</td>\n",
       "    </tr>\n",
       "    <tr>\n",
       "      <th>netRev</th>\n",
       "      <td>70270.0</td>\n",
       "      <td>183.67</td>\n",
       "      <td>116.02</td>\n",
       "      <td>0.00</td>\n",
       "      <td>105.26</td>\n",
       "      <td>161.12</td>\n",
       "      <td>236.13</td>\n",
       "      <td>1795.46</td>\n",
       "    </tr>\n",
       "    <tr>\n",
       "      <th>Con</th>\n",
       "      <td>70270.0</td>\n",
       "      <td>203.20</td>\n",
       "      <td>112.83</td>\n",
       "      <td>15.42</td>\n",
       "      <td>124.65</td>\n",
       "      <td>177.45</td>\n",
       "      <td>252.39</td>\n",
       "      <td>1794.48</td>\n",
       "    </tr>\n",
       "    <tr>\n",
       "      <th>CM</th>\n",
       "      <td>70270.0</td>\n",
       "      <td>0.99</td>\n",
       "      <td>0.00</td>\n",
       "      <td>0.91</td>\n",
       "      <td>0.99</td>\n",
       "      <td>0.99</td>\n",
       "      <td>1.00</td>\n",
       "      <td>1.00</td>\n",
       "    </tr>\n",
       "  </tbody>\n",
       "</table>\n",
       "</div>"
      ],
      "text/plain": [
       "          count    mean     std    min     25%     50%     75%      max\n",
       "Rev     70270.0  204.44  112.81  16.95  126.04  178.74  253.69  1795.46\n",
       "netRev  70270.0  183.67  116.02   0.00  105.26  161.12  236.13  1795.46\n",
       "Con     70270.0  203.20  112.83  15.42  124.65  177.45  252.39  1794.48\n",
       "CM      70270.0    0.99    0.00   0.91    0.99    0.99    1.00     1.00"
      ]
     },
     "execution_count": 36,
     "metadata": {},
     "output_type": "execute_result"
    }
   ],
   "source": [
    "x = [ 'Rev', 'netRev', 'Con', 'CM' ]\n",
    "round( df[ x ].describe().T, 2)"
   ]
  },
  {
   "cell_type": "markdown",
   "metadata": {},
   "source": [
    "####  <font color = black> Exercise \\#1.7 </font>\n",
    "\n",
    "Using your merged orders/customers DataFrame, create a summary statistics display.  What is the skewness of the Total Discount (Tdisc)?"
   ]
  },
  {
   "cell_type": "code",
   "execution_count": 37,
   "metadata": {},
   "outputs": [],
   "source": [
    "##\n",
    "## Enter code here\n",
    "##\n"
   ]
  },
  {
   "cell_type": "markdown",
   "metadata": {},
   "source": [
    "**Solution**:\n",
    "\n",
    "TDisc is right skewed."
   ]
  },
  {
   "cell_type": "code",
   "execution_count": 38,
   "metadata": {
    "scrolled": false
   },
   "outputs": [
    {
     "data": {
      "text/html": [
       "<div>\n",
       "<style scoped>\n",
       "    .dataframe tbody tr th:only-of-type {\n",
       "        vertical-align: middle;\n",
       "    }\n",
       "\n",
       "    .dataframe tbody tr th {\n",
       "        vertical-align: top;\n",
       "    }\n",
       "\n",
       "    .dataframe thead th {\n",
       "        text-align: right;\n",
       "    }\n",
       "</style>\n",
       "<table border=\"1\" class=\"dataframe\">\n",
       "  <thead>\n",
       "    <tr style=\"text-align: right;\">\n",
       "      <th></th>\n",
       "      <th>count</th>\n",
       "      <th>mean</th>\n",
       "      <th>std</th>\n",
       "      <th>min</th>\n",
       "      <th>25%</th>\n",
       "      <th>50%</th>\n",
       "      <th>75%</th>\n",
       "      <th>max</th>\n",
       "    </tr>\n",
       "  </thead>\n",
       "  <tbody>\n",
       "    <tr>\n",
       "      <th>Onum</th>\n",
       "      <td>70270.0</td>\n",
       "      <td>575909.018742</td>\n",
       "      <td>338022.118142</td>\n",
       "      <td>585.000000</td>\n",
       "      <td>288425.250000</td>\n",
       "      <td>560855.500000</td>\n",
       "      <td>879314.750000</td>\n",
       "      <td>1.173642e+06</td>\n",
       "    </tr>\n",
       "    <tr>\n",
       "      <th>CID</th>\n",
       "      <td>70270.0</td>\n",
       "      <td>1311.250021</td>\n",
       "      <td>761.513895</td>\n",
       "      <td>14.000000</td>\n",
       "      <td>636.000000</td>\n",
       "      <td>1279.500000</td>\n",
       "      <td>2011.000000</td>\n",
       "      <td>2.626000e+03</td>\n",
       "    </tr>\n",
       "    <tr>\n",
       "      <th>Usales</th>\n",
       "      <td>70270.0</td>\n",
       "      <td>30.997310</td>\n",
       "      <td>18.953480</td>\n",
       "      <td>2.000000</td>\n",
       "      <td>18.000000</td>\n",
       "      <td>26.000000</td>\n",
       "      <td>39.000000</td>\n",
       "      <td>3.380000e+02</td>\n",
       "    </tr>\n",
       "    <tr>\n",
       "      <th>returnAmount</th>\n",
       "      <td>70270.0</td>\n",
       "      <td>3.151188</td>\n",
       "      <td>8.908806</td>\n",
       "      <td>0.000000</td>\n",
       "      <td>0.000000</td>\n",
       "      <td>0.000000</td>\n",
       "      <td>0.000000</td>\n",
       "      <td>1.580000e+02</td>\n",
       "    </tr>\n",
       "    <tr>\n",
       "      <th>Mcost</th>\n",
       "      <td>70270.0</td>\n",
       "      <td>1.246712</td>\n",
       "      <td>0.182570</td>\n",
       "      <td>0.950000</td>\n",
       "      <td>1.080000</td>\n",
       "      <td>1.270000</td>\n",
       "      <td>1.330000</td>\n",
       "      <td>1.530000e+00</td>\n",
       "    </tr>\n",
       "    <tr>\n",
       "      <th>Lprice</th>\n",
       "      <td>70270.0</td>\n",
       "      <td>7.124275</td>\n",
       "      <td>1.043404</td>\n",
       "      <td>5.400000</td>\n",
       "      <td>6.180000</td>\n",
       "      <td>7.230000</td>\n",
       "      <td>7.600000</td>\n",
       "      <td>8.760000e+00</td>\n",
       "    </tr>\n",
       "    <tr>\n",
       "      <th>Ddisc</th>\n",
       "      <td>70262.0</td>\n",
       "      <td>0.122091</td>\n",
       "      <td>0.040884</td>\n",
       "      <td>0.045000</td>\n",
       "      <td>0.086000</td>\n",
       "      <td>0.116000</td>\n",
       "      <td>0.157000</td>\n",
       "      <td>2.150000e-01</td>\n",
       "    </tr>\n",
       "    <tr>\n",
       "      <th>Cdisc</th>\n",
       "      <td>70261.0</td>\n",
       "      <td>0.069948</td>\n",
       "      <td>0.020182</td>\n",
       "      <td>0.035000</td>\n",
       "      <td>0.053000</td>\n",
       "      <td>0.070000</td>\n",
       "      <td>0.087000</td>\n",
       "      <td>1.050000e-01</td>\n",
       "    </tr>\n",
       "    <tr>\n",
       "      <th>Odisc</th>\n",
       "      <td>70266.0</td>\n",
       "      <td>0.050036</td>\n",
       "      <td>0.014451</td>\n",
       "      <td>0.025000</td>\n",
       "      <td>0.038000</td>\n",
       "      <td>0.050000</td>\n",
       "      <td>0.063000</td>\n",
       "      <td>7.500000e-02</td>\n",
       "    </tr>\n",
       "    <tr>\n",
       "      <th>Pdisc</th>\n",
       "      <td>70268.0</td>\n",
       "      <td>0.039978</td>\n",
       "      <td>0.011547</td>\n",
       "      <td>0.020000</td>\n",
       "      <td>0.030000</td>\n",
       "      <td>0.040000</td>\n",
       "      <td>0.050000</td>\n",
       "      <td>6.000000e-02</td>\n",
       "    </tr>\n",
       "    <tr>\n",
       "      <th>Tdisc</th>\n",
       "      <td>70270.0</td>\n",
       "      <td>0.282026</td>\n",
       "      <td>0.049246</td>\n",
       "      <td>0.023000</td>\n",
       "      <td>0.245000</td>\n",
       "      <td>0.279000</td>\n",
       "      <td>0.318000</td>\n",
       "      <td>4.310000e-01</td>\n",
       "    </tr>\n",
       "    <tr>\n",
       "      <th>Pprice</th>\n",
       "      <td>70270.0</td>\n",
       "      <td>6.842249</td>\n",
       "      <td>1.044803</td>\n",
       "      <td>4.979000</td>\n",
       "      <td>5.935000</td>\n",
       "      <td>6.953000</td>\n",
       "      <td>7.390000</td>\n",
       "      <td>8.602000e+00</td>\n",
       "    </tr>\n",
       "    <tr>\n",
       "      <th>Rev</th>\n",
       "      <td>70270.0</td>\n",
       "      <td>204.441831</td>\n",
       "      <td>112.810124</td>\n",
       "      <td>16.948000</td>\n",
       "      <td>126.038250</td>\n",
       "      <td>178.736500</td>\n",
       "      <td>253.691250</td>\n",
       "      <td>1.795456e+03</td>\n",
       "    </tr>\n",
       "    <tr>\n",
       "      <th>Con</th>\n",
       "      <td>70270.0</td>\n",
       "      <td>203.195119</td>\n",
       "      <td>112.833159</td>\n",
       "      <td>15.418000</td>\n",
       "      <td>124.646250</td>\n",
       "      <td>177.452000</td>\n",
       "      <td>252.388750</td>\n",
       "      <td>1.794476e+03</td>\n",
       "    </tr>\n",
       "    <tr>\n",
       "      <th>CM</th>\n",
       "      <td>70270.0</td>\n",
       "      <td>0.991968</td>\n",
       "      <td>0.004792</td>\n",
       "      <td>0.909724</td>\n",
       "      <td>0.989928</td>\n",
       "      <td>0.993068</td>\n",
       "      <td>0.995257</td>\n",
       "      <td>9.994542e-01</td>\n",
       "    </tr>\n",
       "    <tr>\n",
       "      <th>netRev</th>\n",
       "      <td>70270.0</td>\n",
       "      <td>183.673920</td>\n",
       "      <td>116.021050</td>\n",
       "      <td>0.000000</td>\n",
       "      <td>105.255000</td>\n",
       "      <td>161.124000</td>\n",
       "      <td>236.128000</td>\n",
       "      <td>1.795456e+03</td>\n",
       "    </tr>\n",
       "    <tr>\n",
       "      <th>lostRev</th>\n",
       "      <td>70270.0</td>\n",
       "      <td>20.767910</td>\n",
       "      <td>57.100686</td>\n",
       "      <td>0.000000</td>\n",
       "      <td>0.000000</td>\n",
       "      <td>0.000000</td>\n",
       "      <td>0.000000</td>\n",
       "      <td>8.076960e+02</td>\n",
       "    </tr>\n",
       "    <tr>\n",
       "      <th>ZIP</th>\n",
       "      <td>70270.0</td>\n",
       "      <td>59216.683378</td>\n",
       "      <td>28559.994127</td>\n",
       "      <td>1468.000000</td>\n",
       "      <td>33179.000000</td>\n",
       "      <td>64192.000000</td>\n",
       "      <td>84653.000000</td>\n",
       "      <td>9.990100e+04</td>\n",
       "    </tr>\n",
       "    <tr>\n",
       "      <th>buyerSatisfaction</th>\n",
       "      <td>70270.0</td>\n",
       "      <td>3.579052</td>\n",
       "      <td>0.986830</td>\n",
       "      <td>1.000000</td>\n",
       "      <td>3.000000</td>\n",
       "      <td>4.000000</td>\n",
       "      <td>4.000000</td>\n",
       "      <td>5.000000e+00</td>\n",
       "    </tr>\n",
       "  </tbody>\n",
       "</table>\n",
       "</div>"
      ],
      "text/plain": [
       "                     count           mean            std          min  \\\n",
       "Onum               70270.0  575909.018742  338022.118142   585.000000   \n",
       "CID                70270.0    1311.250021     761.513895    14.000000   \n",
       "Usales             70270.0      30.997310      18.953480     2.000000   \n",
       "returnAmount       70270.0       3.151188       8.908806     0.000000   \n",
       "Mcost              70270.0       1.246712       0.182570     0.950000   \n",
       "Lprice             70270.0       7.124275       1.043404     5.400000   \n",
       "Ddisc              70262.0       0.122091       0.040884     0.045000   \n",
       "Cdisc              70261.0       0.069948       0.020182     0.035000   \n",
       "Odisc              70266.0       0.050036       0.014451     0.025000   \n",
       "Pdisc              70268.0       0.039978       0.011547     0.020000   \n",
       "Tdisc              70270.0       0.282026       0.049246     0.023000   \n",
       "Pprice             70270.0       6.842249       1.044803     4.979000   \n",
       "Rev                70270.0     204.441831     112.810124    16.948000   \n",
       "Con                70270.0     203.195119     112.833159    15.418000   \n",
       "CM                 70270.0       0.991968       0.004792     0.909724   \n",
       "netRev             70270.0     183.673920     116.021050     0.000000   \n",
       "lostRev            70270.0      20.767910      57.100686     0.000000   \n",
       "ZIP                70270.0   59216.683378   28559.994127  1468.000000   \n",
       "buyerSatisfaction  70270.0       3.579052       0.986830     1.000000   \n",
       "\n",
       "                             25%            50%            75%           max  \n",
       "Onum               288425.250000  560855.500000  879314.750000  1.173642e+06  \n",
       "CID                   636.000000    1279.500000    2011.000000  2.626000e+03  \n",
       "Usales                 18.000000      26.000000      39.000000  3.380000e+02  \n",
       "returnAmount            0.000000       0.000000       0.000000  1.580000e+02  \n",
       "Mcost                   1.080000       1.270000       1.330000  1.530000e+00  \n",
       "Lprice                  6.180000       7.230000       7.600000  8.760000e+00  \n",
       "Ddisc                   0.086000       0.116000       0.157000  2.150000e-01  \n",
       "Cdisc                   0.053000       0.070000       0.087000  1.050000e-01  \n",
       "Odisc                   0.038000       0.050000       0.063000  7.500000e-02  \n",
       "Pdisc                   0.030000       0.040000       0.050000  6.000000e-02  \n",
       "Tdisc                   0.245000       0.279000       0.318000  4.310000e-01  \n",
       "Pprice                  5.935000       6.953000       7.390000  8.602000e+00  \n",
       "Rev                   126.038250     178.736500     253.691250  1.795456e+03  \n",
       "Con                   124.646250     177.452000     252.388750  1.794476e+03  \n",
       "CM                      0.989928       0.993068       0.995257  9.994542e-01  \n",
       "netRev                105.255000     161.124000     236.128000  1.795456e+03  \n",
       "lostRev                 0.000000       0.000000       0.000000  8.076960e+02  \n",
       "ZIP                 33179.000000   64192.000000   84653.000000  9.990100e+04  \n",
       "buyerSatisfaction       3.000000       4.000000       4.000000  5.000000e+00  "
      ]
     },
     "execution_count": 38,
     "metadata": {},
     "output_type": "execute_result"
    }
   ],
   "source": [
    "df.describe().T"
   ]
  },
  {
   "cell_type": "markdown",
   "metadata": {},
   "source": [
    "####  <font color = black> Exercise \\#1.8 </font>\n",
    "\n",
    "Create a correlation matrix and corresponding heatmap for gross revenue, net revenue, contribution, and contribution margin.  What would you tell your product manager about the correlations?  "
   ]
  },
  {
   "cell_type": "code",
   "execution_count": 39,
   "metadata": {},
   "outputs": [],
   "source": [
    "##\n",
    "## Enter code here\n",
    "##\n"
   ]
  },
  {
   "cell_type": "markdown",
   "metadata": {},
   "source": [
    "**Solution**:"
   ]
  },
  {
   "cell_type": "code",
   "execution_count": 40,
   "metadata": {
    "scrolled": true
   },
   "outputs": [
    {
     "data": {
      "text/plain": [
       "Text(0.5,1,'Heatmap of the Correlation Matrix')"
      ]
     },
     "execution_count": 40,
     "metadata": {},
     "output_type": "execute_result"
    },
    {
     "data": {
      "image/png": "[encoded data removed]",
      "text/plain": [
       "<Figure size 432x288 with 2 Axes>"
      ]
     },
     "metadata": {
      "needs_background": "light"
     },
     "output_type": "display_data"
    }
   ],
   "source": [
    "x = [ 'Rev', 'netRev', 'Con', 'CM' ]\n",
    "cor = df[ x ].corr()\n",
    "sns.heatmap( cor ).set_title( 'Heatmap of the Correlation Matrix' )"
   ]
  },
  {
   "cell_type": "markdown",
   "metadata": {},
   "source": [
    "## <font color = black> What's Next? </font>\n",
    "\n",
    "In Lesson 2, I will show you how to do some basic graphing or *visualization* of your data.  This may seem more like scientific visualization than business visualization.  The latter is usually *infographics* which is not useful for gaining insight and, hence, useful Rich Information.  The former, scientific visualization, is the tool for extracting Rich Information. \n",
    "<br><br><br>\n",
    "<font color = red, size = \"+3\"><b> Five Minute Break </font>"
   ]
  },
  {
   "cell_type": "code",
   "execution_count": null,
   "metadata": {},
   "outputs": [],
   "source": []
  }
 ],
 "metadata": {
  "kernelspec": {
   "display_name": "Python 3",
   "language": "python",
   "name": "python3"
  },
  "language_info": {
   "codemirror_mode": {
    "name": "ipython",
    "version": 3
   },
   "file_extension": ".py",
   "mimetype": "text/x-python",
   "name": "python",
   "nbconvert_exporter": "python",
   "pygments_lexer": "ipython3",
   "version": "3.6.7"
  }
 },
 "nbformat": 4,
 "nbformat_minor": 2
}
