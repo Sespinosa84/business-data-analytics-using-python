{
 "cells": [
  {
   "cell_type": "markdown",
   "metadata": {},
   "source": [
    "<font color = red>Introduction to Business Analytics:<br>Using Python for Better Business Decisions <br><br><font color = blue>Solutions Manual</font>\n",
    "=======\n",
    "<br>\n",
    "    <center><img src=\"http://dataanalyticscorp.com/wp-content/uploads/2018/03/logo.png\"></center>\n",
    "<br>\n",
    "Taught by: \n",
    "\n",
    "* Walter R. Paczkowski, Ph.D. \n",
    "\n",
    "    * My Affliations: [Data Analytics Corp.](http://www.dataanalyticscorp.com/) and [Rutgers University](https://economics.rutgers.edu/people/teaching-personnel)\n",
    "    * [Email Me With Questions](mailto:walt@dataanalyticscorp.com)\n",
    "    * [Learn About Me](http://www.dataanalyticscorp.com/)\n",
    "    * [See My LinkedIn Profile](https://www.linkedin.com/in/walter-paczkowski-a17a1511/)\n",
    " "
   ]
  },
  {
   "cell_type": "markdown",
   "metadata": {},
   "source": [
    "###  <font color = black> Reset the Data from Lesson 1 </font>\n",
    "\n",
    "Resetting the data will ensure that your solutions will match the work you did in Lesson 1."
   ]
  },
  {
   "cell_type": "code",
   "execution_count": null,
   "metadata": {},
   "outputs": [],
   "source": [
    "##\n",
    "## Load packages\n",
    "##\n",
    "import numpy as np\n",
    "import pandas as pd\n",
    "import seaborn as sns\n",
    "import matplotlib.pyplot as plt\n",
    "%matplotlib inline\n",
    "sns.set()\n",
    "##\n",
    "## For modeling, notice the new import command for\n",
    "## the formula API and the summary option\n",
    "##\n",
    "import statsmodels.api as sm\n",
    "import statsmodels.formula.api as smf\n",
    "##\n",
    "## Import the data.  The parse_dates argument says to \n",
    "## treat Tdate as a date object.\n",
    "##\n",
    "file = r'../Data/furniture/final data files/orders.csv'\n",
    "df_orders = pd.read_csv( file, parse_dates = [ 'Tdate' ] )\n",
    "pd.set_option('display.max_columns', 8)\n",
    "##\n",
    "## Initial Calculations\n",
    "##\n",
    "x = [ 'Ddisc', 'Odisc', 'Cdisc', 'Pdisc' ]\n",
    "df_orders[ 'Tdisc' ] = df_orders[ x ].sum( axis = 1 )\n",
    "##\n",
    "df_orders[ 'Pprice' ] = df_orders.Lprice*( 1 - df_orders.Tdisc )\n",
    "##\n",
    "df_orders[ 'Rev' ] = df_orders.Usales * df_orders.Pprice\n",
    "##\n",
    "df_orders[ 'Con' ] = df_orders.Rev - df_orders.Mcost\n",
    "df_orders[ 'CM' ] = df_orders.Con/df_orders.Rev\n",
    "##\n",
    "df_orders[ 'netRev' ] = ( df_orders.Usales - df_orders.returnAmount )*df_orders.Pprice\n",
    "df_orders[ 'lostRev' ] = df_orders.Rev - df_orders.netRev\n",
    "##\n",
    "##\n",
    "## Import a second DataFrame on the customers\n",
    "##\n",
    "file = r'../Data/furniture/final data files/customers.csv'\n",
    "df_cust = pd.read_csv( file )\n",
    "##\n",
    "## Do an inner join using CID as the link\n",
    "##\n",
    "df = pd.merge( df_orders, df_cust, on = 'CID' )\n",
    "#################################################\n",
    "##      The following is for Lesson 3: OLS\n",
    "#################################################\n",
    "##\n",
    "## Import train_test_split\n",
    "##\n",
    "from sklearn.model_selection import train_test_split\n",
    "##\n",
    "## Create the X and y data for splitting\n",
    "##\n",
    "y = df[ 'Usales' ]\n",
    "x = [ 'Pprice', 'Ddisc', 'Odisc', 'Cdisc', 'Pdisc', 'Region', 'buyerRating' ]\n",
    "X = df[ x ]\n",
    "##\n",
    "## Split the data.  The default is 3/4 train.\n",
    "##\n",
    "X_train, X_test, y_train, y_test = train_test_split( X, y, test_size = 0.25,\n",
    "                                                    random_state = 42 ) \n",
    "## \n",
    "## Merge the X and y training data for \n",
    "## model training.\n",
    "##\n",
    "## Rename the y variable: Usales\n",
    "##\n",
    "yy = pd.DataFrame( { 'Usales':y_train } )\n",
    "train = yy.merge( X_train, left_index = True, right_index = True )\n",
    "## \n",
    "## Merge the X and y testing data sets for predicting\n",
    "##\n",
    "## Rename the y variable Usales\n",
    "##\n",
    "yy = pd.DataFrame( { 'Usales':y_test } )\n",
    "test = yy.merge( X_test, left_index = True, right_index = True )\n",
    "##\n",
    "## Add log Usales and log Pprice to the training data\n",
    "## The log is based on the Numpy function log1p\n",
    "## Note: log1p( x ) = log( 1 + x )\n",
    "##\n",
    "train[ 'log_Usales' ] = np.log1p( train.Usales )\n",
    "train[ 'log_Pprice' ] = np.log1p( train.Pprice )\n",
    "##\n",
    "## Repeat for the testing data\n",
    "##\n",
    "test[ 'log_Usales' ] = np.log1p( test.Usales )\n",
    "test[ 'log_Pprice' ] = np.log1p( test.Pprice )"
   ]
  },
  {
   "cell_type": "markdown",
   "metadata": {},
   "source": [
    "## Lesson 1 Exercise Solutions"
   ]
  },
  {
   "cell_type": "markdown",
   "metadata": {},
   "source": [
    "### Solution \\#1.1\n",
    "\n",
    "The *Pocket Price* is the list price less total discounts or total leakages.  It is the amount the business \"pockets\" and is the amount the customer actually pays.  The pocket price formula is $Pprice = Lprice \\times (1  - Tdisc)$.  Calculate the pocket price and display the first five records for the list price and pocket price."
   ]
  },
  {
   "cell_type": "code",
   "execution_count": null,
   "metadata": {},
   "outputs": [],
   "source": [
    "df_orders[ 'Pprice' ] = df_orders.Lprice*( 1 - df_orders.Tdisc )\n",
    "x = [ 'Lprice', 'Tdisc', 'Pprice' ]\n",
    "df_orders[ x ].head()"
   ]
  },
  {
   "cell_type": "markdown",
   "metadata": {},
   "source": [
    "### Solution \\#1.2\n",
    "\n",
    "Merge your order DataFrame and the customer DataFrame.  Name the merged DataFrame *df*."
   ]
  },
  {
   "cell_type": "code",
   "execution_count": null,
   "metadata": {},
   "outputs": [],
   "source": [
    "##\n",
    "## Do an inner join using CID as the link\n",
    "##\n",
    "df = pd.merge( df_orders, df_cust, on = 'CID' )\n",
    "df.head()"
   ]
  },
  {
   "cell_type": "markdown",
   "metadata": {},
   "source": [
    "### Solution \\#1.3\n",
    "\n",
    "Using your merged orders/customers DataFrame, *df*, create a summary statistics display.  What is the skewness of the Total Discount (Tdisc)?"
   ]
  },
  {
   "cell_type": "code",
   "execution_count": null,
   "metadata": {
    "scrolled": false
   },
   "outputs": [],
   "source": [
    "df.describe().T"
   ]
  },
  {
   "cell_type": "markdown",
   "metadata": {},
   "source": [
    "Total Discount is slightly left skewed since the distance between Q! and the median is bigger than the distance between Q3 qnd the median."
   ]
  },
  {
   "cell_type": "markdown",
   "metadata": {},
   "source": [
    "## Appendix 1 Exercises Solutions"
   ]
  },
  {
   "cell_type": "markdown",
   "metadata": {},
   "source": [
    "### Solution \\#A 1.3.1\n",
    "\n",
    "Calculate total revenue as $Rev = Usales \\times Pprice$.  Use the df_orders DataFrame."
   ]
  },
  {
   "cell_type": "code",
   "execution_count": null,
   "metadata": {},
   "outputs": [],
   "source": [
    "##\n",
    "## Multiply Unit Sales and Pocket Price\n",
    "##\n",
    "df_orders[ 'Rev' ] = df_orders.Usales * df_orders.Pprice\n",
    "##\n",
    "## Create a list of unit sales, pocket price, and revenue\n",
    "##\n",
    "x = [ 'Usales', 'Pprice', 'Rev' ]\n",
    "df_orders[ x ].head()"
   ]
  },
  {
   "cell_type": "markdown",
   "metadata": {},
   "source": [
    "### Solution \\#A 1.3.2\n",
    "\n",
    "*Contribution* and *contribution margin* are two values financial analysts often examine.  Contribution is comparable to what economists call *profit* but is more restricted in that it just refers to a product without considering any fixed or overhead costs.  Contribution is $Con = Revenue - Material~Cost$ and contribution margin is $CM = \\dfrac{Con}{Revenue}$.  Calculate both quantities and display the first 5 records of unit sales, pocket price, material cost, revenue, contribution, and contribution margin.  Use the df_orders DataFrame."
   ]
  },
  {
   "cell_type": "code",
   "execution_count": null,
   "metadata": {},
   "outputs": [],
   "source": [
    "##\n",
    "## Contribution: Subtract Material Cost (Mcost from the Data Dictionary) from Revenue\n",
    "##\n",
    "df_orders[ 'Con' ] = df_orders.Rev - df_orders.Mcost\n",
    "##\n",
    "## Contribution Margin: Divide Contribution by Revenue\n",
    "##\n",
    "df_orders[ 'CM' ] = df_orders.Con/df_orders.Rev\n",
    "##\n",
    "## Create a list to display\n",
    "##\n",
    "x = [ 'Usales', 'Pprice', 'Mcost', 'Rev', 'Con', 'CM' ]\n",
    "df_orders[ x ].head( )"
   ]
  },
  {
   "cell_type": "markdown",
   "metadata": {},
   "source": [
    "### Solution \\#A 1.3.3\n",
    "\n",
    "Some products are returned so another revenue number, *revenue net of returns*, is more meaningful and revealing for business decisions.  Net revenue is\n",
    "<br><br>\n",
    "$Net Revenue = (Unit Sales - Returns) \\times Pocket Price$.\n",
    "<br><br>\n",
    "Calculate net revenue and call it 'netRev'.  Also calculate the loss in revenue due to the returns and call it 'lostRev'.  Display the first five records of the DataFrame using just gross revenue, net revenue, and the lost revenue due to returns.  Use the *df_orders* DataFrame.  "
   ]
  },
  {
   "cell_type": "code",
   "execution_count": null,
   "metadata": {},
   "outputs": [],
   "source": [
    "##\n",
    "## Net Revenue: Subtract the amount returned (returnAmount from the Data Dictionary) and \n",
    "## multiply by the Pocket Price\n",
    "##\n",
    "df_orders[ 'netRev' ] = ( df_orders.Usales - df_orders.returnAmount )*df_orders.Pprice\n",
    "##\n",
    "## Lost Revenue: Total revenue less the net revenue\n",
    "##\n",
    "df_orders[ 'lostRev' ] = df_orders.Rev - df_orders.netRev\n",
    "##\n",
    "## Create a list to display\n",
    "##\n",
    "x = [ 'Rev', 'netRev', 'lostRev' ]\n",
    "df_orders[ x ].head()"
   ]
  },
  {
   "cell_type": "markdown",
   "metadata": {},
   "source": [
    "### Solution \\#A 1.3.4\n",
    "\n",
    "Display the descriptive statistics for gross revenue, net revenue, contribution, and contribution margin.  Round the answers to two decimal places.  Use the *df_orders* DataFrame. "
   ]
  },
  {
   "cell_type": "code",
   "execution_count": null,
   "metadata": {},
   "outputs": [],
   "source": [
    "##\n",
    "## Create a list to display\n",
    "##\n",
    "x = [ 'Rev', 'netRev', 'Con', 'CM' ]\n",
    "round( df_orders[ x ].describe().T, 2)"
   ]
  },
  {
   "cell_type": "markdown",
   "metadata": {},
   "source": [
    "### Solution \\#A 1.4.1\n",
    "\n",
    "Create a correlation matrix and corresponding heatmap for gross revenue, net revenue, contribution, and contribution margin.  What would you tell your product manager about the correlations?  Use the *df_orders* DataFrame.  "
   ]
  },
  {
   "cell_type": "code",
   "execution_count": null,
   "metadata": {},
   "outputs": [],
   "source": [
    "##\n",
    "## Create a list to display\n",
    "##\n",
    "x = [ 'Rev', 'netRev', 'Con', 'CM' ]\n",
    "##\n",
    "## Calculate the correlations\n",
    "##\n",
    "cor = df_orders[ x ].corr()\n",
    "cor"
   ]
  },
  {
   "cell_type": "code",
   "execution_count": null,
   "metadata": {},
   "outputs": [],
   "source": [
    "##\n",
    "## Create a heatmap\n",
    "##\n",
    "sns.heatmap( cor ).set_title( 'Heatmap of the Correlation Matrix' )"
   ]
  },
  {
   "cell_type": "markdown",
   "metadata": {},
   "source": [
    "**_Interpretation_**\n",
    "\n",
    "The correlation matrix shows a high positive linear association between revenue and net revenue, contribution, and contribution margin.  This should be expected since the last three are all ultimately a function of revenue."
   ]
  },
  {
   "cell_type": "markdown",
   "metadata": {},
   "source": [
    "## Lesson 2 Exercise Solutions"
   ]
  },
  {
   "cell_type": "markdown",
   "metadata": {},
   "source": [
    "### Solution \\#2.1 \n",
    "\n",
    "Check the Customer Loyalty and Buyer Rating counts and proportions."
   ]
  },
  {
   "cell_type": "code",
   "execution_count": null,
   "metadata": {},
   "outputs": [],
   "source": [
    "df.loyaltyProgram.value_counts()  ## Use the \"normalize = True\" argument for proportions "
   ]
  },
  {
   "cell_type": "code",
   "execution_count": null,
   "metadata": {},
   "outputs": [],
   "source": [
    "df.buyerRating.value_counts()  ## Use the \"normalize = True\" argument for proportions"
   ]
  },
  {
   "cell_type": "markdown",
   "metadata": {},
   "source": [
    "### Solution  \\#2.2 \n",
    "\n",
    "Examine the Midwestern region. This is more complicated since there are missing values in the Midwest. First use df.dropna( axis = 0, inplace = True ) to remove them.\n",
    "\n",
    "Hint: Use the Pandas *dropna* method with the *inplace = True* argument."
   ]
  },
  {
   "cell_type": "code",
   "execution_count": null,
   "metadata": {},
   "outputs": [],
   "source": [
    "##\n",
    "## Example\n",
    "##\n",
    "## Drop all rows with at least one missing value\n",
    "## This example uses a temporary DataFrame\n",
    "##\n",
    "x = [ 'Tdisc', 'Ddisc', 'Cdisc', 'Odisc', 'Pdisc' ]\n",
    "tmp = df.loc[ df.Region == 'Midwest', x ]\n",
    "##\n",
    "## Before\n",
    "##\n",
    "print( '\\nBefore:\\n' )\n",
    "print( tmp.info() )\n",
    "##\n",
    "## After\n",
    "##\n",
    "tmp.dropna( inplace = True )  ## axis = 0 is the default \n",
    "print( '\\nAfter:\\n' )\n",
    "print( tmp.info() )"
   ]
  },
  {
   "cell_type": "code",
   "execution_count": null,
   "metadata": {},
   "outputs": [],
   "source": [
    "x = [ 'Ddisc', 'Cdisc', 'Odisc', 'Pdisc' ]\n",
    "df_midwest = df.loc[ df.Region == 'Midwest', x ]\n",
    "df_midwest.dropna( inplace = True )\n",
    "##\n",
    "## Box plot of discounts\n",
    "##\n",
    "ax = sns.boxplot(x = \"variable\", y = \"value\", data = pd.melt( df_midwest ) )\n",
    "ax.set( title = 'Discount Distribution\\nMidwest Marketing Region', \n",
    "       xlabel = 'Type of Discount',\n",
    "      ylabel = 'Discount Amount')\n",
    "ax.set_xticklabels( [ 'Dealer', 'Order\\nSize', 'Competitive', 'Pickup' ] )"
   ]
  },
  {
   "cell_type": "markdown",
   "metadata": {},
   "source": [
    "### Solution \\#2.3\n",
    "\n",
    "Examine the distribution of net revenue by region, loyalty program, and buyer rating using boxplots.  What can you conclude?"
   ]
  },
  {
   "cell_type": "code",
   "execution_count": null,
   "metadata": {
    "scrolled": false
   },
   "outputs": [],
   "source": [
    "##\n",
    "## Net revenue by region\n",
    "##\n",
    "ax = sns.boxplot(x = \"Region\", y = \"netRev\", data = df )\n",
    "ax.set( title = 'Net Revenue Distribution\\nMarketing Region', \n",
    "       xlabel = 'Marketing Region',\n",
    "      ylabel = 'Net Revenue')"
   ]
  },
  {
   "cell_type": "code",
   "execution_count": null,
   "metadata": {
    "scrolled": false
   },
   "outputs": [],
   "source": [
    "##\n",
    "## Net revenue by Loyalty Program\n",
    "##\n",
    "ax = sns.boxplot(x = \"loyaltyProgram\", y = \"netRev\", data = df )\n",
    "ax.set( title = 'Net Revenue Distribution\\nLoyalty Program Membership', \n",
    "       xlabel = 'Loyalty Program Membership',\n",
    "      ylabel = 'Net Revenue')"
   ]
  },
  {
   "cell_type": "code",
   "execution_count": null,
   "metadata": {
    "scrolled": false
   },
   "outputs": [],
   "source": [
    "##\n",
    "## Net revenue by Buyer Rating\n",
    "##\n",
    "ax = sns.boxplot(x = \"buyerRating\", y = \"netRev\", data = df )\n",
    "ax.set( title = 'Net Revenue Distribution\\nBuyer Rating', \n",
    "       xlabel = 'Buyer Rating',\n",
    "      ylabel = 'Net Revenue')"
   ]
  },
  {
   "cell_type": "markdown",
   "metadata": {},
   "source": [
    "**_Interpretation_**\n",
    "\n",
    "The distributions are difficult to interpret because there are so many outliers.  You could make them more interpretatble by deleting outliers.  Try the following for the Buyer Rating distribution."
   ]
  },
  {
   "cell_type": "code",
   "execution_count": null,
   "metadata": {
    "scrolled": false
   },
   "outputs": [],
   "source": [
    "##\n",
    "## Net revenue by Buyer Rating with net Revenue less than $300\n",
    "##\n",
    "tmp = df[ df.netRev < 300 ]\n",
    "ax = sns.boxplot(x = \"buyerRating\", y = \"netRev\", data = tmp )\n",
    "ax.set( title = 'Net Revenue Distribution\\nBuyer Rating\\nNet Revenue Less than $300', \n",
    "       xlabel = 'Buyer Rating',\n",
    "      ylabel = 'Net Revenue')"
   ]
  },
  {
   "cell_type": "markdown",
   "metadata": {},
   "source": [
    "**_Interpretation_**\n",
    "\n",
    "The distribution is the same regardless of the buyer rating for net revenue below \\\\$300.  You cn examine the distribution for net revenue greater than \\\\$300."
   ]
  },
  {
   "cell_type": "code",
   "execution_count": null,
   "metadata": {},
   "outputs": [],
   "source": [
    "##\n",
    "## Net revenue by Buyer Rating with net Revenue greater than $300\n",
    "##\n",
    "tmp = df[ df.netRev > 300 ]\n",
    "ax = sns.boxplot(x = \"buyerRating\", y = \"netRev\", data = tmp )\n",
    "ax.set( title = 'Net Revenue Distribution\\nBuyer Rating\\nNet Revenue Greater than $300', \n",
    "       xlabel = 'Buyer Rating',\n",
    "      ylabel = 'Net Revenue')"
   ]
  },
  {
   "cell_type": "markdown",
   "metadata": {},
   "source": [
    "### Solution \\#2.4\n",
    "\n",
    "Study the relationship between any two variables of your choice. What can you conclude?"
   ]
  },
  {
   "cell_type": "code",
   "execution_count": null,
   "metadata": {},
   "outputs": [],
   "source": [
    "##\n",
    "## No solution -- you can look at two variables of your choice.\n",
    "##"
   ]
  },
  {
   "cell_type": "markdown",
   "metadata": {},
   "source": [
    "## Lesson 3"
   ]
  },
  {
   "cell_type": "markdown",
   "metadata": {},
   "source": [
    "### Solution \\#3.1\n",
    "\n",
    "Estimate a new OLS model by adding the buyer rating to the above model. Interpret your results.  Is the buyer rating important for sales?\n",
    "\n",
    "Hint: Buyer rating is categorical so you have to create dummies for the rating.  "
   ]
  },
  {
   "cell_type": "code",
   "execution_count": null,
   "metadata": {},
   "outputs": [],
   "source": [
    "## \n",
    "## OLS\n",
    "##\n",
    "## There are four steps for estimatng a model:\n",
    "##   1. define a formula (i.e., the specific model to estimate)\n",
    "##   2. instantiate the model (i.e., specify it)\n",
    "##   3. fit the model\n",
    "##   4. summarize the fitted model\n",
    "##\n",
    "## ===> Step 1: Define a formula\n",
    "##\n",
    "## The formula uses a “~” to separate the left-hand side from the right-hand side\n",
    "## of a model and a “+” to add columns to the right-hand side.  A “-” sign (not \n",
    "## used here) can be used to remove columns from the right-hand side (e.g.,\n",
    "## remove or omit the constant term which is always included by default). \n",
    "##\n",
    "formula = 'log_Usales ~ log_Pprice + Ddisc + Odisc + Cdisc + Pdisc + C( Region ) + C( buyerRating )'\n",
    "##\n",
    "## Since Region is categorical, you must create dummies for the regions.  You\n",
    "## do this using 'C( Region )' to indicate that Region is categorical.\n",
    "##\n",
    "## ===> Step 2: Instantiate the OLS model\n",
    "##\n",
    "mod = smf.ols( formula, data = train )\n",
    "##\n",
    "## ===> Step 3: Fit the instantiated model\n",
    "##      Recommendation: number your models\n",
    "##      This numbering includes an \"E\" for \"Exercise\"\n",
    "##\n",
    "regE01 = mod.fit()\n",
    "##\n",
    "## ===> Step 4: Summarize the fitted model\n",
    "##\n",
    "print( regE01.summary() )\n"
   ]
  },
  {
   "cell_type": "markdown",
   "metadata": {},
   "source": [
    "**_Interpretation_**\n",
    "\n",
    "The buyer rating is highly insignificant so this variable is not important and can be omitted in a next iteration of estimation."
   ]
  },
  {
   "cell_type": "markdown",
   "metadata": {},
   "source": [
    "### Solution \\#3.2\n",
    "\n",
    "Test the Null Hypothesis that all the buyer rating estimated parameters are zero.  That is, there is no difference among the ratings."
   ]
  },
  {
   "cell_type": "code",
   "execution_count": null,
   "metadata": {},
   "outputs": [],
   "source": [
    "##\n",
    "## F-test for the buyer ratings\n",
    "##\n",
    "hypothesis = ' ( C(buyerRating)[T.Good] = 0, C(buyerRating)[T.Poor] = 0 ) '\n",
    "##\n",
    "## Run and print an F-test \n",
    "##\n",
    "f_test = regE01.f_test( hypothesis )\n",
    "f_test.summary()"
   ]
  },
  {
   "cell_type": "markdown",
   "metadata": {},
   "source": [
    "**_Interpretation_**\n",
    "\n",
    "Buyer Rating is highly insignificant (i.e., do not reject the Null Hypothesis) because the p-value is 0.68 which is greater than 0.05.  We already know this result."
   ]
  },
  {
   "cell_type": "markdown",
   "metadata": {},
   "source": [
    "### Solution \\#3.4\n",
    "\n",
    "Interpret the decision tree."
   ]
  }
 ],
 "metadata": {
  "kernelspec": {
   "display_name": "Python 3",
   "language": "python",
   "name": "python3"
  },
  "language_info": {
   "codemirror_mode": {
    "name": "ipython",
    "version": 3
   },
   "file_extension": ".py",
   "mimetype": "text/x-python",
   "name": "python",
   "nbconvert_exporter": "python",
   "pygments_lexer": "ipython3",
   "version": "3.6.8"
  }
 },
 "nbformat": 4,
 "nbformat_minor": 2
}
